{
 "cells": [
  {
   "cell_type": "code",
   "execution_count": null,
   "id": "5178ac58",
   "metadata": {},
   "outputs": [],
   "source": [
    "# Configure Drive or Jupyter notebook -- only runs when first loaded\n",
    "if \"CONFIG_DONE\" not in globals():\n",
    "    # Need to mount drive and clone repo to access data and functions\n",
    "    try:\n",
    "        from google.colab import drive  # type: ignore\n",
    "\n",
    "        IN_COLAB = True\n",
    "\n",
    "        # clone repo\n",
    "        !git clone https://github.com/doctorsmylie/mtg-draft-agent\n",
    "        %cd mtg-draft-agent\n",
    "\n",
    "    except ModuleNotFoundError:\n",
    "        IN_COLAB = False\n",
    "\n",
    "    # Finish configuration -- also configures notebook outside of Colab\n",
    "    %run \"project_path.ipynb\"\n",
    "else:\n",
    "    print(\"Config done already\")"
   ]
  },
  {
   "cell_type": "code",
   "execution_count": null,
   "id": "fd8833c7",
   "metadata": {},
   "outputs": [],
   "source": [
    "import numpy as np\n",
    "import pandas as pd\n",
    "\n",
    "# For managing paths\n",
    "import pathlib\n",
    "\n",
    "from time import time\n",
    "\n",
    "from itertools import product"
   ]
  },
  {
   "cell_type": "markdown",
   "id": "9bf1eea3",
   "metadata": {},
   "source": [
    "# Start exploring\n",
    "See the data in 'draft_data...' files."
   ]
  },
  {
   "cell_type": "code",
   "execution_count": null,
   "id": "376399f1",
   "metadata": {},
   "outputs": [],
   "source": [
    "# Folder containing all the data\n",
    "print(DATA_FOLDER)\n",
    "\n",
    "# Expansion code\n",
    "expansion = \"DSK\""
   ]
  },
  {
   "cell_type": "code",
   "execution_count": null,
   "id": "f71a0327",
   "metadata": {},
   "outputs": [],
   "source": [
    "draftfilename = \"draft_data_public.\" + expansion + \".PremierDraft.csv.gz\"\n",
    "draft_file = pathlib.Path(DATA_FOLDER, expansion, draftfilename)\n",
    "\n",
    "draftdata = pd.read_csv(draft_file, compression=\"gzip\", nrows=10000)\n",
    "num_cols = draftdata.shape[1]"
   ]
  },
  {
   "cell_type": "code",
   "execution_count": null,
   "id": "4d98649a",
   "metadata": {},
   "outputs": [],
   "source": [
    "for col in draftdata.columns:\n",
    "    print(col)\n",
    "print()\n",
    "\n",
    "print(draftdata.shape)"
   ]
  },
  {
   "cell_type": "markdown",
   "id": "0a9a78b7",
   "metadata": {},
   "source": [
    "Great, it looks like each row has the cards that were available to the player, the card that was picked, and the cards that the player already picked. Let's check out specific rows."
   ]
  },
  {
   "cell_type": "code",
   "execution_count": null,
   "id": "8060fb61",
   "metadata": {},
   "outputs": [],
   "source": [
    "row = 2\n",
    "for idx in range(num_cols):\n",
    "    print(draftdata.columns[idx], end=\": \")\n",
    "    print(draftdata.iloc[row, idx])"
   ]
  },
  {
   "cell_type": "markdown",
   "id": "69743c72",
   "metadata": {},
   "source": [
    "As expected, we have the card that was picked in `pick`. The columns `pack_card` are booleans indicating if the card was there, and `pool` are the cards chosen in previous rounds. See the following specific example."
   ]
  },
  {
   "cell_type": "code",
   "execution_count": null,
   "id": "173e99fe",
   "metadata": {},
   "outputs": [],
   "source": [
    "cols = [\n",
    "    \"draft_id\",\n",
    "    \"pack_number\",\n",
    "    \"pick_number\",\n",
    "    \"pick\",\n",
    "    # Available cards (only show a couple)\n",
    "    \"pack_card_Infernal Phantom\",\n",
    "    \"pack_card_Floodpits Drowner\",\n",
    "    \"pack_card_Fear of Being Hunted\",\n",
    "    # Picked cards (only show a couple)\n",
    "    \"pool_Infernal Phantom\",\n",
    "    \"pool_Floodpits Drowner\",\n",
    "    \"pool_Fear of Being Hunted\",\n",
    "]\n",
    "rows = [0, 1, 2]\n",
    "\n",
    "for row in rows:\n",
    "    for col in cols:\n",
    "        print(col, end=\": \")\n",
    "        print(draftdata.at[row, col])\n",
    "    print()"
   ]
  },
  {
   "cell_type": "markdown",
   "id": "40afd927",
   "metadata": {},
   "source": [
    "# Get list of cards\n",
    "\n",
    "Our model will need:\n",
    "1. List of available options (a list `options`)\n",
    "2. Card chosen (a list `chosen`)\n",
    "\n",
    "Our current dataframe has that data but in a 0-1 encoding. We could instead use card indices and an embedding layer. We also need to filter out incomplete drafts.\n",
    "\n",
    "Let's look at a couple of draft_ids:"
   ]
  },
  {
   "cell_type": "code",
   "execution_count": null,
   "id": "ccfe1ee9",
   "metadata": {},
   "outputs": [],
   "source": [
    "# Get unique draft ids\n",
    "draft_ids = draftdata[\"draft_id\"].unique()\n",
    "print(\"Number of rows:\", draftdata.shape[0])\n",
    "print(\"Number of unique ids:\", draft_ids.shape)"
   ]
  },
  {
   "cell_type": "code",
   "execution_count": null,
   "id": "c7d77dd6",
   "metadata": {},
   "outputs": [],
   "source": [
    "# Find which ids are complete\n",
    "picks_per_id = draftdata.value_counts(\"draft_id\")\n",
    "\n",
    "with pd.option_context(\"display.max_rows\", None):\n",
    "    print(picks_per_id)"
   ]
  },
  {
   "cell_type": "markdown",
   "id": "13237d5c",
   "metadata": {},
   "source": [
    "Since we only loaded about 10,000 rows, we have an incomplete draft. The others, however, seem complete. Let's look at the picks of a single draft_id"
   ]
  },
  {
   "cell_type": "code",
   "execution_count": null,
   "id": "f8f71c0e",
   "metadata": {},
   "outputs": [],
   "source": [
    "id = draft_ids[0]\n",
    "\n",
    "cols = [\"pack_number\", \"pick_number\", \"pick\"]\n",
    "\n",
    "draftdata.loc[draftdata[\"draft_id\"] == id, cols]"
   ]
  },
  {
   "cell_type": "markdown",
   "id": "e7cdc5e2",
   "metadata": {},
   "source": [
    "We'd like a dictionary that assigns indices to card names. First, we need a list of all cards. We'll get them from the `pack_card` and `pool` column names. Any one of the two should have enough data for our dict, but we'll do it twice for a sanity check."
   ]
  },
  {
   "cell_type": "code",
   "execution_count": null,
   "id": "08cbffc7",
   "metadata": {},
   "outputs": [],
   "source": [
    "card_names_packs = draftdata.filter(regex=\"pack_card\").columns\n",
    "card_names_packs = list(card_names_packs)\n",
    "# Remove annotation (pack_card_)\n",
    "card_names_packs = [name.replace(\"pack_card_\", \"\") for name in card_names_packs]\n",
    "\n",
    "card_names_pool = draftdata.filter(regex=\"pool\").columns\n",
    "card_names_pool = list(card_names_pool)\n",
    "# Remove annotation (pool_)\n",
    "card_names_pool = [name.replace(\"pool_\", \"\") for name in card_names_pool]\n",
    "\n",
    "# Check that the results are the same\n",
    "print(\"Card lists match?:\", card_names_packs == card_names_pool)"
   ]
  },
  {
   "cell_type": "markdown",
   "id": "f100c3b8",
   "metadata": {},
   "source": [
    "Since the list of cards in the `pack_card` and `pool` columns are the same, we can use either. We'll print all cards for reference."
   ]
  },
  {
   "cell_type": "code",
   "execution_count": null,
   "id": "33d269f0",
   "metadata": {},
   "outputs": [],
   "source": [
    "card_names = draftdata.filter(regex=\"pack_card\").columns\n",
    "card_names = list(card_names)\n",
    "# Remove annotation (pack_card_)\n",
    "card_names = [name.replace(\"pack_card_\", \"\") for name in card_names]\n",
    "\n",
    "for name in card_names:\n",
    "    print(name)"
   ]
  },
  {
   "cell_type": "markdown",
   "id": "55fc24b8",
   "metadata": {},
   "source": [
    "And now, writing the dict is a piece of cake."
   ]
  },
  {
   "cell_type": "code",
   "execution_count": null,
   "id": "aa4bfbc5",
   "metadata": {},
   "outputs": [],
   "source": [
    "card_to_idx = {}\n",
    "idx_to_card = {}\n",
    "\n",
    "for idx, card in enumerate(card_names):\n",
    "    card_to_idx[card] = idx\n",
    "    idx_to_card[idx] = card"
   ]
  },
  {
   "cell_type": "code",
   "execution_count": null,
   "id": "9ad3dc79",
   "metadata": {},
   "outputs": [],
   "source": [
    "card_to_idx"
   ]
  },
  {
   "cell_type": "markdown",
   "id": "aef871de",
   "metadata": {},
   "source": [
    "I'll leave this code here, but I'll write a global function.\n",
    "\n",
    "# Build `chosen` and `options` lists\n",
    "In fact, I'll build a dict indexed by `draft_id` that contains the lists corresponding to each individual draft."
   ]
  },
  {
   "cell_type": "code",
   "execution_count": null,
   "id": "9cd6f19a",
   "metadata": {},
   "outputs": [],
   "source": [
    "def count_to_list(row, prefix):\n",
    "    \"\"\"\n",
    "    Turns a vector of counts into a list of card names, each one\n",
    "    repeated as many times as the vector's entry. We obtain the\n",
    "    name of the cards by extracting the names of the columns with\n",
    "    non-zero value and removing the given column prefix from it.\n",
    "    \"\"\"\n",
    "    # Filter only columns with the input prefix and tranpose\n",
    "    df_prefix = row.filter(regex=prefix)\n",
    "    df_prefix = df_prefix.transpose()\n",
    "\n",
    "    # Get rows whose entry is not 0\n",
    "    idx_orig = row.index[0]\n",
    "    column_list = df_prefix[df_prefix[idx_orig] > 0].index\n",
    "\n",
    "    # Remove prefix and add repetitions\n",
    "    card_list = []\n",
    "    for col_name in column_list:\n",
    "        card_name = col_name.replace(prefix, \"\")\n",
    "        repetitions = row.loc[idx_orig, col_name]\n",
    "\n",
    "        card_list.extend([card_name] * repetitions)\n",
    "\n",
    "    return card_list"
   ]
  },
  {
   "cell_type": "code",
   "execution_count": null,
   "id": "8f2e42bd",
   "metadata": {},
   "outputs": [],
   "source": [
    "# Draft data\n",
    "num_packs = 3\n",
    "num_picks = 14\n",
    "\n",
    "# Get unique ids\n",
    "draft_ids = draftdata[\"draft_id\"].unique()\n",
    "\n",
    "# Get columns with the player's options\n",
    "prefix_pack = \"pack_card_\"\n",
    "pack_columns = draftdata.filter(regex=prefix_pack).columns\n",
    "pack_columns = list(pack_columns)\n",
    "\n",
    "# Get columns with the player's pool of cards\n",
    "prefix_pool = \"pool_\"\n",
    "pool_columns = draftdata.filter(regex=prefix_pool).columns\n",
    "pool_columns = list(pool_columns)\n",
    "\n",
    "# Get only card names\n",
    "card_names = [name.replace(prefix_pack, \"\") for name in pack_columns]\n",
    "\n",
    "# Compile data for each draft_id\n",
    "drafts = {}\n",
    "for i, id in enumerate(draft_ids):\n",
    "    time_start = time()\n",
    "\n",
    "    # Get draft info for id\n",
    "    data_id = draftdata.loc[draftdata[\"draft_id\"] == id, :]\n",
    "\n",
    "    # Check that we have the right amount of data\n",
    "    num_rows = data_id.shape[0]\n",
    "    if num_rows != num_packs * num_picks:\n",
    "        print(f\"{i+1}/{len(draft_ids)}\", end=\": \")\n",
    "        print(\n",
    "            f\"Draft incomplete. Only {num_rows} out of {num_packs*num_picks} rows. Skipping id {id}.\"\n",
    "        )\n",
    "        continue\n",
    "\n",
    "    # Build iterators to extract information in turn order\n",
    "    draft_turns = product(range(num_packs), range(num_picks))\n",
    "\n",
    "    chosen = []\n",
    "    options = []\n",
    "    pool = []\n",
    "    for pack_idx, pick_idx in draft_turns:\n",
    "        # Get row for the turn by filtering pack number, pick number, and draft id\n",
    "        df_turn = draftdata[\n",
    "            (draftdata[\"draft_id\"] == id)\n",
    "            & (draftdata[\"pack_number\"] == pack_idx)\n",
    "            & (draftdata[\"pick_number\"] == pick_idx)\n",
    "        ]\n",
    "\n",
    "        # Get pick, cards in pack, and cards in pool\n",
    "        df_index = df_turn.index[0]\n",
    "        pick = df_turn.at[df_index, \"pick\"]\n",
    "        cards_in_pack = count_to_list(df_turn, prefix_pack)\n",
    "        cards_in_pool = count_to_list(df_turn, prefix_pool)\n",
    "\n",
    "        # Store results as indices\n",
    "        chosen.append(card_to_idx[pick])\n",
    "        options.append([card_to_idx[card] for card in cards_in_pack])\n",
    "        pool.append([card_to_idx[card] for card in cards_in_pool])\n",
    "\n",
    "    # Store results for the id\n",
    "    drafts[id] = (chosen, options, pool)\n",
    "\n",
    "    time_end = time()\n",
    "    dt = time_end - time_start\n",
    "    print(f\"{i+1}/{len(draft_ids)}: {np.round(dt,3)}\")"
   ]
  },
  {
   "cell_type": "markdown",
   "id": "b70d4dbf",
   "metadata": {},
   "source": [
    "## Sanity check\n",
    "Verify that list of chosen cards from turn `0` to turn `i` is the same as the pool in turn `i+1`."
   ]
  },
  {
   "cell_type": "code",
   "execution_count": null,
   "id": "868f9212",
   "metadata": {},
   "outputs": [],
   "source": [
    "all_equal = True\n",
    "for id in draft_ids:\n",
    "    if id in drafts.keys():\n",
    "        chosen, options, pool = drafts[id]\n",
    "    else:\n",
    "        continue\n",
    "\n",
    "    # Create a new copy of the pool with the chosen cards\n",
    "    pool_2 = [[]]\n",
    "    for card in chosen:\n",
    "        # The pool in the next turn equals the current pool\n",
    "        # plus the card added this turn\n",
    "        pool_curr = pool_2[-1]\n",
    "        pool_next = pool_curr + [card]\n",
    "\n",
    "        # Sort to avoid order mismatches\n",
    "        pool_2.append(sorted(pool_next))\n",
    "\n",
    "    # The last entry is the final deck, not a pool, so we remove it\n",
    "    _ = pool_2.pop(-1)\n",
    "\n",
    "    # Compare pools\n",
    "    pool_sort = [sorted(P) for P in pool]\n",
    "\n",
    "    # Display any error\n",
    "    if pool_2 != pool_sort:\n",
    "        print(\" ---------------------- \")\n",
    "        print(\"The pools are different\")\n",
    "        print(\" ---------------------- \")\n",
    "        print(\"id:\", id)\n",
    "        print()\n",
    "\n",
    "        print(\"Original pool:\")\n",
    "        print(pool_sort)\n",
    "        print()\n",
    "\n",
    "        print(\"Reconstructed pool:\")\n",
    "        print(pool_2)\n",
    "        print()\n",
    "\n",
    "        all_equal = False\n",
    "\n",
    "if all_equal:\n",
    "    print(\"No errors!\")"
   ]
  },
  {
   "cell_type": "markdown",
   "id": "50555d96",
   "metadata": {},
   "source": [
    "## Examples of output"
   ]
  },
  {
   "cell_type": "code",
   "execution_count": null,
   "id": "d6a2f717",
   "metadata": {},
   "outputs": [],
   "source": [
    "id = draft_ids[0]\n",
    "chosen, options, pool = drafts[id]\n",
    "\n",
    "print(\"Number of chosen cards:\", len(chosen))\n",
    "print(\"Chosen cards:\")\n",
    "print(chosen)"
   ]
  },
  {
   "cell_type": "code",
   "execution_count": null,
   "id": "37feddb4",
   "metadata": {},
   "outputs": [],
   "source": [
    "# Displaying the player's first 5 picks\n",
    "for idc in range(5):\n",
    "    print(f\"Turn {idc}\")\n",
    "    print(\"Chosen: \", chosen[idc])\n",
    "    print(\"Options:\", options[idc])\n",
    "    print(\"Pool:   \", pool[idc])\n",
    "    print()"
   ]
  },
  {
   "cell_type": "code",
   "execution_count": null,
   "id": "6ce9e173",
   "metadata": {},
   "outputs": [],
   "source": [
    "# Display names of chosen cards using idx_to_card\n",
    "for idc in chosen:\n",
    "    print(idx_to_card[idc])"
   ]
  },
  {
   "cell_type": "code",
   "execution_count": null,
   "id": "ddcbc5f8",
   "metadata": {},
   "outputs": [],
   "source": [
    "# Getting a card's index using card_to_idx\n",
    "card_to_idx[\"Enter the Enigma\"]"
   ]
  },
  {
   "cell_type": "markdown",
   "id": "eafbad43",
   "metadata": {},
   "source": [
    "# Now test the functions in the module"
   ]
  },
  {
   "cell_type": "code",
   "execution_count": null,
   "id": "6b6913a0",
   "metadata": {},
   "outputs": [],
   "source": [
    "import functions.card_io as card_io"
   ]
  },
  {
   "cell_type": "code",
   "execution_count": null,
   "id": "817a4936",
   "metadata": {},
   "outputs": [],
   "source": [
    "# Get unique draft ids\n",
    "draft_ids = draftdata[\"draft_id\"].unique()\n",
    "\n",
    "# Get card names and card-index dictionaries\n",
    "card_names, card_to_idx, idx_to_card = card_io.get_cards_from_draft_df(draftdata)\n",
    "\n",
    "# Get draft history\n",
    "drafts_2, draft_ids_2 = card_io.get_played_drafts(draftdata, card_to_idx)"
   ]
  },
  {
   "cell_type": "code",
   "execution_count": null,
   "id": "7f38603b",
   "metadata": {},
   "outputs": [],
   "source": [
    "# Compare with previous results\n",
    "# NOTE: We removed the ids of incomplete drafts from draft_ids_2\n",
    "#       In particular, draft_ids_2 is a subset of draft_ids\n",
    "print(\"Same draft ids?:\", all(draft_ids[:-1] == draft_ids_2))\n",
    "\n",
    "drafts_equal = True\n",
    "for id in draft_ids_2:\n",
    "    if drafts[id] != drafts_2[id]:\n",
    "        print(f\"Not equal at id={id}\")\n",
    "        drafts_equal = False\n",
    "\n",
    "print(\"Same drafts?:\", drafts_equal)"
   ]
  },
  {
   "cell_type": "code",
   "execution_count": null,
   "id": "1067540a",
   "metadata": {},
   "outputs": [],
   "source": []
  }
 ],
 "metadata": {
  "kernelspec": {
   "display_name": "erdos25",
   "language": "python",
   "name": "python3"
  },
  "language_info": {
   "codemirror_mode": {
    "name": "ipython",
    "version": 3
   },
   "file_extension": ".py",
   "mimetype": "text/x-python",
   "name": "python",
   "nbconvert_exporter": "python",
   "pygments_lexer": "ipython3",
   "version": "3.12.9"
  }
 },
 "nbformat": 4,
 "nbformat_minor": 5
}
