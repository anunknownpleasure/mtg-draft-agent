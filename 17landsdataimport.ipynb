{
  "nbformat": 4,
  "nbformat_minor": 0,
  "metadata": {
    "colab": {
      "provenance": [],
      "authorship_tag": "ABX9TyPTEebm5Ws2e3jXGacoGTet",
      "include_colab_link": true
    },
    "kernelspec": {
      "name": "python3",
      "display_name": "Python 3"
    },
    "language_info": {
      "name": "python"
    }
  },
  "cells": [
    {
      "cell_type": "markdown",
      "metadata": {
        "id": "view-in-github",
        "colab_type": "text"
      },
      "source": [
        "<a href=\"https://colab.research.google.com/github/doctorsmylie/mtg-draft-agent/blob/main/17landsdataimport.ipynb\" target=\"_parent\"><img src=\"https://colab.research.google.com/assets/colab-badge.svg\" alt=\"Open In Colab\"/></a>"
      ]
    },
    {
      "cell_type": "markdown",
      "source": [
        "This Notebook takes the 17Lands Gameplay data, processes it, and seves it to an HDF (.h5) file in the same folder"
      ],
      "metadata": {
        "id": "k2xBtP9n567s"
      }
    },
    {
      "cell_type": "code",
      "execution_count": null,
      "metadata": {
        "colab": {
          "base_uri": "https://localhost:8080/"
        },
        "id": "TSI3ega_mhh6",
        "outputId": "6f229914-a529-4a4a-ab15-8e30168c920b"
      },
      "outputs": [
        {
          "output_type": "stream",
          "name": "stdout",
          "text": [
            "Cloning into 'mtg-draft-agent'...\n",
            "remote: Enumerating objects: 93, done.\u001b[K\n",
            "remote: Counting objects: 100% (93/93), done.\u001b[K\n",
            "remote: Compressing objects: 100% (66/66), done.\u001b[K\n",
            "remote: Total 93 (delta 38), reused 57 (delta 23), pack-reused 0 (from 0)\u001b[K\n",
            "Receiving objects: 100% (93/93), 193.56 KiB | 4.61 MiB/s, done.\n",
            "Resolving deltas: 100% (38/38), done.\n",
            "/content/mtg-draft-agent\n",
            "Starting config...\n",
            "Running in Colab? Yes\n",
            "\n",
            "Configuring Google Colab...\n",
            "Mounting Drive...\n",
            "Mounted at /content/mtg-draft-agent/drive\n",
            "BASE_PATH =  /content/mtg-draft-agent\n",
            "DATA_FOLDER = /content/mtg-draft-agent/drive/MyDrive/Erdos25/MTGdraft\n",
            "BASE_PATH == os.getcwd(): True\n",
            "\n",
            "Configuration done\n"
          ]
        }
      ],
      "source": [
        "# Configure Drive or Jupyter notebook -- only runs when first loaded\n",
        "if \"CONFIG_DONE\" not in globals():\n",
        "    # Need to mount drive and clone repo to access data and functions\n",
        "    try:\n",
        "        from google.colab import drive  # type: ignore\n",
        "\n",
        "        IN_COLAB = True\n",
        "\n",
        "        # clone repo\n",
        "        !git clone https://github.com/doctorsmylie/mtg-draft-agent\n",
        "        %cd mtg-draft-agent\n",
        "\n",
        "    except ModuleNotFoundError:\n",
        "        IN_COLAB = False\n",
        "\n",
        "    # Finish configuration -- also configures notebook outside of Colab\n",
        "    %run \"project_path.ipynb\"\n",
        "else:\n",
        "    print(\"Config done already\")"
      ]
    },
    {
      "cell_type": "code",
      "source": [
        "import zipfile\n",
        "import pandas as pd\n",
        "import numpy as np\n",
        "import matplotlib.pyplot as plt\n",
        "import polars as pl\n",
        "\n",
        "# For managing paths\n",
        "import pathlib\n",
        "import itertools"
      ],
      "metadata": {
        "id": "2Fkf7VcRhhsz"
      },
      "execution_count": null,
      "outputs": []
    },
    {
      "cell_type": "code",
      "source": [
        "%pip install spells-mtg\n",
        "import spells\n",
        "import shutil\n",
        "import os\n",
        "import tqdm"
      ],
      "metadata": {
        "colab": {
          "base_uri": "https://localhost:8080/"
        },
        "id": "j-8rzFzQUeT-",
        "outputId": "b40917a0-d9c5-4e30-9fc5-23f49d269e8c"
      },
      "execution_count": null,
      "outputs": [
        {
          "output_type": "stream",
          "name": "stdout",
          "text": [
            "Requirement already satisfied: spells-mtg in /usr/local/lib/python3.11/dist-packages (0.11.7)\n",
            "Requirement already satisfied: polars>=1.14.0 in /usr/local/lib/python3.11/dist-packages (from spells-mtg) (1.25.0)\n",
            "Requirement already satisfied: wget>=3.2 in /usr/local/lib/python3.11/dist-packages (from spells-mtg) (3.2)\n"
          ]
        }
      ]
    },
    {
      "cell_type": "markdown",
      "source": [
        "Loading data"
      ],
      "metadata": {
        "id": "452_s6l8Mubv"
      }
    },
    {
      "cell_type": "code",
      "source": [
        "#expansion code\n",
        "expansion = 'DSK'\n",
        "#root directiory for spells library\n",
        "root_directory =  pathlib.Path('/root/.local/share/spells/external',expansion)\n",
        "#drive directory for spells data\n",
        "drive_directory = pathlib.Path(DATA_FOLDER,'spells_data',expansion)"
      ],
      "metadata": {
        "id": "pL3PfUApz-CZ"
      },
      "execution_count": null,
      "outputs": []
    },
    {
      "cell_type": "code",
      "source": [
        "#Copy Spells data to the root folder\n",
        "source_directory = drive_directory\n",
        "destination_directory = root_directory\n",
        "try:\n",
        "    shutil.copytree(source_directory, destination_directory)\n",
        "    print(f\"Directory '{source_directory}' copied successfully to '{destination_directory}'.\")\n",
        "except FileExistsError:\n",
        "    print(f\"Error: Destination directory '{destination_directory}' already exists.\")\n",
        "except Exception as e:\n",
        "    print(f\"An error occurred: {e}\")\n",
        "\n",
        "##Alternatively use command\n",
        "#!spells add {expansion}"
      ],
      "metadata": {
        "colab": {
          "base_uri": "https://localhost:8080/"
        },
        "outputId": "4f6c6c45-d9fa-4f3c-cadd-20420dcd80c1",
        "id": "26dvsC9cz-CZ"
      },
      "execution_count": null,
      "outputs": [
        {
          "output_type": "stream",
          "name": "stdout",
          "text": [
            "Directory '/content/mtg-draft-agent/drive/MyDrive/Erdos25/MTGdraft/spells_data/DSK' copied successfully to '/root/.local/share/spells/external/DSK'.\n"
          ]
        }
      ]
    },
    {
      "cell_type": "code",
      "source": [
        "#Use spells.download_data function to dowload/update data from 17lands\n",
        "def spells_download_data(expansion, update=False, overwrite=False):\n",
        "  #check if directory exists\n",
        "  root_dir_data=pathlib.Path('/root/.local/share/spells/external',expansion)\n",
        "  if not root_dir_data.exists():\n",
        "    !spells add {expansion}\n",
        "  elif update:\n",
        "    !spells refresh {expansion}\n",
        "  else:\n",
        "    print(f\"Directory '{root_dir_data}' already exists.\")\n",
        "    print(f\"to update set update=True\")\n",
        "  # copy directory to DATA_FOLDER\n",
        "  source_directory = root_dir_data\n",
        "  destination_directory = pathlib.Path(DATA_FOLDER,'spells_data',expansion)\n",
        "  try:\n",
        "    shutil.copytree(source_directory, destination_directory)\n",
        "    print(f\"Directory '{source_directory}' copied successfully to '{destination_directory}'.\")\n",
        "  except FileExistsError:\n",
        "    if overwrite:\n",
        "      shutil.rmtree(destination_directory)\n",
        "      shutil.copytree(source_directory, destination_directory)\n",
        "      print(f\"Directory '{source_directory}' copied successfully to '{destination_directory}'.\")\n",
        "    else:\n",
        "      print(f\"Error: Destination directory '{destination_directory}' already exists.\")\n",
        "      print(f\"to overwrite set overwrite=True\")\n",
        "  except OSError as e:\n",
        "    print(f\"An error occurred: {e}\")"
      ],
      "metadata": {
        "id": "FNaCzs-HxuXN"
      },
      "execution_count": null,
      "outputs": []
    },
    {
      "cell_type": "code",
      "source": [
        "def load_gamedata(expansion):\n",
        "  \"\"\"\n",
        "  Loads game data for a given expansion.\n",
        "\n",
        "  Args:\n",
        "    expansion: The expansion code (e.g., 'DSK').\n",
        "\n",
        "    Returns:\n",
        "    A polars lazyframe\n",
        "  \"\"\"\n",
        "  gamefilename=expansion+'_PremierDraft_game.parquet'\n",
        "  game_file = pathlib.Path(drive_directory, gamefilename)\n",
        "  gamedata = pl.scan_parquet(game_file)\n",
        "  return gamedata\n",
        "def group_gamedata(gamedata):\n",
        "  \"\"\"\n",
        "  Groups game data by draft_id and build_index.\n",
        "\n",
        "  Args:\n",
        "    gamedata: A polars lazyframe.\n",
        "\n",
        "    Returns:\n",
        "    A polars lazyframe\n",
        "    \"\"\"\n",
        "  grouped_gamedata = gamedata.group_by(['draft_id', 'build_index'])\n",
        "  return grouped_gamedata\n",
        "\n",
        "gamedata = load_gamedata(expansion)\n",
        "grouped_gamedata = group_gamedata(gamedata)"
      ],
      "metadata": {
        "id": "CfYbpYKDWVRo"
      },
      "execution_count": null,
      "outputs": []
    },
    {
      "cell_type": "code",
      "source": [
        "# Column lists\n",
        "column_list_with_basic_lands=gamedata.collect_schema().names()\n",
        "basic_land_attributes= [col for col in column_list_with_basic_lands if col.endswith('Plains') or col.endswith('Island')\n",
        "                                                    or col.endswith('Swamp') or col.endswith('Mountain') or col.endswith('Forest')]\n",
        "basic_land_deck_attributes= [col for col in basic_land_attributes if col.startswith('deck_')]\n",
        "basic_land_sideboard_attributes= [col for col in basic_land_attributes if col.startswith('sideboard_')]\n",
        "basic_land_opening_hand_attributes= [col for col in basic_land_attributes if col.startswith('opening_hand_')]\n",
        "basic_land_drawn_attributes= [col for col in basic_land_attributes if col.startswith('drawn_')]\n",
        "basic_land_tutored_attributes= [col for col in basic_land_attributes if col.startswith('tutored_')]\n",
        "column_list= [col for col in column_list_with_basic_lands if not col.endswith('Plains') and not col.endswith('Island')\n",
        "                                                    and not col.endswith('Swamp') and not col.endswith('Mountain') and not col.endswith('Forest')]\n",
        "deck_atributes= [col for col in column_list if col.startswith('deck_')]\n",
        "card_list= [col.replace('deck_', '') for col in deck_atributes]\n",
        "sideboard_atributes= [col for col in column_list if col.startswith('sideboard_')]\n",
        "opening_hand_atributes= [col for col in column_list if col.startswith('opening_hand_')]\n",
        "drawn_atributes= [col for col in column_list if col.startswith('drawn_')]\n",
        "tutored_atributes= [col for col in column_list if col.startswith('tutored_')]\n",
        "id_atributes= ['draft_id','build_index']\n",
        "user_atributes= [col for col in column_list if col.startswith('user_')]\n",
        "colors_atributes= [col for col in column_list if col.endswith('_colors')]\n",
        "won_atributes= ['won']\n",
        "game_atributes= ['game_time','match_number', 'game_number','rank', 'opp_rank', 'on_play', 'num_mulligans',\n",
        "                   'opp_num_mulligans', 'opp_colors', 'num_turns']\n",
        "other_atributes= ['expansion', 'event_type', 'draft_time']\n",
        "\n",
        "# Get columns that are not in any of the defined attribute lists\n",
        "remaining_columns = [col for col in column_list if col not in deck_atributes + sideboard_atributes + opening_hand_atributes + drawn_atributes + tutored_atributes + id_atributes + user_atributes + colors_atributes + won_atributes + game_atributes + other_atributes]\n",
        "\n",
        "# Print the remaining columns to see what they are\n",
        "print(\"Remaining columns:\", remaining_columns)"
      ],
      "metadata": {
        "colab": {
          "base_uri": "https://localhost:8080/"
        },
        "id": "BJNHGCDlY_UE",
        "outputId": "28363ed0-387f-4ae2-9718-ca6fe9b79f33"
      },
      "execution_count": null,
      "outputs": [
        {
          "output_type": "stream",
          "name": "stdout",
          "text": [
            "Remaining columns: []\n"
          ]
        }
      ]
    },
    {
      "cell_type": "code",
      "source": [
        "#Aggregation rules list\n",
        "aggregation_rules_win_rate = [\n",
        "    pl.col('won').sum().alias('wins'),\n",
        "    pl.col('won').count().alias('total_matches'),\n",
        "    pl.col('won').mean().alias('win_rate').cast(pl.Float32)\n",
        "]\n",
        "\n",
        "\n",
        "aggregation_rules_basic_land_deck_atributes = [\n",
        "    pl.col(col).first().alias(col) for col in basic_land_deck_attributes\n",
        "]\n",
        "\n",
        "aggregation_rules_user_atributes = [\n",
        "    pl.col(col).first().alias(col) for col in user_atributes\n",
        "]\n",
        "\n",
        "aggregation_rules_colors_atributes = [\n",
        "    pl.col(col).first().alias(col) for col in colors_atributes\n",
        "]\n",
        "\n",
        "aggregation_rules_deck_atributes = [\n",
        "    pl.col(col).first().alias(col) for col in deck_atributes\n",
        "]\n",
        "\n",
        "aggregation_rules= (\n",
        "                    aggregation_rules_win_rate\n",
        "                    + aggregation_rules_basic_land_deck_atributes\n",
        "                    + aggregation_rules_user_atributes\n",
        "                    + aggregation_rules_colors_atributes\n",
        "                    + aggregation_rules_deck_atributes\n",
        "                   )\n",
        "\n",
        "aggregation_rule_win_rate=(\n",
        "                    (pl.col('wins').sum()/pl.col('total_matches').sum())\n",
        "                    .alias('win_rate').cast(pl.Float32)\n",
        "                    )"
      ],
      "metadata": {
        "id": "0cfEFdPGYce0"
      },
      "execution_count": null,
      "outputs": []
    },
    {
      "cell_type": "code",
      "source": [
        "deck_gamedata_wr = (grouped_gamedata\n",
        "                    .agg(aggregation_rules)\n",
        "                    .filter(pl.col('total_matches') > 2)\n",
        "                    )\n",
        "deck_gamedata_collected=deck_gamedata_wr.collect()"
      ],
      "metadata": {
        "id": "fDNTZz3rc-uk"
      },
      "execution_count": null,
      "outputs": []
    }
  ]
}