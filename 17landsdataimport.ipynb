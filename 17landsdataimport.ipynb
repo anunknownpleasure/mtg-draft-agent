{
  "nbformat": 4,
  "nbformat_minor": 0,
  "metadata": {
    "colab": {
      "provenance": [],
      "authorship_tag": "ABX9TyNkJyPJeRmIRVGo1+Rmt3dF",
      "include_colab_link": true
    },
    "kernelspec": {
      "name": "python3",
      "display_name": "Python 3"
    },
    "language_info": {
      "name": "python"
    }
  },
  "cells": [
    {
      "cell_type": "markdown",
      "metadata": {
        "id": "view-in-github",
        "colab_type": "text"
      },
      "source": [
        "<a href=\"https://colab.research.google.com/github/doctorsmylie/mtg-draft-agent/blob/main/17landsdataimport.ipynb\" target=\"_parent\"><img src=\"https://colab.research.google.com/assets/colab-badge.svg\" alt=\"Open In Colab\"/></a>"
      ]
    },
    {
      "cell_type": "markdown",
      "source": [
        "#init config"
      ],
      "metadata": {
        "id": "TQwMnt4buQMe"
      }
    },
    {
      "cell_type": "code",
      "source": [
        "# Configure Drive or Jupyter notebook -- only runs when first loaded\n",
        "if \"CONFIG_DONE\" not in globals():\n",
        "    # Need to mount drive and clone repo to access data and functions\n",
        "    try:\n",
        "        from google.colab import drive  # type: ignore\n",
        "\n",
        "        IN_COLAB = True\n",
        "\n",
        "        # clone repo\n",
        "        !git clone https://github.com/doctorsmylie/mtg-draft-agent\n",
        "        %cd mtg-draft-agent\n",
        "\n",
        "    except ModuleNotFoundError:\n",
        "        IN_COLAB = False\n",
        "\n",
        "    # Finish configuration -- also configures notebook outside of Colab\n",
        "    %run \"project_path.ipynb\"\n",
        "else:\n",
        "    print(\"Config done before loading 17landsdataimport.ipynb\")"
      ],
      "metadata": {
        "colab": {
          "base_uri": "https://localhost:8080/"
        },
        "id": "iiKQN0tFthjV",
        "outputId": "fd3099b7-11c0-423c-8e7a-ba6fa77578df"
      },
      "execution_count": null,
      "outputs": [
        {
          "output_type": "stream",
          "name": "stdout",
          "text": [
            "Cloning into 'mtg-draft-agent'...\n",
            "remote: Enumerating objects: 111, done.\u001b[K\n",
            "remote: Counting objects: 100% (111/111), done.\u001b[K\n",
            "remote: Compressing objects: 100% (83/83), done.\u001b[K\n",
            "remote: Total 111 (delta 46), reused 56 (delta 23), pack-reused 0 (from 0)\u001b[K\n",
            "Receiving objects: 100% (111/111), 222.13 KiB | 5.70 MiB/s, done.\n",
            "Resolving deltas: 100% (46/46), done.\n",
            "/content/mtg-draft-agent\n",
            "Starting config...\n",
            "Running in Colab? Yes\n",
            "\n",
            "Configuring Google Colab...\n",
            "Mounting Drive...\n",
            "Mounted at /content/mtg-draft-agent/drive\n",
            "BASE_PATH =  /content/mtg-draft-agent\n",
            "DATA_FOLDER = /content/mtg-draft-agent/drive/MyDrive/Erdos25/MTGdraft\n",
            "BASE_PATH == os.getcwd(): True\n",
            "\n",
            "Configuration done\n"
          ]
        }
      ]
    },
    {
      "cell_type": "code",
      "source": [
        "import zipfile\n",
        "import pandas as pd\n",
        "import numpy as np\n",
        "import matplotlib.pyplot as plt\n",
        "import polars as pl\n",
        "\n",
        "# For managing paths\n",
        "import pathlib\n",
        "import itertools"
      ],
      "metadata": {
        "id": "2Fkf7VcRhhsz"
      },
      "execution_count": null,
      "outputs": []
    },
    {
      "cell_type": "code",
      "source": [
        "%pip install spells-mtg\n",
        "import spells\n",
        "import shutil\n",
        "import os\n",
        "import tqdm"
      ],
      "metadata": {
        "colab": {
          "base_uri": "https://localhost:8080/"
        },
        "id": "j-8rzFzQUeT-",
        "outputId": "333f2606-d1e0-4f87-b2e8-347db9c06df0"
      },
      "execution_count": null,
      "outputs": [
        {
          "output_type": "stream",
          "name": "stdout",
          "text": [
            "Collecting spells-mtg\n",
            "  Downloading spells_mtg-0.11.7-py3-none-any.whl.metadata (47 kB)\n",
            "\u001b[?25l     \u001b[90m━━━━━━━━━━━━━━━━━━━━━━━━━━━━━━━━━━━━━━━━\u001b[0m \u001b[32m0.0/47.4 kB\u001b[0m \u001b[31m?\u001b[0m eta \u001b[36m-:--:--\u001b[0m\r\u001b[2K     \u001b[90m━━━━━━━━━━━━━━━━━━━━━━━━━━━━━━━━━━━━━━━━\u001b[0m \u001b[32m47.4/47.4 kB\u001b[0m \u001b[31m3.5 MB/s\u001b[0m eta \u001b[36m0:00:00\u001b[0m\n",
            "\u001b[?25hRequirement already satisfied: polars>=1.14.0 in /usr/local/lib/python3.11/dist-packages (from spells-mtg) (1.25.0)\n",
            "Collecting wget>=3.2 (from spells-mtg)\n",
            "  Downloading wget-3.2.zip (10 kB)\n",
            "  Preparing metadata (setup.py) ... \u001b[?25l\u001b[?25hdone\n",
            "Downloading spells_mtg-0.11.7-py3-none-any.whl (43 kB)\n",
            "\u001b[2K   \u001b[90m━━━━━━━━━━━━━━━━━━━━━━━━━━━━━━━━━━━━━━━━\u001b[0m \u001b[32m43.7/43.7 kB\u001b[0m \u001b[31m3.3 MB/s\u001b[0m eta \u001b[36m0:00:00\u001b[0m\n",
            "\u001b[?25hBuilding wheels for collected packages: wget\n",
            "  Building wheel for wget (setup.py) ... \u001b[?25l\u001b[?25hdone\n",
            "  Created wheel for wget: filename=wget-3.2-py3-none-any.whl size=9655 sha256=f84b1aec731af291fe6204a5c3776bce576185db31c9a49b539e01ee63d64e5d\n",
            "  Stored in directory: /root/.cache/pip/wheels/40/b3/0f/a40dbd1c6861731779f62cc4babcb234387e11d697df70ee97\n",
            "Successfully built wget\n",
            "Installing collected packages: wget, spells-mtg\n",
            "Successfully installed spells-mtg-0.11.7 wget-3.2\n"
          ]
        }
      ]
    },
    {
      "cell_type": "markdown",
      "source": [
        "#Loading data"
      ],
      "metadata": {
        "id": "452_s6l8Mubv"
      }
    },
    {
      "cell_type": "code",
      "source": [
        "#expansion code\n",
        "expansion = 'DSK'\n",
        "#root directiory for spells library\n",
        "root_directory =  pathlib.Path('/root/.local/share/spells/external',expansion)\n",
        "#drive directory for spells data\n",
        "drive_directory = pathlib.Path(DATA_FOLDER,'spells_data',expansion)\n"
      ],
      "metadata": {
        "id": "pL3PfUApz-CZ"
      },
      "execution_count": null,
      "outputs": []
    },
    {
      "cell_type": "code",
      "source": [
        "#Copy Spells data to the root folder\n",
        "source_directory = drive_directory\n",
        "destination_directory = root_directory\n",
        "try:\n",
        "    shutil.copytree(source_directory, destination_directory)\n",
        "    print(f\"Directory '{source_directory}' copied successfully to '{destination_directory}'.\")\n",
        "except FileExistsError:\n",
        "    print(f\"Error: Destination directory '{destination_directory}' already exists.\")\n",
        "except Exception as e:\n",
        "    print(f\"An error occurred: {e}\")\n",
        "\n",
        "##Alternatively use command\n",
        "#!spells add {expansion}"
      ],
      "metadata": {
        "colab": {
          "base_uri": "https://localhost:8080/"
        },
        "outputId": "684c40a7-09bd-4552-f412-6a90673168f1",
        "id": "26dvsC9cz-CZ"
      },
      "execution_count": null,
      "outputs": [
        {
          "output_type": "stream",
          "name": "stdout",
          "text": [
            "Directory '/content/mtg-draft-agent/drive/MyDrive/Erdos25/MTGdraft/spells_data/DSK' copied successfully to '/root/.local/share/spells/external/DSK'.\n"
          ]
        }
      ]
    },
    {
      "cell_type": "code",
      "source": [
        "#Use spells.download_data function to dowload/update data from 17lands\n",
        "def spells_download_data(expansion, update=False, overwrite=False):\n",
        "  #check if directory exists\n",
        "  root_dir_data=pathlib.Path('/root/.local/share/spells/external',expansion)\n",
        "  if not root_dir_data.exists():\n",
        "    !spells add {expansion}\n",
        "  elif update:\n",
        "    !spells refresh {expansion}\n",
        "  else:\n",
        "    print(f\"Directory '{root_dir_data}' already exists.\")\n",
        "    print(f\"to update set update=True\")\n",
        "  # copy directory to DATA_FOLDER\n",
        "  source_directory = root_dir_data\n",
        "  destination_directory = pathlib.Path(DATA_FOLDER,'spells_data',expansion)\n",
        "  try:\n",
        "    shutil.copytree(source_directory, destination_directory)\n",
        "    print(f\"Directory '{source_directory}' copied successfully to '{destination_directory}'.\")\n",
        "  except FileExistsError:\n",
        "    if overwrite:\n",
        "      shutil.rmtree(destination_directory)\n",
        "      shutil.copytree(source_directory, destination_directory)\n",
        "      print(f\"Directory '{source_directory}' copied successfully to '{destination_directory}'.\")\n",
        "    else:\n",
        "      print(f\"Error: Destination directory '{destination_directory}' already exists.\")\n",
        "      print(f\"to overwrite set overwrite=True\")\n",
        "  except OSError as e:\n",
        "    print(f\"An error occurred: {e}\")"
      ],
      "metadata": {
        "id": "FNaCzs-HxuXN"
      },
      "execution_count": null,
      "outputs": []
    },
    {
      "cell_type": "code",
      "source": [
        "def load_gamedata(expansion):\n",
        "  \"\"\"\n",
        "  Loads game data for a given expansion.\n",
        "\n",
        "  Args:\n",
        "    expansion: The expansion code (e.g., 'DSK').\n",
        "\n",
        "    Returns:\n",
        "    A polars lazyframe\n",
        "  \"\"\"\n",
        "  gamefilename=expansion+'_PremierDraft_game.parquet'\n",
        "  game_file = pathlib.Path(drive_directory, gamefilename)\n",
        "  gamedata = pl.scan_parquet(game_file)\n",
        "  return gamedata\n",
        "def group_gamedata(gamedata):\n",
        "  \"\"\"\n",
        "  Groups game data by draft_id and build_index.\n",
        "\n",
        "  Args:\n",
        "    gamedata: A polars lazyframe.\n",
        "\n",
        "    Returns:\n",
        "    A polars lazyframe\n",
        "    \"\"\"\n",
        "  grouped_gamedata = gamedata.group_by(['draft_id', 'build_index'])\n",
        "  return grouped_gamedata\n",
        "\n",
        "gamedata = load_gamedata(expansion)\n",
        "grouped_gamedata = group_gamedata(gamedata)"
      ],
      "metadata": {
        "id": "CfYbpYKDWVRo"
      },
      "execution_count": null,
      "outputs": []
    },
    {
      "cell_type": "code",
      "source": [
        "# Column lists\n",
        "column_list_with_basic_lands=gamedata.collect_schema().names()\n",
        "basic_land_attributes= [col for col in column_list_with_basic_lands if col.endswith('Plains') or col.endswith('Island')\n",
        "                                                    or col.endswith('Swamp') or col.endswith('Mountain') or col.endswith('Forest')]\n",
        "basic_land_deck_attributes= [col for col in basic_land_attributes if col.startswith('deck_')]\n",
        "basic_land_sideboard_attributes= [col for col in basic_land_attributes if col.startswith('sideboard_')]\n",
        "basic_land_opening_hand_attributes= [col for col in basic_land_attributes if col.startswith('opening_hand_')]\n",
        "basic_land_drawn_attributes= [col for col in basic_land_attributes if col.startswith('drawn_')]\n",
        "basic_land_tutored_attributes= [col for col in basic_land_attributes if col.startswith('tutored_')]\n",
        "column_list= [col for col in column_list_with_basic_lands if not col.endswith('Plains') and not col.endswith('Island')\n",
        "                                                    and not col.endswith('Swamp') and not col.endswith('Mountain') and not col.endswith('Forest')]\n",
        "deck_atributes= [col for col in column_list if col.startswith('deck_')]\n",
        "card_list= [col.replace('deck_', '') for col in deck_atributes]\n",
        "sideboard_atributes= [col for col in column_list if col.startswith('sideboard_')]\n",
        "opening_hand_atributes= [col for col in column_list if col.startswith('opening_hand_')]\n",
        "drawn_atributes= [col for col in column_list if col.startswith('drawn_')]\n",
        "tutored_atributes= [col for col in column_list if col.startswith('tutored_')]\n",
        "id_atributes= ['draft_id','build_index']\n",
        "user_atributes= [col for col in column_list if col.startswith('user_')]\n",
        "colors_atributes= [col for col in column_list if col.endswith('_colors')]\n",
        "won_atributes= ['won']\n",
        "game_atributes= ['game_time','match_number', 'game_number','rank', 'opp_rank', 'on_play', 'num_mulligans',\n",
        "                   'opp_num_mulligans', 'opp_colors', 'num_turns']\n",
        "other_atributes= ['expansion', 'event_type', 'draft_time']\n",
        "\n",
        "# Get columns that are not in any of the defined attribute lists\n",
        "remaining_columns = [col for col in column_list if col not in deck_atributes + sideboard_atributes + opening_hand_atributes + drawn_atributes + tutored_atributes + id_atributes + user_atributes + colors_atributes + won_atributes + game_atributes + other_atributes]\n",
        "\n",
        "# Print the remaining columns to see what they are\n",
        "print(\"Remaining columns:\", remaining_columns)"
      ],
      "metadata": {
        "colab": {
          "base_uri": "https://localhost:8080/"
        },
        "id": "BJNHGCDlY_UE",
        "outputId": "6339e081-4f09-4db3-f64c-5fa38c7ec7cc"
      },
      "execution_count": null,
      "outputs": [
        {
          "output_type": "stream",
          "name": "stdout",
          "text": [
            "Remaining columns: []\n"
          ]
        }
      ]
    },
    {
      "cell_type": "code",
      "source": [
        "#Aggregation rules list\n",
        "aggregation_rules_win_rate = [\n",
        "    pl.col('won').sum().alias('wins'),\n",
        "    pl.col('won').count().alias('total_matches'),\n",
        "    pl.col('won').mean().alias('win_rate').cast(pl.Float32)\n",
        "]\n",
        "\n",
        "\n",
        "aggregation_rules_basic_land_deck_atributes = [\n",
        "    pl.col(col).first().alias(col) for col in basic_land_deck_attributes\n",
        "]\n",
        "\n",
        "aggregation_rules_user_atributes = [\n",
        "    pl.col(col).first().alias(col) for col in user_atributes\n",
        "]\n",
        "\n",
        "aggregation_rules_colors_atributes = [\n",
        "    pl.col(col).first().alias(col) for col in colors_atributes\n",
        "]\n",
        "\n",
        "aggregation_rules_deck_atributes = [\n",
        "    pl.col(col).first().alias(col) for col in deck_atributes\n",
        "]\n",
        "\n",
        "aggregation_rules= (\n",
        "                    aggregation_rules_win_rate\n",
        "                    + aggregation_rules_basic_land_deck_atributes\n",
        "                    + aggregation_rules_user_atributes\n",
        "                    + aggregation_rules_colors_atributes\n",
        "                    + aggregation_rules_deck_atributes\n",
        "                   )\n",
        "\n",
        "aggregation_rule_win_rate=(\n",
        "                    (pl.col('wins').sum()/pl.col('total_matches').sum())\n",
        "                    .alias('win_rate').cast(pl.Float32)\n",
        "                    )"
      ],
      "metadata": {
        "id": "0cfEFdPGYce0"
      },
      "execution_count": null,
      "outputs": []
    },
    {
      "cell_type": "code",
      "source": [
        "deck_gamedata_wr = (grouped_gamedata\n",
        "                    .agg(aggregation_rules)\n",
        "                    .filter(pl.col('total_matches') > 2)\n",
        "                    )\n",
        "deck_gamedata_collected=deck_gamedata_wr.collect()"
      ],
      "metadata": {
        "id": "fDNTZz3rc-uk"
      },
      "execution_count": null,
      "outputs": []
    },
    {
      "cell_type": "markdown",
      "source": [
        "#Load card **data**"
      ],
      "metadata": {
        "id": "bnEdo6DyuFYX"
      }
    },
    {
      "cell_type": "code",
      "source": [
        "def load_context_data(expansion):\n",
        "  \"\"\"\n",
        "  Loads context data for a given expansion.\n",
        "\n",
        "  Args:\n",
        "    expansion: The expansion code (e.g., 'DSK').\n",
        "\n",
        "    Returns:\n",
        "    A polars lazyframe\n",
        "  \"\"\"\n",
        "  contextfilename=expansion+'_PremierDraft_context.parquet'\n",
        "  context_file = pathlib.Path(drive_directory, contextfilename)\n",
        "  contextdata = pl.scan_parquet(context_file)\n",
        "  return contextdata\n",
        "\n",
        "def load_card_data(expansion):\n",
        "  \"\"\"\n",
        "  Loads card data for a given expansion.\n",
        "\n",
        "  Args:\n",
        "    expansion: The expansion code (e.g., 'DSK').\n",
        "\n",
        "    Returns:\n",
        "    A polars lazyframe\n",
        "  \"\"\"\n",
        "  cardfilename=expansion+'_card.parquet'\n",
        "  card_file = pathlib.Path(drive_directory, cardfilename)\n",
        "  carddata = pl.scan_parquet(card_file)\n",
        "  return carddata\n",
        "\n",
        "def load_scryfall_data(expansion):\n",
        "  \"\"\"\n",
        "  Loads scryfall card data for a given expansion.\n",
        "\n",
        "  Args:\n",
        "    expansion: The expansion code (e.g., 'DSK').\n",
        "\n",
        "    Returns:\n",
        "    A polars lazyframe\n",
        "  \"\"\"\n",
        "  set_code = expansion.lower()\n",
        "  '/content/mtg-draft-agent/drive/MyDrive/Erdos25/MTGdraft/Scryfall-data/card-sets/dsk_cards.parquet'\n",
        "  cardfilename=set_code+'_cards.parquet'\n",
        "  card_file = pathlib.Path(DATA_FOLDER,'Scryfall-data','card-sets',cardfilename)\n",
        "  carddata = pl.read_parquet(card_file)\n",
        "  return carddata\n",
        "\n",
        "contextdata = load_context_data(expansion)\n",
        "carddata = load_card_data(expansion)\n",
        "scryfall_data = load_scryfall_data(expansion)"
      ],
      "metadata": {
        "id": "ygyngtNeuEs3"
      },
      "execution_count": null,
      "outputs": []
    },
    {
      "cell_type": "code",
      "source": [
        "land_mana_df = scryfall_data.filter(pl.col('type_line').str.contains('Land')).select(['name','produced_mana'])\n",
        "#make land_mana_df whose keys are 'names' and values are 'produced_mana'\n",
        "land_mana_dict = dict(zip(land_mana_df['name'], land_mana_df['produced_mana'].to_list()))\n",
        "list_common_fetch_lands = [ 'Evolving Wilds', 'Terramorphic Expanse', 'Escape Tunnel', 'Shire Terrace', 'Promising Vein' ]\n",
        "for card_name in land_mana_dict:\n",
        "  if card_name in list_common_fetch_lands:\n",
        "    land_mana_dict[card_name] = ['B', 'G', 'U', 'R', 'W']\n",
        "land_mana_dict['Abandoned Campground']\n",
        "COLORS_LIST = ['B', 'G', 'U', 'R', 'W']"
      ],
      "metadata": {
        "colab": {
          "base_uri": "https://localhost:8080/"
        },
        "id": "Xd-Mk0ziv1Gs",
        "outputId": "199a9488-cd90-444f-c1bc-574c53f4d162"
      },
      "execution_count": null,
      "outputs": [
        {
          "output_type": "execute_result",
          "data": {
            "text/plain": [
              "['U', 'W']"
            ]
          },
          "metadata": {},
          "execution_count": 29
        }
      ]
    },
    {
      "cell_type": "code",
      "source": [
        "for card_name in land_mana_dict:\n",
        "  if card_name in list_common_fetch_lands:\n",
        "    land_mana_dict[card_name] = COLORS_LIST\n"
      ],
      "metadata": {
        "id": "r8T_btB84S6N"
      },
      "execution_count": null,
      "outputs": []
    },
    {
      "cell_type": "code",
      "source": [
        "land_mana_dict"
      ],
      "metadata": {
        "id": "7BHAfiCfv1EU",
        "colab": {
          "base_uri": "https://localhost:8080/"
        },
        "outputId": "a19a5ef7-d739-4751-f0aa-38fdad439b84"
      },
      "execution_count": null,
      "outputs": [
        {
          "output_type": "execute_result",
          "data": {
            "text/plain": [
              "{'Abandoned Campground': ['U', 'W'],\n",
              " 'Blazemire Verge': ['B', 'R'],\n",
              " 'Bleeding Woods': ['G', 'R'],\n",
              " 'Etched Cornfield': ['G', 'W'],\n",
              " 'Floodfarm Verge': ['U', 'W'],\n",
              " 'Gloomlake Verge': ['B', 'U'],\n",
              " 'Hushwood Verge': ['G', 'W'],\n",
              " 'Lakeside Shack': ['G', 'U'],\n",
              " 'Murky Sewer': ['B', 'U'],\n",
              " 'Neglected Manor': ['B', 'W'],\n",
              " 'Peculiar Lighthouse': ['R', 'U'],\n",
              " 'Raucous Carnival': ['R', 'W'],\n",
              " 'Razortrap Gorge': ['B', 'R'],\n",
              " 'Strangled Cemetery': ['B', 'G'],\n",
              " 'Terramorphic Expanse': ['B', 'G', 'U', 'R', 'W'],\n",
              " 'Thornspire Verge': ['G', 'R'],\n",
              " \"Valgavoth's Lair\": ['B', 'G', 'R', 'U', 'W']}"
            ]
          },
          "metadata": {},
          "execution_count": 30
        }
      ]
    },
    {
      "cell_type": "code",
      "source": [
        "#list of (land) sources of each color\n",
        "sources_list_dict={\n",
        "    color: [land for land, mana_list in land_mana_dict.items() if color in mana_list]\n",
        "                   for color in COLORS_LIST\n",
        "}\n",
        "\n",
        "# Land color sources aggregation code"
      ],
      "metadata": {
        "id": "dHI_kQ-NtBmu"
      },
      "execution_count": null,
      "outputs": []
    }
  ]
}