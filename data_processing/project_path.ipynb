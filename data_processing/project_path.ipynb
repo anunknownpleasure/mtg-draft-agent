{
 "cells": [
  {
   "cell_type": "markdown",
   "id": "71a4e1bb",
   "metadata": {},
   "source": [
    "The code below makes relative imports work and lets me export the notebook to a .py script without changing too much code\n",
    "\n",
    "It also tests if we're running in Google Colab and mounts Google Drive if we are"
   ]
  },
  {
   "cell_type": "code",
   "execution_count": null,
   "id": "f8f94da6",
   "metadata": {},
   "outputs": [],
   "source": [
    "# Only runs if we haven't configured the notebook yet\n",
    "if \"CONFIG_DONE\" not in globals():\n",
    "    import os\n",
    "\n",
    "    depth_ = 1\n",
    "\n",
    "    print(\"Starting config...\")\n",
    "    print(\"Running in Colab?\", end=\" \")\n",
    "\n",
    "    if IN_COLAB:\n",
    "        print(\"Yes\")\n",
    "        print()\n",
    "\n",
    "        print(\"Configuring Google Colab...\")\n",
    "\n",
    "        # mount drive\n",
    "        print(\"Mounting Drive...\")\n",
    "        drive.mount(\"/content/mtg-draft-agent/drive\")\n",
    "\n",
    "        BASE_PATH = \".\"\n",
    "        DATA_FOLDER = \"drive/MyDrive/Erdos25/MTGdraft\"\n",
    "    else:\n",
    "        print(\"No\")\n",
    "        print()\n",
    "\n",
    "        print(\"Configuring Jupyter Notebook...\")\n",
    "\n",
    "        # Reloads modified python modules automatically\n",
    "        %load_ext autoreload\n",
    "        %autoreload 2\n",
    "\n",
    "        # Base directory for the project\n",
    "        if depth_ > 0:\n",
    "            BASE_PATH = os.path.join(*([\"..\"] * depth_))\n",
    "\n",
    "            # cd to base directory\n",
    "            print(\"cd to the repo's base directory...\")\n",
    "            os.chdir(BASE_PATH)\n",
    "            print()\n",
    "\n",
    "        DATA_FOLDER = \"MTGdraft\"\n",
    "\n",
    "    # Absolute paths\n",
    "    BASE_PATH = os.path.abspath(\".\")\n",
    "    DATA_FOLDER = os.path.abspath(DATA_FOLDER)\n",
    "\n",
    "    print(\"BASE_PATH = \", BASE_PATH)\n",
    "    print(\"DATA_FOLDER =\", DATA_FOLDER)\n",
    "    print(\"BASE_PATH == os.getcwd():\", BASE_PATH == os.getcwd())\n",
    "    print()\n",
    "\n",
    "    print(\"Configuration done\")\n",
    "    CONFIG_DONE = True\n",
    "else:\n",
    "    print(\"Config done already\")"
   ]
  },
  {
   "cell_type": "code",
   "execution_count": null,
   "id": "c99ca541",
   "metadata": {},
   "outputs": [],
   "source": []
  }
 ],
 "metadata": {
  "language_info": {
   "name": "python"
  }
 },
 "nbformat": 4,
 "nbformat_minor": 5
}
