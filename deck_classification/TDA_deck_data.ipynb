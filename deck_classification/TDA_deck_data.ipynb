{
  "nbformat": 4,
  "nbformat_minor": 0,
  "metadata": {
    "colab": {
      "provenance": [],
      "machine_shape": "hm",
      "gpuType": "T4",
      "authorship_tag": "ABX9TyMpMsmPppC4GWS98uTUUiob",
      "include_colab_link": true
    },
    "kernelspec": {
      "name": "python3",
      "display_name": "Python 3"
    },
    "language_info": {
      "name": "python"
    },
    "accelerator": "GPU"
  },
  "cells": [
    {
      "cell_type": "markdown",
      "metadata": {
        "id": "view-in-github",
        "colab_type": "text"
      },
      "source": [
        "<a href=\"https://colab.research.google.com/github/doctorsmylie/mtg-draft-agent/blob/main/deck_classification/TDA_deck_data.ipynb\" target=\"_parent\"><img src=\"https://colab.research.google.com/assets/colab-badge.svg\" alt=\"Open In Colab\"/></a>"
      ]
    },
    {
      "cell_type": "code",
      "source": [
        "!pip install igraph plotly ipywidgets"
      ],
      "metadata": {
        "colab": {
          "base_uri": "https://localhost:8080/"
        },
        "id": "tkKhB9wfYbtr",
        "outputId": "a66f2de7-fe33-4f9d-f0d8-b5cccfec81ee"
      },
      "execution_count": 80,
      "outputs": [
        {
          "output_type": "stream",
          "name": "stdout",
          "text": [
            "Collecting igraph\n",
            "  Downloading igraph-0.11.9-cp39-abi3-manylinux_2_17_x86_64.manylinux2014_x86_64.whl.metadata (4.4 kB)\n",
            "Requirement already satisfied: plotly in /usr/local/lib/python3.11/dist-packages (5.24.1)\n",
            "Requirement already satisfied: ipywidgets in /usr/local/lib/python3.11/dist-packages (7.7.1)\n",
            "Collecting texttable>=1.6.2 (from igraph)\n",
            "  Downloading texttable-1.7.0-py2.py3-none-any.whl.metadata (9.8 kB)\n",
            "Requirement already satisfied: tenacity>=6.2.0 in /usr/local/lib/python3.11/dist-packages (from plotly) (8.5.0)\n",
            "Requirement already satisfied: packaging in /usr/local/lib/python3.11/dist-packages (from plotly) (25.0)\n",
            "Requirement already satisfied: ipykernel>=4.5.1 in /usr/local/lib/python3.11/dist-packages (from ipywidgets) (6.17.1)\n",
            "Requirement already satisfied: ipython-genutils~=0.2.0 in /usr/local/lib/python3.11/dist-packages (from ipywidgets) (0.2.0)\n",
            "Requirement already satisfied: traitlets>=4.3.1 in /usr/local/lib/python3.11/dist-packages (from ipywidgets) (5.7.1)\n",
            "Requirement already satisfied: widgetsnbextension~=3.6.0 in /usr/local/lib/python3.11/dist-packages (from ipywidgets) (3.6.10)\n",
            "Requirement already satisfied: ipython>=4.0.0 in /usr/local/lib/python3.11/dist-packages (from ipywidgets) (7.34.0)\n",
            "Requirement already satisfied: jupyterlab-widgets>=1.0.0 in /usr/local/lib/python3.11/dist-packages (from ipywidgets) (3.0.15)\n",
            "Requirement already satisfied: debugpy>=1.0 in /usr/local/lib/python3.11/dist-packages (from ipykernel>=4.5.1->ipywidgets) (1.8.15)\n",
            "Requirement already satisfied: jupyter-client>=6.1.12 in /usr/local/lib/python3.11/dist-packages (from ipykernel>=4.5.1->ipywidgets) (6.1.12)\n",
            "Requirement already satisfied: matplotlib-inline>=0.1 in /usr/local/lib/python3.11/dist-packages (from ipykernel>=4.5.1->ipywidgets) (0.1.7)\n",
            "Requirement already satisfied: nest-asyncio in /usr/local/lib/python3.11/dist-packages (from ipykernel>=4.5.1->ipywidgets) (1.6.0)\n",
            "Requirement already satisfied: psutil in /usr/local/lib/python3.11/dist-packages (from ipykernel>=4.5.1->ipywidgets) (5.9.5)\n",
            "Requirement already satisfied: pyzmq>=17 in /usr/local/lib/python3.11/dist-packages (from ipykernel>=4.5.1->ipywidgets) (26.2.1)\n",
            "Requirement already satisfied: tornado>=6.1 in /usr/local/lib/python3.11/dist-packages (from ipykernel>=4.5.1->ipywidgets) (6.4.2)\n",
            "Requirement already satisfied: setuptools>=18.5 in /usr/local/lib/python3.11/dist-packages (from ipython>=4.0.0->ipywidgets) (75.2.0)\n",
            "Collecting jedi>=0.16 (from ipython>=4.0.0->ipywidgets)\n",
            "  Downloading jedi-0.19.2-py2.py3-none-any.whl.metadata (22 kB)\n",
            "Requirement already satisfied: decorator in /usr/local/lib/python3.11/dist-packages (from ipython>=4.0.0->ipywidgets) (4.4.2)\n",
            "Requirement already satisfied: pickleshare in /usr/local/lib/python3.11/dist-packages (from ipython>=4.0.0->ipywidgets) (0.7.5)\n",
            "Requirement already satisfied: prompt-toolkit!=3.0.0,!=3.0.1,<3.1.0,>=2.0.0 in /usr/local/lib/python3.11/dist-packages (from ipython>=4.0.0->ipywidgets) (3.0.51)\n",
            "Requirement already satisfied: pygments in /usr/local/lib/python3.11/dist-packages (from ipython>=4.0.0->ipywidgets) (2.19.2)\n",
            "Requirement already satisfied: backcall in /usr/local/lib/python3.11/dist-packages (from ipython>=4.0.0->ipywidgets) (0.2.0)\n",
            "Requirement already satisfied: pexpect>4.3 in /usr/local/lib/python3.11/dist-packages (from ipython>=4.0.0->ipywidgets) (4.9.0)\n",
            "Requirement already satisfied: notebook>=4.4.1 in /usr/local/lib/python3.11/dist-packages (from widgetsnbextension~=3.6.0->ipywidgets) (6.5.7)\n",
            "Requirement already satisfied: parso<0.9.0,>=0.8.4 in /usr/local/lib/python3.11/dist-packages (from jedi>=0.16->ipython>=4.0.0->ipywidgets) (0.8.4)\n",
            "Requirement already satisfied: jupyter-core>=4.6.0 in /usr/local/lib/python3.11/dist-packages (from jupyter-client>=6.1.12->ipykernel>=4.5.1->ipywidgets) (5.8.1)\n",
            "Requirement already satisfied: python-dateutil>=2.1 in /usr/local/lib/python3.11/dist-packages (from jupyter-client>=6.1.12->ipykernel>=4.5.1->ipywidgets) (2.9.0.post0)\n",
            "Requirement already satisfied: jinja2 in /usr/local/lib/python3.11/dist-packages (from notebook>=4.4.1->widgetsnbextension~=3.6.0->ipywidgets) (3.1.6)\n",
            "Requirement already satisfied: argon2-cffi in /usr/local/lib/python3.11/dist-packages (from notebook>=4.4.1->widgetsnbextension~=3.6.0->ipywidgets) (25.1.0)\n",
            "Requirement already satisfied: nbformat in /usr/local/lib/python3.11/dist-packages (from notebook>=4.4.1->widgetsnbextension~=3.6.0->ipywidgets) (5.10.4)\n",
            "Requirement already satisfied: nbconvert>=5 in /usr/local/lib/python3.11/dist-packages (from notebook>=4.4.1->widgetsnbextension~=3.6.0->ipywidgets) (7.16.6)\n",
            "Requirement already satisfied: Send2Trash>=1.8.0 in /usr/local/lib/python3.11/dist-packages (from notebook>=4.4.1->widgetsnbextension~=3.6.0->ipywidgets) (1.8.3)\n",
            "Requirement already satisfied: terminado>=0.8.3 in /usr/local/lib/python3.11/dist-packages (from notebook>=4.4.1->widgetsnbextension~=3.6.0->ipywidgets) (0.18.1)\n",
            "Requirement already satisfied: prometheus-client in /usr/local/lib/python3.11/dist-packages (from notebook>=4.4.1->widgetsnbextension~=3.6.0->ipywidgets) (0.22.1)\n",
            "Requirement already satisfied: nbclassic>=0.4.7 in /usr/local/lib/python3.11/dist-packages (from notebook>=4.4.1->widgetsnbextension~=3.6.0->ipywidgets) (1.3.1)\n",
            "Requirement already satisfied: ptyprocess>=0.5 in /usr/local/lib/python3.11/dist-packages (from pexpect>4.3->ipython>=4.0.0->ipywidgets) (0.7.0)\n",
            "Requirement already satisfied: wcwidth in /usr/local/lib/python3.11/dist-packages (from prompt-toolkit!=3.0.0,!=3.0.1,<3.1.0,>=2.0.0->ipython>=4.0.0->ipywidgets) (0.2.13)\n",
            "Requirement already satisfied: platformdirs>=2.5 in /usr/local/lib/python3.11/dist-packages (from jupyter-core>=4.6.0->jupyter-client>=6.1.12->ipykernel>=4.5.1->ipywidgets) (4.3.8)\n",
            "Requirement already satisfied: notebook-shim>=0.2.3 in /usr/local/lib/python3.11/dist-packages (from nbclassic>=0.4.7->notebook>=4.4.1->widgetsnbextension~=3.6.0->ipywidgets) (0.2.4)\n",
            "Requirement already satisfied: beautifulsoup4 in /usr/local/lib/python3.11/dist-packages (from nbconvert>=5->notebook>=4.4.1->widgetsnbextension~=3.6.0->ipywidgets) (4.13.4)\n",
            "Requirement already satisfied: bleach!=5.0.0 in /usr/local/lib/python3.11/dist-packages (from bleach[css]!=5.0.0->nbconvert>=5->notebook>=4.4.1->widgetsnbextension~=3.6.0->ipywidgets) (6.2.0)\n",
            "Requirement already satisfied: defusedxml in /usr/local/lib/python3.11/dist-packages (from nbconvert>=5->notebook>=4.4.1->widgetsnbextension~=3.6.0->ipywidgets) (0.7.1)\n",
            "Requirement already satisfied: jupyterlab-pygments in /usr/local/lib/python3.11/dist-packages (from nbconvert>=5->notebook>=4.4.1->widgetsnbextension~=3.6.0->ipywidgets) (0.3.0)\n",
            "Requirement already satisfied: markupsafe>=2.0 in /usr/local/lib/python3.11/dist-packages (from nbconvert>=5->notebook>=4.4.1->widgetsnbextension~=3.6.0->ipywidgets) (3.0.2)\n",
            "Requirement already satisfied: mistune<4,>=2.0.3 in /usr/local/lib/python3.11/dist-packages (from nbconvert>=5->notebook>=4.4.1->widgetsnbextension~=3.6.0->ipywidgets) (3.1.3)\n",
            "Requirement already satisfied: nbclient>=0.5.0 in /usr/local/lib/python3.11/dist-packages (from nbconvert>=5->notebook>=4.4.1->widgetsnbextension~=3.6.0->ipywidgets) (0.10.2)\n",
            "Requirement already satisfied: pandocfilters>=1.4.1 in /usr/local/lib/python3.11/dist-packages (from nbconvert>=5->notebook>=4.4.1->widgetsnbextension~=3.6.0->ipywidgets) (1.5.1)\n",
            "Requirement already satisfied: fastjsonschema>=2.15 in /usr/local/lib/python3.11/dist-packages (from nbformat->notebook>=4.4.1->widgetsnbextension~=3.6.0->ipywidgets) (2.21.1)\n",
            "Requirement already satisfied: jsonschema>=2.6 in /usr/local/lib/python3.11/dist-packages (from nbformat->notebook>=4.4.1->widgetsnbextension~=3.6.0->ipywidgets) (4.25.0)\n",
            "Requirement already satisfied: six>=1.5 in /usr/local/lib/python3.11/dist-packages (from python-dateutil>=2.1->jupyter-client>=6.1.12->ipykernel>=4.5.1->ipywidgets) (1.17.0)\n",
            "Requirement already satisfied: argon2-cffi-bindings in /usr/local/lib/python3.11/dist-packages (from argon2-cffi->notebook>=4.4.1->widgetsnbextension~=3.6.0->ipywidgets) (21.2.0)\n",
            "Requirement already satisfied: webencodings in /usr/local/lib/python3.11/dist-packages (from bleach!=5.0.0->bleach[css]!=5.0.0->nbconvert>=5->notebook>=4.4.1->widgetsnbextension~=3.6.0->ipywidgets) (0.5.1)\n",
            "Requirement already satisfied: tinycss2<1.5,>=1.1.0 in /usr/local/lib/python3.11/dist-packages (from bleach[css]!=5.0.0->nbconvert>=5->notebook>=4.4.1->widgetsnbextension~=3.6.0->ipywidgets) (1.4.0)\n",
            "Requirement already satisfied: attrs>=22.2.0 in /usr/local/lib/python3.11/dist-packages (from jsonschema>=2.6->nbformat->notebook>=4.4.1->widgetsnbextension~=3.6.0->ipywidgets) (25.3.0)\n",
            "Requirement already satisfied: jsonschema-specifications>=2023.03.6 in /usr/local/lib/python3.11/dist-packages (from jsonschema>=2.6->nbformat->notebook>=4.4.1->widgetsnbextension~=3.6.0->ipywidgets) (2025.4.1)\n",
            "Requirement already satisfied: referencing>=0.28.4 in /usr/local/lib/python3.11/dist-packages (from jsonschema>=2.6->nbformat->notebook>=4.4.1->widgetsnbextension~=3.6.0->ipywidgets) (0.36.2)\n",
            "Requirement already satisfied: rpds-py>=0.7.1 in /usr/local/lib/python3.11/dist-packages (from jsonschema>=2.6->nbformat->notebook>=4.4.1->widgetsnbextension~=3.6.0->ipywidgets) (0.26.0)\n",
            "Requirement already satisfied: jupyter-server<3,>=1.8 in /usr/local/lib/python3.11/dist-packages (from notebook-shim>=0.2.3->nbclassic>=0.4.7->notebook>=4.4.1->widgetsnbextension~=3.6.0->ipywidgets) (1.16.0)\n",
            "Requirement already satisfied: cffi>=1.0.1 in /usr/local/lib/python3.11/dist-packages (from argon2-cffi-bindings->argon2-cffi->notebook>=4.4.1->widgetsnbextension~=3.6.0->ipywidgets) (1.17.1)\n",
            "Requirement already satisfied: soupsieve>1.2 in /usr/local/lib/python3.11/dist-packages (from beautifulsoup4->nbconvert>=5->notebook>=4.4.1->widgetsnbextension~=3.6.0->ipywidgets) (2.7)\n",
            "Requirement already satisfied: typing-extensions>=4.0.0 in /usr/local/lib/python3.11/dist-packages (from beautifulsoup4->nbconvert>=5->notebook>=4.4.1->widgetsnbextension~=3.6.0->ipywidgets) (4.14.1)\n",
            "Requirement already satisfied: pycparser in /usr/local/lib/python3.11/dist-packages (from cffi>=1.0.1->argon2-cffi-bindings->argon2-cffi->notebook>=4.4.1->widgetsnbextension~=3.6.0->ipywidgets) (2.22)\n",
            "Requirement already satisfied: anyio>=3.1.0 in /usr/local/lib/python3.11/dist-packages (from jupyter-server<3,>=1.8->notebook-shim>=0.2.3->nbclassic>=0.4.7->notebook>=4.4.1->widgetsnbextension~=3.6.0->ipywidgets) (4.9.0)\n",
            "Requirement already satisfied: websocket-client in /usr/local/lib/python3.11/dist-packages (from jupyter-server<3,>=1.8->notebook-shim>=0.2.3->nbclassic>=0.4.7->notebook>=4.4.1->widgetsnbextension~=3.6.0->ipywidgets) (1.8.0)\n",
            "Requirement already satisfied: idna>=2.8 in /usr/local/lib/python3.11/dist-packages (from anyio>=3.1.0->jupyter-server<3,>=1.8->notebook-shim>=0.2.3->nbclassic>=0.4.7->notebook>=4.4.1->widgetsnbextension~=3.6.0->ipywidgets) (3.10)\n",
            "Requirement already satisfied: sniffio>=1.1 in /usr/local/lib/python3.11/dist-packages (from anyio>=3.1.0->jupyter-server<3,>=1.8->notebook-shim>=0.2.3->nbclassic>=0.4.7->notebook>=4.4.1->widgetsnbextension~=3.6.0->ipywidgets) (1.3.1)\n",
            "Downloading igraph-0.11.9-cp39-abi3-manylinux_2_17_x86_64.manylinux2014_x86_64.whl (4.4 MB)\n",
            "\u001b[2K   \u001b[90m━━━━━━━━━━━━━━━━━━━━━━━━━━━━━━━━━━━━━━━━\u001b[0m \u001b[32m4.4/4.4 MB\u001b[0m \u001b[31m74.2 MB/s\u001b[0m eta \u001b[36m0:00:00\u001b[0m\n",
            "\u001b[?25hDownloading texttable-1.7.0-py2.py3-none-any.whl (10 kB)\n",
            "Downloading jedi-0.19.2-py2.py3-none-any.whl (1.6 MB)\n",
            "\u001b[2K   \u001b[90m━━━━━━━━━━━━━━━━━━━━━━━━━━━━━━━━━━━━━━━━\u001b[0m \u001b[32m1.6/1.6 MB\u001b[0m \u001b[31m69.4 MB/s\u001b[0m eta \u001b[36m0:00:00\u001b[0m\n",
            "\u001b[?25hInstalling collected packages: texttable, jedi, igraph\n",
            "Successfully installed igraph-0.11.9 jedi-0.19.2 texttable-1.7.0\n"
          ]
        }
      ]
    },
    {
      "cell_type": "code",
      "execution_count": 1,
      "metadata": {
        "colab": {
          "base_uri": "https://localhost:8080/"
        },
        "id": "TSI3ega_mhh6",
        "outputId": "bee0be7f-cf01-4dd6-9efb-7cac3fa5f3df"
      },
      "outputs": [
        {
          "output_type": "stream",
          "name": "stdout",
          "text": [
            "Cloning into 'mtg-draft-agent'...\n",
            "remote: Enumerating objects: 103, done.\u001b[K\n",
            "remote: Counting objects: 100% (103/103), done.\u001b[K\n",
            "remote: Compressing objects: 100% (75/75), done.\u001b[K\n",
            "remote: Total 103 (delta 43), reused 57 (delta 23), pack-reused 0 (from 0)\u001b[K\n",
            "Receiving objects: 100% (103/103), 207.36 KiB | 7.97 MiB/s, done.\n",
            "Resolving deltas: 100% (43/43), done.\n",
            "/content/mtg-draft-agent\n",
            "Starting config...\n",
            "Running in Colab? Yes\n",
            "\n",
            "Configuring Google Colab...\n",
            "Mounting Drive...\n",
            "Mounted at /content/mtg-draft-agent/drive\n",
            "BASE_PATH =  /content/mtg-draft-agent\n",
            "DATA_FOLDER = /content/mtg-draft-agent/drive/MyDrive/Erdos25/MTGdraft\n",
            "BASE_PATH == os.getcwd(): True\n",
            "\n",
            "Configuration done\n"
          ]
        }
      ],
      "source": [
        "# Configure Drive or Jupyter notebook -- only runs when first loaded\n",
        "if \"CONFIG_DONE\" not in globals():\n",
        "    # Need to mount drive and clone repo to access data and functions\n",
        "    try:\n",
        "        from google.colab import drive  # type: ignore\n",
        "\n",
        "        IN_COLAB = True\n",
        "\n",
        "        # clone repo\n",
        "        !git clone https://github.com/doctorsmylie/mtg-draft-agent\n",
        "        %cd mtg-draft-agent\n",
        "\n",
        "    except ModuleNotFoundError:\n",
        "        IN_COLAB = False\n",
        "\n",
        "    # Finish configuration -- also configures notebook outside of Colab\n",
        "    %run \"project_path.ipynb\"\n",
        "else:\n",
        "    print(\"Config done already\")"
      ]
    },
    {
      "cell_type": "code",
      "source": [
        "%run \"17landsdataimport.ipynb\""
      ],
      "metadata": {
        "colab": {
          "base_uri": "https://localhost:8080/"
        },
        "id": "WH18v_sGRqUN",
        "outputId": "ae9eeb84-8895-44d8-f59d-b4337d1d5e8b"
      },
      "execution_count": 2,
      "outputs": [
        {
          "output_type": "stream",
          "name": "stdout",
          "text": [
            "Collecting spells-mtg\n",
            "  Downloading spells_mtg-0.11.7-py3-none-any.whl.metadata (47 kB)\n",
            "\u001b[2K     \u001b[90m━━━━━━━━━━━━━━━━━━━━━━━━━━━━━━━━━━━━━━━━\u001b[0m \u001b[32m47.4/47.4 kB\u001b[0m \u001b[31m2.3 MB/s\u001b[0m eta \u001b[36m0:00:00\u001b[0m\n",
            "\u001b[?25hRequirement already satisfied: polars>=1.14.0 in /usr/local/lib/python3.11/dist-packages (from spells-mtg) (1.25.0)\n",
            "Collecting wget>=3.2 (from spells-mtg)\n",
            "  Downloading wget-3.2.zip (10 kB)\n",
            "  Preparing metadata (setup.py) ... \u001b[?25l\u001b[?25hdone\n",
            "Downloading spells_mtg-0.11.7-py3-none-any.whl (43 kB)\n",
            "\u001b[2K   \u001b[90m━━━━━━━━━━━━━━━━━━━━━━━━━━━━━━━━━━━━━━━━\u001b[0m \u001b[32m43.7/43.7 kB\u001b[0m \u001b[31m3.9 MB/s\u001b[0m eta \u001b[36m0:00:00\u001b[0m\n",
            "\u001b[?25hBuilding wheels for collected packages: wget\n",
            "  Building wheel for wget (setup.py) ... \u001b[?25l\u001b[?25hdone\n",
            "  Created wheel for wget: filename=wget-3.2-py3-none-any.whl size=9655 sha256=db4251e7a96eef0b1eb67a2ea619c6dced98551beaf52ddde2e1c48cbe028299\n",
            "  Stored in directory: /root/.cache/pip/wheels/40/b3/0f/a40dbd1c6861731779f62cc4babcb234387e11d697df70ee97\n",
            "Successfully built wget\n",
            "Installing collected packages: wget, spells-mtg\n",
            "Successfully installed spells-mtg-0.11.7 wget-3.2\n",
            "Directory '/content/mtg-draft-agent/drive/MyDrive/Erdos25/MTGdraft/spells_data/DSK' copied successfully to '/root/.local/share/spells/external/DSK'.\n",
            "Remaining columns: []\n"
          ]
        }
      ]
    },
    {
      "cell_type": "code",
      "source": [
        "deck_gamedata_collected"
      ],
      "metadata": {
        "colab": {
          "base_uri": "https://localhost:8080/",
          "height": 532
        },
        "id": "1VZOAQH9R4KE",
        "outputId": "74a30811-67d2-460e-cd08-c7daa155906e"
      },
      "execution_count": 3,
      "outputs": [
        {
          "output_type": "execute_result",
          "data": {
            "text/plain": [
              "shape: (164_413, 296)\n",
              "┌────────────┬────────────┬──────┬────────────┬───┬────────────┬───────────┬───────────┬───────────┐\n",
              "│ draft_id   ┆ build_inde ┆ wins ┆ total_matc ┆ … ┆ deck_Winte ┆ deck_Wint ┆ deck_With ┆ deck_Zimo │\n",
              "│ ---        ┆ x          ┆ ---  ┆ hes        ┆   ┆ r's Interv ┆ er, Misan ┆ ering     ┆ ne, All-Q │\n",
              "│ str        ┆ ---        ┆ u32  ┆ ---        ┆   ┆ ention     ┆ thropic   ┆ Torment   ┆ uestionin │\n",
              "│            ┆ i8         ┆      ┆ u32        ┆   ┆ ---        ┆ Guid…     ┆ ---       ┆ g         │\n",
              "│            ┆            ┆      ┆            ┆   ┆ i8         ┆ ---       ┆ i8        ┆ ---       │\n",
              "│            ┆            ┆      ┆            ┆   ┆            ┆ i8        ┆           ┆ i8        │\n",
              "╞════════════╪════════════╪══════╪════════════╪═══╪════════════╪═══════════╪═══════════╪═══════════╡\n",
              "│ 4003d00abf ┆ 0          ┆ 2    ┆ 5          ┆ … ┆ 0          ┆ 0         ┆ 0         ┆ 0         │\n",
              "│ de4997a04d ┆            ┆      ┆            ┆   ┆            ┆           ┆           ┆           │\n",
              "│ 2fb9199ab7 ┆            ┆      ┆            ┆   ┆            ┆           ┆           ┆           │\n",
              "│ …          ┆            ┆      ┆            ┆   ┆            ┆           ┆           ┆           │\n",
              "│ c56c074589 ┆ 0          ┆ 5    ┆ 8          ┆ … ┆ 0          ┆ 0         ┆ 0         ┆ 0         │\n",
              "│ 394adba944 ┆            ┆      ┆            ┆   ┆            ┆           ┆           ┆           │\n",
              "│ 08947c0b50 ┆            ┆      ┆            ┆   ┆            ┆           ┆           ┆           │\n",
              "│ …          ┆            ┆      ┆            ┆   ┆            ┆           ┆           ┆           │\n",
              "│ e4dd4a31ce ┆ 0          ┆ 3    ┆ 6          ┆ … ┆ 0          ┆ 0         ┆ 0         ┆ 1         │\n",
              "│ d5475fb932 ┆            ┆      ┆            ┆   ┆            ┆           ┆           ┆           │\n",
              "│ c42f11c508 ┆            ┆      ┆            ┆   ┆            ┆           ┆           ┆           │\n",
              "│ …          ┆            ┆      ┆            ┆   ┆            ┆           ┆           ┆           │\n",
              "│ c77dd53e34 ┆ 1          ┆ 5    ┆ 8          ┆ … ┆ 0          ┆ 0         ┆ 0         ┆ 0         │\n",
              "│ 9f4edf8c86 ┆            ┆      ┆            ┆   ┆            ┆           ┆           ┆           │\n",
              "│ 05e17d1e49 ┆            ┆      ┆            ┆   ┆            ┆           ┆           ┆           │\n",
              "│ …          ┆            ┆      ┆            ┆   ┆            ┆           ┆           ┆           │\n",
              "│ 8bbe618e49 ┆ 0          ┆ 7    ┆ 8          ┆ … ┆ 0          ┆ 0         ┆ 0         ┆ 0         │\n",
              "│ ff451ab5d9 ┆            ┆      ┆            ┆   ┆            ┆           ┆           ┆           │\n",
              "│ a5e075d76b ┆            ┆      ┆            ┆   ┆            ┆           ┆           ┆           │\n",
              "│ …          ┆            ┆      ┆            ┆   ┆            ┆           ┆           ┆           │\n",
              "│ …          ┆ …          ┆ …    ┆ …          ┆ … ┆ …          ┆ …         ┆ …         ┆ …         │\n",
              "│ c99d50477c ┆ 0          ┆ 1    ┆ 3          ┆ … ┆ 2          ┆ 0         ┆ 0         ┆ 0         │\n",
              "│ c5492e9634 ┆            ┆      ┆            ┆   ┆            ┆           ┆           ┆           │\n",
              "│ 8674b2f1cf ┆            ┆      ┆            ┆   ┆            ┆           ┆           ┆           │\n",
              "│ …          ┆            ┆      ┆            ┆   ┆            ┆           ┆           ┆           │\n",
              "│ a553b91091 ┆ 0          ┆ 1    ┆ 4          ┆ … ┆ 0          ┆ 0         ┆ 0         ┆ 0         │\n",
              "│ 17430fa5bf ┆            ┆      ┆            ┆   ┆            ┆           ┆           ┆           │\n",
              "│ 78e94bbf35 ┆            ┆      ┆            ┆   ┆            ┆           ┆           ┆           │\n",
              "│ …          ┆            ┆      ┆            ┆   ┆            ┆           ┆           ┆           │\n",
              "│ 0a05513e5a ┆ 0          ┆ 5    ┆ 8          ┆ … ┆ 0          ┆ 0         ┆ 0         ┆ 0         │\n",
              "│ 834b89bb2a ┆            ┆      ┆            ┆   ┆            ┆           ┆           ┆           │\n",
              "│ 5922954d6d ┆            ┆      ┆            ┆   ┆            ┆           ┆           ┆           │\n",
              "│ …          ┆            ┆      ┆            ┆   ┆            ┆           ┆           ┆           │\n",
              "│ a4fb0aad24 ┆ 1          ┆ 2    ┆ 4          ┆ … ┆ 0          ┆ 0         ┆ 0         ┆ 0         │\n",
              "│ 4c4daeb82a ┆            ┆      ┆            ┆   ┆            ┆           ┆           ┆           │\n",
              "│ 64e5bb1f37 ┆            ┆      ┆            ┆   ┆            ┆           ┆           ┆           │\n",
              "│ …          ┆            ┆      ┆            ┆   ┆            ┆           ┆           ┆           │\n",
              "│ 07c1cdb8f9 ┆ 0          ┆ 3    ┆ 6          ┆ … ┆ 0          ┆ 0         ┆ 0         ┆ 0         │\n",
              "│ bf46f0b8a5 ┆            ┆      ┆            ┆   ┆            ┆           ┆           ┆           │\n",
              "│ 54c7198221 ┆            ┆      ┆            ┆   ┆            ┆           ┆           ┆           │\n",
              "│ …          ┆            ┆      ┆            ┆   ┆            ┆           ┆           ┆           │\n",
              "└────────────┴────────────┴──────┴────────────┴───┴────────────┴───────────┴───────────┴───────────┘"
            ],
            "text/html": [
              "<div><style>\n",
              ".dataframe > thead > tr,\n",
              ".dataframe > tbody > tr {\n",
              "  text-align: right;\n",
              "  white-space: pre-wrap;\n",
              "}\n",
              "</style>\n",
              "<small>shape: (164_413, 296)</small><table border=\"1\" class=\"dataframe\"><thead><tr><th>draft_id</th><th>build_index</th><th>wins</th><th>total_matches</th><th>win_rate</th><th>deck_Forest</th><th>deck_Island</th><th>deck_Mountain</th><th>deck_Plains</th><th>deck_Swamp</th><th>user_n_games_bucket</th><th>user_game_win_rate_bucket</th><th>main_colors</th><th>splash_colors</th><th>opp_colors</th><th>deck_Abandoned Campground</th><th>deck_Abhorrent Oculus</th><th>deck_Acrobatic Cheerleader</th><th>deck_Altanak, the Thrice-Called</th><th>deck_Anthropede</th><th>deck_Appendage Amalgam</th><th>deck_Arabella, Abandoned Doll</th><th>deck_Attack-in-the-Box</th><th>deck_Balemurk Leech</th><th>deck_Balustrade Wurm</th><th>deck_Baseball Bat</th><th>deck_Bashful Beastie</th><th>deck_Bear Trap</th><th>deck_Beastie Beatdown</th><th>deck_Bedhead Beastie</th><th>deck_Betrayer&#x27;s Bargain</th><th>deck_Blazemire Verge</th><th>deck_Bleeding Woods</th><th>deck_Boilerbilges Ripper</th><th>deck_Bottomless Pool // Locker Room</th><th>deck_Break Down the Door</th><th>deck_Broodspinner</th><th>&hellip;</th><th>deck_Turn Inside Out</th><th>deck_Twist Reality</th><th>deck_Twitching Doll</th><th>deck_Tyvar, the Pummeler</th><th>deck_Unable to Scream</th><th>deck_Undead Sprinter</th><th>deck_Under the Skin</th><th>deck_Underwater Tunnel // Slimy Aquarium</th><th>deck_Unholy Annex // Ritual Chamber</th><th>deck_Unholy Heat</th><th>deck_Unidentified Hovership</th><th>deck_Unnerving Grasp</th><th>deck_Unsettling Twins</th><th>deck_Unstoppable Slasher</th><th>deck_Untimely Malfunction</th><th>deck_Unwanted Remake</th><th>deck_Unwilling Vessel</th><th>deck_Valgavoth&#x27;s Faithful</th><th>deck_Valgavoth&#x27;s Lair</th><th>deck_Valgavoth&#x27;s Onslaught</th><th>deck_Valgavoth, Terror Eater</th><th>deck_Vanish from Sight</th><th>deck_Vengeful Possession</th><th>deck_Veteran Survivor</th><th>deck_Vicious Clown</th><th>deck_Victor, Valgavoth&#x27;s Seneschal</th><th>deck_Vile Mutilator</th><th>deck_Violent Urge</th><th>deck_Walk-In Closet // Forgotten Cellar</th><th>deck_Waltz of Rage</th><th>deck_Wary Watchdog</th><th>deck_Wickerfolk Thresher</th><th>deck_Wildfire Wickerfolk</th><th>deck_Winter&#x27;s Intervention</th><th>deck_Winter, Misanthropic Guide</th><th>deck_Withering Torment</th><th>deck_Zimone, All-Questioning</th></tr><tr><td>str</td><td>i8</td><td>u32</td><td>u32</td><td>f32</td><td>i8</td><td>i8</td><td>i8</td><td>i8</td><td>i8</td><td>i16</td><td>f64</td><td>str</td><td>str</td><td>str</td><td>i8</td><td>i8</td><td>i8</td><td>i8</td><td>i8</td><td>i8</td><td>i8</td><td>i8</td><td>i8</td><td>i8</td><td>i8</td><td>i8</td><td>i8</td><td>i8</td><td>i8</td><td>i8</td><td>i8</td><td>i8</td><td>i8</td><td>i8</td><td>i8</td><td>i8</td><td>&hellip;</td><td>i8</td><td>i8</td><td>i8</td><td>i8</td><td>i8</td><td>i8</td><td>i8</td><td>i8</td><td>i8</td><td>i8</td><td>i8</td><td>i8</td><td>i8</td><td>i8</td><td>i8</td><td>i8</td><td>i8</td><td>i8</td><td>i8</td><td>i8</td><td>i8</td><td>i8</td><td>i8</td><td>i8</td><td>i8</td><td>i8</td><td>i8</td><td>i8</td><td>i8</td><td>i8</td><td>i8</td><td>i8</td><td>i8</td><td>i8</td><td>i8</td><td>i8</td><td>i8</td></tr></thead><tbody><tr><td>&quot;4003d00abfde4997a04d2fb9199ab7…</td><td>0</td><td>2</td><td>5</td><td>0.4</td><td>0</td><td>8</td><td>0</td><td>7</td><td>0</td><td>10</td><td>0.5</td><td>&quot;WU&quot;</td><td>null</td><td>&quot;WUR&quot;</td><td>1</td><td>0</td><td>0</td><td>0</td><td>0</td><td>0</td><td>0</td><td>0</td><td>0</td><td>0</td><td>0</td><td>0</td><td>0</td><td>0</td><td>0</td><td>0</td><td>0</td><td>0</td><td>0</td><td>0</td><td>0</td><td>0</td><td>&hellip;</td><td>0</td><td>0</td><td>0</td><td>0</td><td>1</td><td>0</td><td>0</td><td>0</td><td>0</td><td>0</td><td>0</td><td>0</td><td>0</td><td>0</td><td>0</td><td>0</td><td>0</td><td>0</td><td>0</td><td>0</td><td>0</td><td>0</td><td>0</td><td>0</td><td>0</td><td>0</td><td>0</td><td>0</td><td>0</td><td>0</td><td>0</td><td>0</td><td>0</td><td>0</td><td>0</td><td>0</td><td>0</td></tr><tr><td>&quot;c56c074589394adba94408947c0b50…</td><td>0</td><td>5</td><td>8</td><td>0.625</td><td>0</td><td>0</td><td>2</td><td>4</td><td>7</td><td>100</td><td>0.5</td><td>&quot;WBR&quot;</td><td>null</td><td>&quot;RG&quot;</td><td>0</td><td>0</td><td>0</td><td>0</td><td>0</td><td>0</td><td>0</td><td>0</td><td>1</td><td>0</td><td>0</td><td>0</td><td>0</td><td>0</td><td>0</td><td>0</td><td>0</td><td>0</td><td>0</td><td>0</td><td>0</td><td>0</td><td>&hellip;</td><td>0</td><td>0</td><td>0</td><td>0</td><td>0</td><td>0</td><td>0</td><td>0</td><td>0</td><td>0</td><td>1</td><td>0</td><td>0</td><td>0</td><td>0</td><td>0</td><td>0</td><td>0</td><td>0</td><td>0</td><td>0</td><td>0</td><td>0</td><td>0</td><td>0</td><td>0</td><td>0</td><td>0</td><td>0</td><td>0</td><td>0</td><td>0</td><td>0</td><td>0</td><td>0</td><td>0</td><td>0</td></tr><tr><td>&quot;e4dd4a31ced5475fb932c42f11c508…</td><td>0</td><td>3</td><td>6</td><td>0.5</td><td>7</td><td>6</td><td>0</td><td>2</td><td>0</td><td>100</td><td>0.52</td><td>&quot;UG&quot;</td><td>&quot;W&quot;</td><td>&quot;UBG&quot;</td><td>1</td><td>0</td><td>0</td><td>0</td><td>0</td><td>0</td><td>0</td><td>0</td><td>0</td><td>0</td><td>0</td><td>0</td><td>0</td><td>0</td><td>0</td><td>0</td><td>0</td><td>0</td><td>0</td><td>0</td><td>0</td><td>0</td><td>&hellip;</td><td>0</td><td>0</td><td>1</td><td>0</td><td>1</td><td>0</td><td>0</td><td>0</td><td>0</td><td>0</td><td>0</td><td>0</td><td>0</td><td>0</td><td>0</td><td>0</td><td>0</td><td>0</td><td>0</td><td>0</td><td>0</td><td>2</td><td>0</td><td>0</td><td>0</td><td>0</td><td>0</td><td>0</td><td>0</td><td>0</td><td>0</td><td>1</td><td>0</td><td>0</td><td>0</td><td>0</td><td>1</td></tr><tr><td>&quot;c77dd53e349f4edf8c8605e17d1e49…</td><td>1</td><td>5</td><td>8</td><td>0.625</td><td>8</td><td>0</td><td>0</td><td>9</td><td>0</td><td>100</td><td>0.52</td><td>&quot;WG&quot;</td><td>null</td><td>&quot;URG&quot;</td><td>0</td><td>0</td><td>0</td><td>1</td><td>0</td><td>0</td><td>0</td><td>0</td><td>0</td><td>0</td><td>0</td><td>0</td><td>0</td><td>0</td><td>0</td><td>0</td><td>0</td><td>0</td><td>0</td><td>0</td><td>0</td><td>0</td><td>&hellip;</td><td>0</td><td>0</td><td>0</td><td>0</td><td>0</td><td>0</td><td>0</td><td>0</td><td>0</td><td>0</td><td>0</td><td>0</td><td>0</td><td>0</td><td>0</td><td>0</td><td>0</td><td>0</td><td>0</td><td>0</td><td>0</td><td>0</td><td>0</td><td>0</td><td>0</td><td>0</td><td>0</td><td>0</td><td>0</td><td>0</td><td>0</td><td>0</td><td>0</td><td>0</td><td>0</td><td>0</td><td>0</td></tr><tr><td>&quot;8bbe618e49ff451ab5d9a5e075d76b…</td><td>0</td><td>7</td><td>8</td><td>0.875</td><td>0</td><td>7</td><td>1</td><td>7</td><td>0</td><td>500</td><td>0.6</td><td>&quot;WU&quot;</td><td>&quot;R&quot;</td><td>&quot;WU&quot;</td><td>0</td><td>0</td><td>0</td><td>0</td><td>0</td><td>0</td><td>0</td><td>0</td><td>0</td><td>0</td><td>0</td><td>0</td><td>0</td><td>0</td><td>0</td><td>0</td><td>0</td><td>0</td><td>0</td><td>2</td><td>0</td><td>0</td><td>&hellip;</td><td>0</td><td>0</td><td>0</td><td>0</td><td>0</td><td>0</td><td>0</td><td>0</td><td>0</td><td>0</td><td>0</td><td>0</td><td>1</td><td>0</td><td>0</td><td>0</td><td>0</td><td>0</td><td>0</td><td>0</td><td>0</td><td>1</td><td>0</td><td>0</td><td>0</td><td>0</td><td>0</td><td>0</td><td>0</td><td>0</td><td>0</td><td>0</td><td>0</td><td>0</td><td>0</td><td>0</td><td>0</td></tr><tr><td>&hellip;</td><td>&hellip;</td><td>&hellip;</td><td>&hellip;</td><td>&hellip;</td><td>&hellip;</td><td>&hellip;</td><td>&hellip;</td><td>&hellip;</td><td>&hellip;</td><td>&hellip;</td><td>&hellip;</td><td>&hellip;</td><td>&hellip;</td><td>&hellip;</td><td>&hellip;</td><td>&hellip;</td><td>&hellip;</td><td>&hellip;</td><td>&hellip;</td><td>&hellip;</td><td>&hellip;</td><td>&hellip;</td><td>&hellip;</td><td>&hellip;</td><td>&hellip;</td><td>&hellip;</td><td>&hellip;</td><td>&hellip;</td><td>&hellip;</td><td>&hellip;</td><td>&hellip;</td><td>&hellip;</td><td>&hellip;</td><td>&hellip;</td><td>&hellip;</td><td>&hellip;</td><td>&hellip;</td><td>&hellip;</td><td>&hellip;</td><td>&hellip;</td><td>&hellip;</td><td>&hellip;</td><td>&hellip;</td><td>&hellip;</td><td>&hellip;</td><td>&hellip;</td><td>&hellip;</td><td>&hellip;</td><td>&hellip;</td><td>&hellip;</td><td>&hellip;</td><td>&hellip;</td><td>&hellip;</td><td>&hellip;</td><td>&hellip;</td><td>&hellip;</td><td>&hellip;</td><td>&hellip;</td><td>&hellip;</td><td>&hellip;</td><td>&hellip;</td><td>&hellip;</td><td>&hellip;</td><td>&hellip;</td><td>&hellip;</td><td>&hellip;</td><td>&hellip;</td><td>&hellip;</td><td>&hellip;</td><td>&hellip;</td><td>&hellip;</td><td>&hellip;</td><td>&hellip;</td><td>&hellip;</td></tr><tr><td>&quot;c99d50477cc5492e96348674b2f1cf…</td><td>0</td><td>1</td><td>3</td><td>0.333333</td><td>0</td><td>0</td><td>0</td><td>8</td><td>7</td><td>50</td><td>0.56</td><td>&quot;WB&quot;</td><td>null</td><td>&quot;WUG&quot;</td><td>0</td><td>0</td><td>1</td><td>0</td><td>0</td><td>1</td><td>0</td><td>0</td><td>1</td><td>0</td><td>0</td><td>0</td><td>0</td><td>0</td><td>0</td><td>0</td><td>0</td><td>0</td><td>0</td><td>0</td><td>0</td><td>0</td><td>&hellip;</td><td>0</td><td>0</td><td>0</td><td>0</td><td>0</td><td>0</td><td>0</td><td>0</td><td>0</td><td>0</td><td>0</td><td>0</td><td>1</td><td>0</td><td>0</td><td>1</td><td>0</td><td>0</td><td>0</td><td>0</td><td>0</td><td>0</td><td>0</td><td>0</td><td>0</td><td>0</td><td>1</td><td>0</td><td>0</td><td>0</td><td>0</td><td>0</td><td>0</td><td>2</td><td>0</td><td>0</td><td>0</td></tr><tr><td>&quot;a553b9109117430fa5bf78e94bbf35…</td><td>0</td><td>1</td><td>4</td><td>0.25</td><td>0</td><td>0</td><td>9</td><td>8</td><td>0</td><td>100</td><td>0.58</td><td>&quot;WR&quot;</td><td>null</td><td>&quot;UG&quot;</td><td>0</td><td>0</td><td>1</td><td>0</td><td>0</td><td>0</td><td>0</td><td>0</td><td>0</td><td>0</td><td>0</td><td>0</td><td>0</td><td>0</td><td>0</td><td>1</td><td>0</td><td>0</td><td>0</td><td>0</td><td>0</td><td>0</td><td>&hellip;</td><td>2</td><td>0</td><td>0</td><td>0</td><td>0</td><td>0</td><td>0</td><td>0</td><td>0</td><td>0</td><td>0</td><td>0</td><td>3</td><td>0</td><td>0</td><td>0</td><td>0</td><td>0</td><td>0</td><td>0</td><td>0</td><td>0</td><td>0</td><td>0</td><td>2</td><td>0</td><td>0</td><td>0</td><td>0</td><td>0</td><td>0</td><td>0</td><td>0</td><td>0</td><td>0</td><td>0</td><td>0</td></tr><tr><td>&quot;0a05513e5a834b89bb2a5922954d6d…</td><td>0</td><td>5</td><td>8</td><td>0.625</td><td>0</td><td>9</td><td>0</td><td>8</td><td>0</td><td>100</td><td>0.5</td><td>&quot;WU&quot;</td><td>null</td><td>&quot;UR&quot;</td><td>0</td><td>0</td><td>0</td><td>0</td><td>0</td><td>0</td><td>0</td><td>0</td><td>0</td><td>0</td><td>0</td><td>0</td><td>0</td><td>0</td><td>0</td><td>0</td><td>0</td><td>0</td><td>0</td><td>1</td><td>0</td><td>0</td><td>&hellip;</td><td>0</td><td>0</td><td>0</td><td>0</td><td>0</td><td>0</td><td>0</td><td>0</td><td>0</td><td>0</td><td>0</td><td>0</td><td>0</td><td>0</td><td>0</td><td>0</td><td>0</td><td>0</td><td>0</td><td>0</td><td>0</td><td>0</td><td>0</td><td>0</td><td>0</td><td>0</td><td>0</td><td>0</td><td>0</td><td>0</td><td>0</td><td>0</td><td>0</td><td>0</td><td>0</td><td>0</td><td>0</td></tr><tr><td>&quot;a4fb0aad244c4daeb82a64e5bb1f37…</td><td>1</td><td>2</td><td>4</td><td>0.5</td><td>8</td><td>8</td><td>0</td><td>0</td><td>0</td><td>50</td><td>0.56</td><td>&quot;UG&quot;</td><td>null</td><td>&quot;RG&quot;</td><td>0</td><td>0</td><td>0</td><td>0</td><td>1</td><td>0</td><td>0</td><td>0</td><td>0</td><td>0</td><td>0</td><td>0</td><td>0</td><td>0</td><td>0</td><td>0</td><td>0</td><td>0</td><td>0</td><td>0</td><td>0</td><td>0</td><td>&hellip;</td><td>0</td><td>0</td><td>0</td><td>0</td><td>1</td><td>0</td><td>0</td><td>1</td><td>0</td><td>0</td><td>0</td><td>0</td><td>0</td><td>0</td><td>0</td><td>0</td><td>0</td><td>0</td><td>0</td><td>1</td><td>0</td><td>1</td><td>0</td><td>0</td><td>0</td><td>0</td><td>0</td><td>0</td><td>0</td><td>0</td><td>2</td><td>0</td><td>0</td><td>0</td><td>0</td><td>0</td><td>0</td></tr><tr><td>&quot;07c1cdb8f9bf46f0b8a554c7198221…</td><td>0</td><td>3</td><td>6</td><td>0.5</td><td>8</td><td>8</td><td>0</td><td>0</td><td>0</td><td>500</td><td>0.6</td><td>&quot;UG&quot;</td><td>null</td><td>&quot;RG&quot;</td><td>0</td><td>0</td><td>0</td><td>0</td><td>1</td><td>0</td><td>0</td><td>0</td><td>0</td><td>0</td><td>0</td><td>0</td><td>0</td><td>0</td><td>0</td><td>0</td><td>0</td><td>0</td><td>0</td><td>0</td><td>2</td><td>0</td><td>&hellip;</td><td>0</td><td>0</td><td>0</td><td>0</td><td>0</td><td>0</td><td>1</td><td>1</td><td>0</td><td>0</td><td>0</td><td>0</td><td>0</td><td>0</td><td>0</td><td>0</td><td>0</td><td>0</td><td>0</td><td>1</td><td>0</td><td>0</td><td>0</td><td>0</td><td>0</td><td>0</td><td>0</td><td>0</td><td>0</td><td>0</td><td>1</td><td>1</td><td>0</td><td>0</td><td>0</td><td>0</td><td>0</td></tr></tbody></table></div>"
            ]
          },
          "metadata": {},
          "execution_count": 3
        }
      ]
    },
    {
      "cell_type": "code",
      "source": [
        "import polars as pl\n",
        "\n",
        "def calculate_adjusted_zscore(df, column, mean, std_dev):\n",
        "  new_col_name = column + '_adjusted'\n",
        "  current_std_dev = df[column].std()\n",
        "  # Use with_columns to add the new column\n",
        "  df = df.with_columns(\n",
        "      ((pl.col(column) - pl.col(column).mean()) / pl.col(column).std() * std_dev + mean ).alias(new_col_name)\n",
        "  )\n",
        "  df = df.with_columns(\n",
        "      (pl.when(pl.col(new_col_name) < 0)\n",
        "      .then(pl.lit(0))\n",
        "      .otherwise(pl.col(new_col_name))\n",
        "      ).alias(new_col_name)\n",
        "  )\n",
        "  return df\n",
        "\n",
        "#example usage\n",
        "mean = 1\n",
        "std_dev = 0.2\n",
        "test_col = 'user_game_win_rate_bucket'\n",
        "deck_gamedata_collected = calculate_adjusted_zscore(deck_gamedata_collected, test_col, mean, std_dev)\n",
        "\n",
        "# Display the updated DataFrame to show the new column\n",
        "display(deck_gamedata_collected)\n",
        "# display summary of adjusted column\n",
        "print(deck_gamedata_collected[test_col + '_adjusted'].describe())"
      ],
      "metadata": {
        "colab": {
          "base_uri": "https://localhost:8080/",
          "height": 815
        },
        "id": "cYvv7OQKU4Vt",
        "outputId": "9199dcf4-f1fe-4045-ab8e-53a7dcd3a89c"
      },
      "execution_count": 4,
      "outputs": [
        {
          "output_type": "display_data",
          "data": {
            "text/plain": [
              "shape: (164_413, 297)\n",
              "┌────────────┬────────────┬──────┬────────────┬───┬────────────┬───────────┬───────────┬───────────┐\n",
              "│ draft_id   ┆ build_inde ┆ wins ┆ total_matc ┆ … ┆ deck_Winte ┆ deck_With ┆ deck_Zimo ┆ user_game │\n",
              "│ ---        ┆ x          ┆ ---  ┆ hes        ┆   ┆ r, Misanth ┆ ering     ┆ ne, All-Q ┆ _win_rate │\n",
              "│ str        ┆ ---        ┆ u32  ┆ ---        ┆   ┆ ropic      ┆ Torment   ┆ uestionin ┆ _bucket_a │\n",
              "│            ┆ i8         ┆      ┆ u32        ┆   ┆ Guid…      ┆ ---       ┆ g         ┆ dju…      │\n",
              "│            ┆            ┆      ┆            ┆   ┆ ---        ┆ i8        ┆ ---       ┆ ---       │\n",
              "│            ┆            ┆      ┆            ┆   ┆ i8         ┆           ┆ i8        ┆ f64       │\n",
              "╞════════════╪════════════╪══════╪════════════╪═══╪════════════╪═══════════╪═══════════╪═══════════╡\n",
              "│ 4003d00abf ┆ 0          ┆ 2    ┆ 5          ┆ … ┆ 0          ┆ 0         ┆ 0         ┆ 0.915133  │\n",
              "│ de4997a04d ┆            ┆      ┆            ┆   ┆            ┆           ┆           ┆           │\n",
              "│ 2fb9199ab7 ┆            ┆      ┆            ┆   ┆            ┆           ┆           ┆           │\n",
              "│ …          ┆            ┆      ┆            ┆   ┆            ┆           ┆           ┆           │\n",
              "│ c56c074589 ┆ 0          ┆ 5    ┆ 8          ┆ … ┆ 0          ┆ 0         ┆ 0         ┆ 0.915133  │\n",
              "│ 394adba944 ┆            ┆      ┆            ┆   ┆            ┆           ┆           ┆           │\n",
              "│ 08947c0b50 ┆            ┆      ┆            ┆   ┆            ┆           ┆           ┆           │\n",
              "│ …          ┆            ┆      ┆            ┆   ┆            ┆           ┆           ┆           │\n",
              "│ e4dd4a31ce ┆ 0          ┆ 3    ┆ 6          ┆ … ┆ 0          ┆ 0         ┆ 1         ┆ 0.970234  │\n",
              "│ d5475fb932 ┆            ┆      ┆            ┆   ┆            ┆           ┆           ┆           │\n",
              "│ c42f11c508 ┆            ┆      ┆            ┆   ┆            ┆           ┆           ┆           │\n",
              "│ …          ┆            ┆      ┆            ┆   ┆            ┆           ┆           ┆           │\n",
              "│ c77dd53e34 ┆ 1          ┆ 5    ┆ 8          ┆ … ┆ 0          ┆ 0         ┆ 0         ┆ 0.970234  │\n",
              "│ 9f4edf8c86 ┆            ┆      ┆            ┆   ┆            ┆           ┆           ┆           │\n",
              "│ 05e17d1e49 ┆            ┆      ┆            ┆   ┆            ┆           ┆           ┆           │\n",
              "│ …          ┆            ┆      ┆            ┆   ┆            ┆           ┆           ┆           │\n",
              "│ 8bbe618e49 ┆ 0          ┆ 7    ┆ 8          ┆ … ┆ 0          ┆ 0         ┆ 0         ┆ 1.190635  │\n",
              "│ ff451ab5d9 ┆            ┆      ┆            ┆   ┆            ┆           ┆           ┆           │\n",
              "│ a5e075d76b ┆            ┆      ┆            ┆   ┆            ┆           ┆           ┆           │\n",
              "│ …          ┆            ┆      ┆            ┆   ┆            ┆           ┆           ┆           │\n",
              "│ …          ┆ …          ┆ …    ┆ …          ┆ … ┆ …          ┆ …         ┆ …         ┆ …         │\n",
              "│ c99d50477c ┆ 0          ┆ 1    ┆ 3          ┆ … ┆ 0          ┆ 0         ┆ 0         ┆ 1.080435  │\n",
              "│ c5492e9634 ┆            ┆      ┆            ┆   ┆            ┆           ┆           ┆           │\n",
              "│ 8674b2f1cf ┆            ┆      ┆            ┆   ┆            ┆           ┆           ┆           │\n",
              "│ …          ┆            ┆      ┆            ┆   ┆            ┆           ┆           ┆           │\n",
              "│ a553b91091 ┆ 0          ┆ 1    ┆ 4          ┆ … ┆ 0          ┆ 0         ┆ 0         ┆ 1.135535  │\n",
              "│ 17430fa5bf ┆            ┆      ┆            ┆   ┆            ┆           ┆           ┆           │\n",
              "│ 78e94bbf35 ┆            ┆      ┆            ┆   ┆            ┆           ┆           ┆           │\n",
              "│ …          ┆            ┆      ┆            ┆   ┆            ┆           ┆           ┆           │\n",
              "│ 0a05513e5a ┆ 0          ┆ 5    ┆ 8          ┆ … ┆ 0          ┆ 0         ┆ 0         ┆ 0.915133  │\n",
              "│ 834b89bb2a ┆            ┆      ┆            ┆   ┆            ┆           ┆           ┆           │\n",
              "│ 5922954d6d ┆            ┆      ┆            ┆   ┆            ┆           ┆           ┆           │\n",
              "│ …          ┆            ┆      ┆            ┆   ┆            ┆           ┆           ┆           │\n",
              "│ a4fb0aad24 ┆ 1          ┆ 2    ┆ 4          ┆ … ┆ 0          ┆ 0         ┆ 0         ┆ 1.080435  │\n",
              "│ 4c4daeb82a ┆            ┆      ┆            ┆   ┆            ┆           ┆           ┆           │\n",
              "│ 64e5bb1f37 ┆            ┆      ┆            ┆   ┆            ┆           ┆           ┆           │\n",
              "│ …          ┆            ┆      ┆            ┆   ┆            ┆           ┆           ┆           │\n",
              "│ 07c1cdb8f9 ┆ 0          ┆ 3    ┆ 6          ┆ … ┆ 0          ┆ 0         ┆ 0         ┆ 1.190635  │\n",
              "│ bf46f0b8a5 ┆            ┆      ┆            ┆   ┆            ┆           ┆           ┆           │\n",
              "│ 54c7198221 ┆            ┆      ┆            ┆   ┆            ┆           ┆           ┆           │\n",
              "│ …          ┆            ┆      ┆            ┆   ┆            ┆           ┆           ┆           │\n",
              "└────────────┴────────────┴──────┴────────────┴───┴────────────┴───────────┴───────────┴───────────┘"
            ],
            "text/html": [
              "<div><style>\n",
              ".dataframe > thead > tr,\n",
              ".dataframe > tbody > tr {\n",
              "  text-align: right;\n",
              "  white-space: pre-wrap;\n",
              "}\n",
              "</style>\n",
              "<small>shape: (164_413, 297)</small><table border=\"1\" class=\"dataframe\"><thead><tr><th>draft_id</th><th>build_index</th><th>wins</th><th>total_matches</th><th>win_rate</th><th>deck_Forest</th><th>deck_Island</th><th>deck_Mountain</th><th>deck_Plains</th><th>deck_Swamp</th><th>user_n_games_bucket</th><th>user_game_win_rate_bucket</th><th>main_colors</th><th>splash_colors</th><th>opp_colors</th><th>deck_Abandoned Campground</th><th>deck_Abhorrent Oculus</th><th>deck_Acrobatic Cheerleader</th><th>deck_Altanak, the Thrice-Called</th><th>deck_Anthropede</th><th>deck_Appendage Amalgam</th><th>deck_Arabella, Abandoned Doll</th><th>deck_Attack-in-the-Box</th><th>deck_Balemurk Leech</th><th>deck_Balustrade Wurm</th><th>deck_Baseball Bat</th><th>deck_Bashful Beastie</th><th>deck_Bear Trap</th><th>deck_Beastie Beatdown</th><th>deck_Bedhead Beastie</th><th>deck_Betrayer&#x27;s Bargain</th><th>deck_Blazemire Verge</th><th>deck_Bleeding Woods</th><th>deck_Boilerbilges Ripper</th><th>deck_Bottomless Pool // Locker Room</th><th>deck_Break Down the Door</th><th>deck_Broodspinner</th><th>&hellip;</th><th>deck_Twist Reality</th><th>deck_Twitching Doll</th><th>deck_Tyvar, the Pummeler</th><th>deck_Unable to Scream</th><th>deck_Undead Sprinter</th><th>deck_Under the Skin</th><th>deck_Underwater Tunnel // Slimy Aquarium</th><th>deck_Unholy Annex // Ritual Chamber</th><th>deck_Unholy Heat</th><th>deck_Unidentified Hovership</th><th>deck_Unnerving Grasp</th><th>deck_Unsettling Twins</th><th>deck_Unstoppable Slasher</th><th>deck_Untimely Malfunction</th><th>deck_Unwanted Remake</th><th>deck_Unwilling Vessel</th><th>deck_Valgavoth&#x27;s Faithful</th><th>deck_Valgavoth&#x27;s Lair</th><th>deck_Valgavoth&#x27;s Onslaught</th><th>deck_Valgavoth, Terror Eater</th><th>deck_Vanish from Sight</th><th>deck_Vengeful Possession</th><th>deck_Veteran Survivor</th><th>deck_Vicious Clown</th><th>deck_Victor, Valgavoth&#x27;s Seneschal</th><th>deck_Vile Mutilator</th><th>deck_Violent Urge</th><th>deck_Walk-In Closet // Forgotten Cellar</th><th>deck_Waltz of Rage</th><th>deck_Wary Watchdog</th><th>deck_Wickerfolk Thresher</th><th>deck_Wildfire Wickerfolk</th><th>deck_Winter&#x27;s Intervention</th><th>deck_Winter, Misanthropic Guide</th><th>deck_Withering Torment</th><th>deck_Zimone, All-Questioning</th><th>user_game_win_rate_bucket_adjusted</th></tr><tr><td>str</td><td>i8</td><td>u32</td><td>u32</td><td>f32</td><td>i8</td><td>i8</td><td>i8</td><td>i8</td><td>i8</td><td>i16</td><td>f64</td><td>str</td><td>str</td><td>str</td><td>i8</td><td>i8</td><td>i8</td><td>i8</td><td>i8</td><td>i8</td><td>i8</td><td>i8</td><td>i8</td><td>i8</td><td>i8</td><td>i8</td><td>i8</td><td>i8</td><td>i8</td><td>i8</td><td>i8</td><td>i8</td><td>i8</td><td>i8</td><td>i8</td><td>i8</td><td>&hellip;</td><td>i8</td><td>i8</td><td>i8</td><td>i8</td><td>i8</td><td>i8</td><td>i8</td><td>i8</td><td>i8</td><td>i8</td><td>i8</td><td>i8</td><td>i8</td><td>i8</td><td>i8</td><td>i8</td><td>i8</td><td>i8</td><td>i8</td><td>i8</td><td>i8</td><td>i8</td><td>i8</td><td>i8</td><td>i8</td><td>i8</td><td>i8</td><td>i8</td><td>i8</td><td>i8</td><td>i8</td><td>i8</td><td>i8</td><td>i8</td><td>i8</td><td>i8</td><td>f64</td></tr></thead><tbody><tr><td>&quot;4003d00abfde4997a04d2fb9199ab7…</td><td>0</td><td>2</td><td>5</td><td>0.4</td><td>0</td><td>8</td><td>0</td><td>7</td><td>0</td><td>10</td><td>0.5</td><td>&quot;WU&quot;</td><td>null</td><td>&quot;WUR&quot;</td><td>1</td><td>0</td><td>0</td><td>0</td><td>0</td><td>0</td><td>0</td><td>0</td><td>0</td><td>0</td><td>0</td><td>0</td><td>0</td><td>0</td><td>0</td><td>0</td><td>0</td><td>0</td><td>0</td><td>0</td><td>0</td><td>0</td><td>&hellip;</td><td>0</td><td>0</td><td>0</td><td>1</td><td>0</td><td>0</td><td>0</td><td>0</td><td>0</td><td>0</td><td>0</td><td>0</td><td>0</td><td>0</td><td>0</td><td>0</td><td>0</td><td>0</td><td>0</td><td>0</td><td>0</td><td>0</td><td>0</td><td>0</td><td>0</td><td>0</td><td>0</td><td>0</td><td>0</td><td>0</td><td>0</td><td>0</td><td>0</td><td>0</td><td>0</td><td>0</td><td>0.915133</td></tr><tr><td>&quot;c56c074589394adba94408947c0b50…</td><td>0</td><td>5</td><td>8</td><td>0.625</td><td>0</td><td>0</td><td>2</td><td>4</td><td>7</td><td>100</td><td>0.5</td><td>&quot;WBR&quot;</td><td>null</td><td>&quot;RG&quot;</td><td>0</td><td>0</td><td>0</td><td>0</td><td>0</td><td>0</td><td>0</td><td>0</td><td>1</td><td>0</td><td>0</td><td>0</td><td>0</td><td>0</td><td>0</td><td>0</td><td>0</td><td>0</td><td>0</td><td>0</td><td>0</td><td>0</td><td>&hellip;</td><td>0</td><td>0</td><td>0</td><td>0</td><td>0</td><td>0</td><td>0</td><td>0</td><td>0</td><td>1</td><td>0</td><td>0</td><td>0</td><td>0</td><td>0</td><td>0</td><td>0</td><td>0</td><td>0</td><td>0</td><td>0</td><td>0</td><td>0</td><td>0</td><td>0</td><td>0</td><td>0</td><td>0</td><td>0</td><td>0</td><td>0</td><td>0</td><td>0</td><td>0</td><td>0</td><td>0</td><td>0.915133</td></tr><tr><td>&quot;e4dd4a31ced5475fb932c42f11c508…</td><td>0</td><td>3</td><td>6</td><td>0.5</td><td>7</td><td>6</td><td>0</td><td>2</td><td>0</td><td>100</td><td>0.52</td><td>&quot;UG&quot;</td><td>&quot;W&quot;</td><td>&quot;UBG&quot;</td><td>1</td><td>0</td><td>0</td><td>0</td><td>0</td><td>0</td><td>0</td><td>0</td><td>0</td><td>0</td><td>0</td><td>0</td><td>0</td><td>0</td><td>0</td><td>0</td><td>0</td><td>0</td><td>0</td><td>0</td><td>0</td><td>0</td><td>&hellip;</td><td>0</td><td>1</td><td>0</td><td>1</td><td>0</td><td>0</td><td>0</td><td>0</td><td>0</td><td>0</td><td>0</td><td>0</td><td>0</td><td>0</td><td>0</td><td>0</td><td>0</td><td>0</td><td>0</td><td>0</td><td>2</td><td>0</td><td>0</td><td>0</td><td>0</td><td>0</td><td>0</td><td>0</td><td>0</td><td>0</td><td>1</td><td>0</td><td>0</td><td>0</td><td>0</td><td>1</td><td>0.970234</td></tr><tr><td>&quot;c77dd53e349f4edf8c8605e17d1e49…</td><td>1</td><td>5</td><td>8</td><td>0.625</td><td>8</td><td>0</td><td>0</td><td>9</td><td>0</td><td>100</td><td>0.52</td><td>&quot;WG&quot;</td><td>null</td><td>&quot;URG&quot;</td><td>0</td><td>0</td><td>0</td><td>1</td><td>0</td><td>0</td><td>0</td><td>0</td><td>0</td><td>0</td><td>0</td><td>0</td><td>0</td><td>0</td><td>0</td><td>0</td><td>0</td><td>0</td><td>0</td><td>0</td><td>0</td><td>0</td><td>&hellip;</td><td>0</td><td>0</td><td>0</td><td>0</td><td>0</td><td>0</td><td>0</td><td>0</td><td>0</td><td>0</td><td>0</td><td>0</td><td>0</td><td>0</td><td>0</td><td>0</td><td>0</td><td>0</td><td>0</td><td>0</td><td>0</td><td>0</td><td>0</td><td>0</td><td>0</td><td>0</td><td>0</td><td>0</td><td>0</td><td>0</td><td>0</td><td>0</td><td>0</td><td>0</td><td>0</td><td>0</td><td>0.970234</td></tr><tr><td>&quot;8bbe618e49ff451ab5d9a5e075d76b…</td><td>0</td><td>7</td><td>8</td><td>0.875</td><td>0</td><td>7</td><td>1</td><td>7</td><td>0</td><td>500</td><td>0.6</td><td>&quot;WU&quot;</td><td>&quot;R&quot;</td><td>&quot;WU&quot;</td><td>0</td><td>0</td><td>0</td><td>0</td><td>0</td><td>0</td><td>0</td><td>0</td><td>0</td><td>0</td><td>0</td><td>0</td><td>0</td><td>0</td><td>0</td><td>0</td><td>0</td><td>0</td><td>0</td><td>2</td><td>0</td><td>0</td><td>&hellip;</td><td>0</td><td>0</td><td>0</td><td>0</td><td>0</td><td>0</td><td>0</td><td>0</td><td>0</td><td>0</td><td>0</td><td>1</td><td>0</td><td>0</td><td>0</td><td>0</td><td>0</td><td>0</td><td>0</td><td>0</td><td>1</td><td>0</td><td>0</td><td>0</td><td>0</td><td>0</td><td>0</td><td>0</td><td>0</td><td>0</td><td>0</td><td>0</td><td>0</td><td>0</td><td>0</td><td>0</td><td>1.190635</td></tr><tr><td>&hellip;</td><td>&hellip;</td><td>&hellip;</td><td>&hellip;</td><td>&hellip;</td><td>&hellip;</td><td>&hellip;</td><td>&hellip;</td><td>&hellip;</td><td>&hellip;</td><td>&hellip;</td><td>&hellip;</td><td>&hellip;</td><td>&hellip;</td><td>&hellip;</td><td>&hellip;</td><td>&hellip;</td><td>&hellip;</td><td>&hellip;</td><td>&hellip;</td><td>&hellip;</td><td>&hellip;</td><td>&hellip;</td><td>&hellip;</td><td>&hellip;</td><td>&hellip;</td><td>&hellip;</td><td>&hellip;</td><td>&hellip;</td><td>&hellip;</td><td>&hellip;</td><td>&hellip;</td><td>&hellip;</td><td>&hellip;</td><td>&hellip;</td><td>&hellip;</td><td>&hellip;</td><td>&hellip;</td><td>&hellip;</td><td>&hellip;</td><td>&hellip;</td><td>&hellip;</td><td>&hellip;</td><td>&hellip;</td><td>&hellip;</td><td>&hellip;</td><td>&hellip;</td><td>&hellip;</td><td>&hellip;</td><td>&hellip;</td><td>&hellip;</td><td>&hellip;</td><td>&hellip;</td><td>&hellip;</td><td>&hellip;</td><td>&hellip;</td><td>&hellip;</td><td>&hellip;</td><td>&hellip;</td><td>&hellip;</td><td>&hellip;</td><td>&hellip;</td><td>&hellip;</td><td>&hellip;</td><td>&hellip;</td><td>&hellip;</td><td>&hellip;</td><td>&hellip;</td><td>&hellip;</td><td>&hellip;</td><td>&hellip;</td><td>&hellip;</td><td>&hellip;</td><td>&hellip;</td><td>&hellip;</td></tr><tr><td>&quot;c99d50477cc5492e96348674b2f1cf…</td><td>0</td><td>1</td><td>3</td><td>0.333333</td><td>0</td><td>0</td><td>0</td><td>8</td><td>7</td><td>50</td><td>0.56</td><td>&quot;WB&quot;</td><td>null</td><td>&quot;WUG&quot;</td><td>0</td><td>0</td><td>1</td><td>0</td><td>0</td><td>1</td><td>0</td><td>0</td><td>1</td><td>0</td><td>0</td><td>0</td><td>0</td><td>0</td><td>0</td><td>0</td><td>0</td><td>0</td><td>0</td><td>0</td><td>0</td><td>0</td><td>&hellip;</td><td>0</td><td>0</td><td>0</td><td>0</td><td>0</td><td>0</td><td>0</td><td>0</td><td>0</td><td>0</td><td>0</td><td>1</td><td>0</td><td>0</td><td>1</td><td>0</td><td>0</td><td>0</td><td>0</td><td>0</td><td>0</td><td>0</td><td>0</td><td>0</td><td>0</td><td>1</td><td>0</td><td>0</td><td>0</td><td>0</td><td>0</td><td>0</td><td>2</td><td>0</td><td>0</td><td>0</td><td>1.080435</td></tr><tr><td>&quot;a553b9109117430fa5bf78e94bbf35…</td><td>0</td><td>1</td><td>4</td><td>0.25</td><td>0</td><td>0</td><td>9</td><td>8</td><td>0</td><td>100</td><td>0.58</td><td>&quot;WR&quot;</td><td>null</td><td>&quot;UG&quot;</td><td>0</td><td>0</td><td>1</td><td>0</td><td>0</td><td>0</td><td>0</td><td>0</td><td>0</td><td>0</td><td>0</td><td>0</td><td>0</td><td>0</td><td>0</td><td>1</td><td>0</td><td>0</td><td>0</td><td>0</td><td>0</td><td>0</td><td>&hellip;</td><td>0</td><td>0</td><td>0</td><td>0</td><td>0</td><td>0</td><td>0</td><td>0</td><td>0</td><td>0</td><td>0</td><td>3</td><td>0</td><td>0</td><td>0</td><td>0</td><td>0</td><td>0</td><td>0</td><td>0</td><td>0</td><td>0</td><td>0</td><td>2</td><td>0</td><td>0</td><td>0</td><td>0</td><td>0</td><td>0</td><td>0</td><td>0</td><td>0</td><td>0</td><td>0</td><td>0</td><td>1.135535</td></tr><tr><td>&quot;0a05513e5a834b89bb2a5922954d6d…</td><td>0</td><td>5</td><td>8</td><td>0.625</td><td>0</td><td>9</td><td>0</td><td>8</td><td>0</td><td>100</td><td>0.5</td><td>&quot;WU&quot;</td><td>null</td><td>&quot;UR&quot;</td><td>0</td><td>0</td><td>0</td><td>0</td><td>0</td><td>0</td><td>0</td><td>0</td><td>0</td><td>0</td><td>0</td><td>0</td><td>0</td><td>0</td><td>0</td><td>0</td><td>0</td><td>0</td><td>0</td><td>1</td><td>0</td><td>0</td><td>&hellip;</td><td>0</td><td>0</td><td>0</td><td>0</td><td>0</td><td>0</td><td>0</td><td>0</td><td>0</td><td>0</td><td>0</td><td>0</td><td>0</td><td>0</td><td>0</td><td>0</td><td>0</td><td>0</td><td>0</td><td>0</td><td>0</td><td>0</td><td>0</td><td>0</td><td>0</td><td>0</td><td>0</td><td>0</td><td>0</td><td>0</td><td>0</td><td>0</td><td>0</td><td>0</td><td>0</td><td>0</td><td>0.915133</td></tr><tr><td>&quot;a4fb0aad244c4daeb82a64e5bb1f37…</td><td>1</td><td>2</td><td>4</td><td>0.5</td><td>8</td><td>8</td><td>0</td><td>0</td><td>0</td><td>50</td><td>0.56</td><td>&quot;UG&quot;</td><td>null</td><td>&quot;RG&quot;</td><td>0</td><td>0</td><td>0</td><td>0</td><td>1</td><td>0</td><td>0</td><td>0</td><td>0</td><td>0</td><td>0</td><td>0</td><td>0</td><td>0</td><td>0</td><td>0</td><td>0</td><td>0</td><td>0</td><td>0</td><td>0</td><td>0</td><td>&hellip;</td><td>0</td><td>0</td><td>0</td><td>1</td><td>0</td><td>0</td><td>1</td><td>0</td><td>0</td><td>0</td><td>0</td><td>0</td><td>0</td><td>0</td><td>0</td><td>0</td><td>0</td><td>0</td><td>1</td><td>0</td><td>1</td><td>0</td><td>0</td><td>0</td><td>0</td><td>0</td><td>0</td><td>0</td><td>0</td><td>2</td><td>0</td><td>0</td><td>0</td><td>0</td><td>0</td><td>0</td><td>1.080435</td></tr><tr><td>&quot;07c1cdb8f9bf46f0b8a554c7198221…</td><td>0</td><td>3</td><td>6</td><td>0.5</td><td>8</td><td>8</td><td>0</td><td>0</td><td>0</td><td>500</td><td>0.6</td><td>&quot;UG&quot;</td><td>null</td><td>&quot;RG&quot;</td><td>0</td><td>0</td><td>0</td><td>0</td><td>1</td><td>0</td><td>0</td><td>0</td><td>0</td><td>0</td><td>0</td><td>0</td><td>0</td><td>0</td><td>0</td><td>0</td><td>0</td><td>0</td><td>0</td><td>0</td><td>2</td><td>0</td><td>&hellip;</td><td>0</td><td>0</td><td>0</td><td>0</td><td>0</td><td>1</td><td>1</td><td>0</td><td>0</td><td>0</td><td>0</td><td>0</td><td>0</td><td>0</td><td>0</td><td>0</td><td>0</td><td>0</td><td>1</td><td>0</td><td>0</td><td>0</td><td>0</td><td>0</td><td>0</td><td>0</td><td>0</td><td>0</td><td>0</td><td>1</td><td>1</td><td>0</td><td>0</td><td>0</td><td>0</td><td>0</td><td>1.190635</td></tr></tbody></table></div>"
            ]
          },
          "metadata": {}
        },
        {
          "output_type": "stream",
          "name": "stdout",
          "text": [
            "shape: (9, 2)\n",
            "┌────────────┬──────────┐\n",
            "│ statistic  ┆ value    │\n",
            "│ ---        ┆ ---      │\n",
            "│ str        ┆ f64      │\n",
            "╞════════════╪══════════╡\n",
            "│ count      ┆ 164379.0 │\n",
            "│ null_count ┆ 34.0     │\n",
            "│ mean       ┆ 1.00032  │\n",
            "│ std        ┆ 0.198063 │\n",
            "│ min        ┆ 0.0      │\n",
            "│ 25%        ┆ 0.915133 │\n",
            "│ 50%        ┆ 1.025334 │\n",
            "│ 75%        ┆ 1.135535 │\n",
            "│ max        ┆ 2.072243 │\n",
            "└────────────┴──────────┘\n"
          ]
        }
      ]
    },
    {
      "cell_type": "code",
      "source": [
        "!pip install kmapper"
      ],
      "metadata": {
        "colab": {
          "base_uri": "https://localhost:8080/"
        },
        "id": "zb8SvvW8oHcr",
        "outputId": "22414937-ae5e-4ba5-e9bb-c2a65e9eef01"
      },
      "execution_count": 5,
      "outputs": [
        {
          "output_type": "stream",
          "name": "stdout",
          "text": [
            "Collecting kmapper\n",
            "  Downloading kmapper-2.1.0-py3-none-any.whl.metadata (4.9 kB)\n",
            "Requirement already satisfied: scikit-learn in /usr/local/lib/python3.11/dist-packages (from kmapper) (1.6.1)\n",
            "Requirement already satisfied: numpy in /usr/local/lib/python3.11/dist-packages (from kmapper) (2.0.2)\n",
            "Requirement already satisfied: scipy in /usr/local/lib/python3.11/dist-packages (from kmapper) (1.16.0)\n",
            "Requirement already satisfied: Jinja2 in /usr/local/lib/python3.11/dist-packages (from kmapper) (3.1.6)\n",
            "Requirement already satisfied: MarkupSafe>=2.0 in /usr/local/lib/python3.11/dist-packages (from Jinja2->kmapper) (3.0.2)\n",
            "Requirement already satisfied: joblib>=1.2.0 in /usr/local/lib/python3.11/dist-packages (from scikit-learn->kmapper) (1.5.1)\n",
            "Requirement already satisfied: threadpoolctl>=3.1.0 in /usr/local/lib/python3.11/dist-packages (from scikit-learn->kmapper) (3.6.0)\n",
            "Downloading kmapper-2.1.0-py3-none-any.whl (126 kB)\n",
            "\u001b[?25l   \u001b[90m━━━━━━━━━━━━━━━━━━━━━━━━━━━━━━━━━━━━━━━━\u001b[0m \u001b[32m0.0/126.8 kB\u001b[0m \u001b[31m?\u001b[0m eta \u001b[36m-:--:--\u001b[0m\r\u001b[2K   \u001b[90m━━━━━━━━━━━━━━━━━━━━━━━━━━━━━━━━━━━━━━━━\u001b[0m \u001b[32m126.8/126.8 kB\u001b[0m \u001b[31m4.5 MB/s\u001b[0m eta \u001b[36m0:00:00\u001b[0m\n",
            "\u001b[?25hInstalling collected packages: kmapper\n",
            "Successfully installed kmapper-2.1.0\n"
          ]
        }
      ]
    },
    {
      "cell_type": "code",
      "source": [
        "import cudf\n",
        "import polars as pl\n",
        "import sklearn\n",
        "import numpy as np\n",
        "from sklearn.cluster import DBSCAN as sklearnDBSCAN\n",
        "from cuml.cluster import DBSCAN as cumlDBSCAN\n",
        "from cuml.cluster import KMeans as cumlKMeans\n",
        "from sklearn.cluster import KMeans as sklearnKMeans\n",
        "from sklearn.preprocessing import StandardScaler\n",
        "from cuml.preprocessing import StandardScaler as cumlStandardScaler\n",
        "from sklearn.decomposition import PCA as sklearnPCA\n",
        "from cuml import PCA as cumlPCA\n",
        "\n",
        "import matplotlib.pyplot as plt\n",
        "import kmapper as km"
      ],
      "metadata": {
        "id": "Xpd1R6rbXUeS",
        "collapsed": true
      },
      "execution_count": 97,
      "outputs": []
    },
    {
      "cell_type": "code",
      "source": [
        "data_percent = 0.8\n",
        "test_size = 1 - data_percent\n",
        "# split test-train data\n",
        "train_data, test_data = sklearn.model_selection.train_test_split(deck_gamedata_collected, test_size=test_size, random_state=42)\n",
        "\n",
        "train_data.shape"
      ],
      "metadata": {
        "id": "mLgphK-9vRUy",
        "colab": {
          "base_uri": "https://localhost:8080/"
        },
        "outputId": "2c3e1047-d5ac-4be1-f04c-cf48f018bb93"
      },
      "execution_count": 110,
      "outputs": [
        {
          "output_type": "execute_result",
          "data": {
            "text/plain": [
              "(131530, 297)"
            ]
          },
          "metadata": {},
          "execution_count": 110
        }
      ]
    },
    {
      "cell_type": "code",
      "source": [
        "data_df = train_data.select(deck_atributes)\n",
        "\n",
        "# Scale the data\n",
        "scaler = cumlStandardScaler()\n",
        "# scaled_train_data_np = scaler.fit_transform(data_df)\n",
        "# scaled_train_data_cudf = cudf.DataFrame(scaled_train_data_np)"
      ],
      "metadata": {
        "id": "ChEskuZjWhdC"
      },
      "execution_count": 111,
      "outputs": []
    },
    {
      "cell_type": "code",
      "source": [
        "pca_model = cumlPCA(n_components=4, svd_solver='jacobi')\n",
        "# scaled_train_data_pca = pca_model.fit_transform(scaled_train_data_cudf)"
      ],
      "metadata": {
        "id": "qIu-cQtcfTRq"
      },
      "execution_count": 112,
      "outputs": []
    },
    {
      "cell_type": "code",
      "source": [
        "\n",
        "# Initialize Mapper\n",
        "mapper = km.KeplerMapper(verbose=1)\n",
        "cover = km.Cover(n_cubes=3, perc_overlap=0.2)\n"
      ],
      "metadata": {
        "colab": {
          "base_uri": "https://localhost:8080/"
        },
        "id": "qeM7GGW7nBTw",
        "outputId": "4b498db3-8c7d-44d0-9d0d-77f77af2e06c"
      },
      "execution_count": 113,
      "outputs": [
        {
          "output_type": "stream",
          "name": "stdout",
          "text": [
            "KeplerMapper(verbose=1)\n"
          ]
        }
      ]
    },
    {
      "cell_type": "code",
      "source": [
        "scaled_data = scaler.fit_transform(data_df.to_numpy())\n",
        "projected_data = pca_model.fit_transform(scaled_data)\n",
        "projected_data.shape\n"
      ],
      "metadata": {
        "colab": {
          "base_uri": "https://localhost:8080/"
        },
        "id": "sYVYlwWYPDAU",
        "outputId": "e058f9c4-a5ef-4f59-a775-1d0ca8874c52"
      },
      "execution_count": 114,
      "outputs": [
        {
          "output_type": "execute_result",
          "data": {
            "text/plain": [
              "(131530, 4)"
            ]
          },
          "metadata": {},
          "execution_count": 114
        }
      ]
    },
    {
      "cell_type": "code",
      "metadata": {
        "colab": {
          "base_uri": "https://localhost:8080/"
        },
        "id": "993815cf",
        "outputId": "5ec67952-d518-4e3e-b0a2-191c2029b20c"
      },
      "source": [
        "\n",
        "\n",
        "# Create the graph\n",
        "graph = mapper.map(\n",
        "    projected_data,\n",
        "    X=scaled_data, # Use the PCA data for clustering\n",
        "    cover=cover,\n",
        "    clusterer= cumlKMeans(n_clusters=10)\n",
        ")\n",
        "\n",
        "# You can now visualize the graph or analyze its structure\n",
        "# For example, to visualize in a browser:\n",
        "# mapper.visualize(graph, path_html=\"mapper_output.html\")"
      ],
      "execution_count": 115,
      "outputs": [
        {
          "output_type": "stream",
          "name": "stdout",
          "text": [
            "Mapping on data shaped (131530, 281) using lens shaped (131530, 4)\n",
            "\n",
            "Creating 81 hypercubes.\n",
            "\n",
            "Created 14076 edges and 670 nodes in 0:00:10.213475.\n"
          ]
        }
      ]
    },
    {
      "cell_type": "code",
      "source": [
        "len(graph['nodes']['cube68_cluster6'])"
      ],
      "metadata": {
        "colab": {
          "base_uri": "https://localhost:8080/"
        },
        "id": "uShyJwUNlQAX",
        "outputId": "20f10564-dc8f-4a24-a7db-3cc75abf8981"
      },
      "execution_count": 118,
      "outputs": [
        {
          "output_type": "execute_result",
          "data": {
            "text/plain": [
              "987"
            ]
          },
          "metadata": {},
          "execution_count": 118
        }
      ]
    },
    {
      "cell_type": "code",
      "source": [
        "str1 = 'cube68_cluster6'\n",
        "# exctract cube number and cluster number\n",
        "def extract_cube_and_cluster(input_string):\n",
        "  result = input_string.replace('cube', '').split('_cluster')\n",
        "  return int(result[0]), int(result[1])\n",
        "extract_cube_and_cluster(str1)\n",
        "\n",
        "def calculate_attributes_by_cube_and_cluster(polars_df, graph, cube_number, cluster_number):\n",
        "  index_list = graph['nodes'][f'cube{cube_number}_cluster{cluster_number}']\n",
        "  polars_selected_df = polars_df.select(index_list)\n",
        "  deck_mean = polars_selected_df.select([pl.col(basic_land_deck_attributes+deck_atributes).mean()])\n",
        "  return deck_mean"
      ],
      "metadata": {
        "colab": {
          "base_uri": "https://localhost:8080/"
        },
        "id": "nKySWQu_oOk4",
        "outputId": "b4b6c0c7-f2db-4e19-e6f0-44693479876e"
      },
      "execution_count": 119,
      "outputs": [
        {
          "output_type": "execute_result",
          "data": {
            "text/plain": [
              "(68, 6)"
            ]
          },
          "metadata": {},
          "execution_count": 119
        }
      ]
    },
    {
      "cell_type": "code",
      "source": [
        "node_data_dict"
      ],
      "metadata": {
        "id": "ttIapNgrlP--"
      },
      "execution_count": null,
      "outputs": []
    },
    {
      "cell_type": "code",
      "source": [],
      "metadata": {
        "id": "nGCirnb0jIM0"
      },
      "execution_count": null,
      "outputs": []
    }
  ]
}