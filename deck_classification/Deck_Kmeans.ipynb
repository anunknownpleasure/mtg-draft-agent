{
  "nbformat": 4,
  "nbformat_minor": 0,
  "metadata": {
    "colab": {
      "provenance": [],
      "machine_shape": "hm",
      "gpuType": "L4",
      "authorship_tag": "ABX9TyMpcDlJrIIDc9FDRCmotjhI",
      "include_colab_link": true
    },
    "kernelspec": {
      "name": "python3",
      "display_name": "Python 3"
    },
    "language_info": {
      "name": "python"
    },
    "accelerator": "GPU"
  },
  "cells": [
    {
      "cell_type": "markdown",
      "metadata": {
        "id": "view-in-github",
        "colab_type": "text"
      },
      "source": [
        "<a href=\"https://colab.research.google.com/github/doctorsmylie/mtg-draft-agent/blob/main/deck_classification/Deck_Kmeans.ipynb\" target=\"_parent\"><img src=\"https://colab.research.google.com/assets/colab-badge.svg\" alt=\"Open In Colab\"/></a>"
      ]
    },
    {
      "cell_type": "code",
      "execution_count": null,
      "metadata": {
        "id": "02WL7EuNP75w"
      },
      "outputs": [],
      "source": []
    },
    {
      "cell_type": "code",
      "execution_count": 1,
      "metadata": {
        "colab": {
          "base_uri": "https://localhost:8080/"
        },
        "id": "TSI3ega_mhh6",
        "outputId": "92ab2860-2d3a-4e0b-ce05-39758c75c19a"
      },
      "outputs": [
        {
          "output_type": "stream",
          "name": "stdout",
          "text": [
            "Cloning into 'mtg-draft-agent'...\n",
            "remote: Enumerating objects: 99, done.\u001b[K\n",
            "remote: Counting objects: 100% (99/99), done.\u001b[K\n",
            "remote: Compressing objects: 100% (72/72), done.\u001b[K\n",
            "remote: Total 99 (delta 42), reused 57 (delta 23), pack-reused 0 (from 0)\u001b[K\n",
            "Receiving objects: 100% (99/99), 195.72 KiB | 1.04 MiB/s, done.\n",
            "Resolving deltas: 100% (42/42), done.\n",
            "/content/mtg-draft-agent\n",
            "Starting config...\n",
            "Running in Colab? Yes\n",
            "\n",
            "Configuring Google Colab...\n",
            "Mounting Drive...\n",
            "Mounted at /content/mtg-draft-agent/drive\n",
            "BASE_PATH =  /content/mtg-draft-agent\n",
            "DATA_FOLDER = /content/mtg-draft-agent/drive/MyDrive/Erdos25/MTGdraft\n",
            "BASE_PATH == os.getcwd(): True\n",
            "\n",
            "Configuration done\n"
          ]
        }
      ],
      "source": [
        "# Configure Drive or Jupyter notebook -- only runs when first loaded\n",
        "if \"CONFIG_DONE\" not in globals():\n",
        "    # Need to mount drive and clone repo to access data and functions\n",
        "    try:\n",
        "        from google.colab import drive  # type: ignore\n",
        "\n",
        "        IN_COLAB = True\n",
        "\n",
        "        # clone repo\n",
        "        !git clone https://github.com/doctorsmylie/mtg-draft-agent\n",
        "        %cd mtg-draft-agent\n",
        "\n",
        "    except ModuleNotFoundError:\n",
        "        IN_COLAB = False\n",
        "\n",
        "    # Finish configuration -- also configures notebook outside of Colab\n",
        "    %run \"project_path.ipynb\"\n",
        "else:\n",
        "    print(\"Config done already\")"
      ]
    },
    {
      "cell_type": "code",
      "source": [
        "%run \"17landsdataimport.ipynb\""
      ],
      "metadata": {
        "colab": {
          "base_uri": "https://localhost:8080/"
        },
        "id": "WH18v_sGRqUN",
        "outputId": "e1c491fc-dbd0-4902-ccc7-0b41d3d00c99"
      },
      "execution_count": 2,
      "outputs": [
        {
          "output_type": "stream",
          "name": "stdout",
          "text": [
            "Collecting spells-mtg\n",
            "  Downloading spells_mtg-0.11.7-py3-none-any.whl.metadata (47 kB)\n",
            "\u001b[?25l     \u001b[90m━━━━━━━━━━━━━━━━━━━━━━━━━━━━━━━━━━━━━━━━\u001b[0m \u001b[32m0.0/47.4 kB\u001b[0m \u001b[31m?\u001b[0m eta \u001b[36m-:--:--\u001b[0m\r\u001b[2K     \u001b[90m━━━━━━━━━━━━━━━━━━━━━━━━━━━━━━━━━━━━━━━━\u001b[0m \u001b[32m47.4/47.4 kB\u001b[0m \u001b[31m3.6 MB/s\u001b[0m eta \u001b[36m0:00:00\u001b[0m\n",
            "\u001b[?25hRequirement already satisfied: polars>=1.14.0 in /usr/local/lib/python3.11/dist-packages (from spells-mtg) (1.25.0)\n",
            "Collecting wget>=3.2 (from spells-mtg)\n",
            "  Downloading wget-3.2.zip (10 kB)\n",
            "  Preparing metadata (setup.py) ... \u001b[?25l\u001b[?25hdone\n",
            "Downloading spells_mtg-0.11.7-py3-none-any.whl (43 kB)\n",
            "\u001b[2K   \u001b[90m━━━━━━━━━━━━━━━━━━━━━━━━━━━━━━━━━━━━━━━━\u001b[0m \u001b[32m43.7/43.7 kB\u001b[0m \u001b[31m4.8 MB/s\u001b[0m eta \u001b[36m0:00:00\u001b[0m\n",
            "\u001b[?25hBuilding wheels for collected packages: wget\n",
            "  Building wheel for wget (setup.py) ... \u001b[?25l\u001b[?25hdone\n",
            "  Created wheel for wget: filename=wget-3.2-py3-none-any.whl size=9655 sha256=23c4119d2dfa5db80a082f78783d671d7867d47b216da5de7a8c1c7bf28a6dc2\n",
            "  Stored in directory: /root/.cache/pip/wheels/40/b3/0f/a40dbd1c6861731779f62cc4babcb234387e11d697df70ee97\n",
            "Successfully built wget\n",
            "Installing collected packages: wget, spells-mtg\n",
            "Successfully installed spells-mtg-0.11.7 wget-3.2\n",
            "Directory '/content/mtg-draft-agent/drive/MyDrive/Erdos25/MTGdraft/spells_data/DSK' copied successfully to '/root/.local/share/spells/external/DSK'.\n",
            "Remaining columns: []\n"
          ]
        }
      ]
    },
    {
      "cell_type": "code",
      "source": [
        "deck_gamedata_collected"
      ],
      "metadata": {
        "colab": {
          "base_uri": "https://localhost:8080/",
          "height": 532
        },
        "id": "1VZOAQH9R4KE",
        "outputId": "27e2e3dc-b2b8-430e-dc71-f046f88c281b"
      },
      "execution_count": 3,
      "outputs": [
        {
          "output_type": "execute_result",
          "data": {
            "text/plain": [
              "shape: (164_413, 296)\n",
              "┌────────────┬────────────┬──────┬────────────┬───┬────────────┬───────────┬───────────┬───────────┐\n",
              "│ draft_id   ┆ build_inde ┆ wins ┆ total_matc ┆ … ┆ deck_Winte ┆ deck_Wint ┆ deck_With ┆ deck_Zimo │\n",
              "│ ---        ┆ x          ┆ ---  ┆ hes        ┆   ┆ r's Interv ┆ er, Misan ┆ ering     ┆ ne, All-Q │\n",
              "│ str        ┆ ---        ┆ u32  ┆ ---        ┆   ┆ ention     ┆ thropic   ┆ Torment   ┆ uestionin │\n",
              "│            ┆ i8         ┆      ┆ u32        ┆   ┆ ---        ┆ Guid…     ┆ ---       ┆ g         │\n",
              "│            ┆            ┆      ┆            ┆   ┆ i8         ┆ ---       ┆ i8        ┆ ---       │\n",
              "│            ┆            ┆      ┆            ┆   ┆            ┆ i8        ┆           ┆ i8        │\n",
              "╞════════════╪════════════╪══════╪════════════╪═══╪════════════╪═══════════╪═══════════╪═══════════╡\n",
              "│ a104a0263c ┆ 3          ┆ 4    ┆ 5          ┆ … ┆ 0          ┆ 0         ┆ 0         ┆ 0         │\n",
              "│ bb4f7d915d ┆            ┆      ┆            ┆   ┆            ┆           ┆           ┆           │\n",
              "│ 494cb3fba8 ┆            ┆      ┆            ┆   ┆            ┆           ┆           ┆           │\n",
              "│ …          ┆            ┆      ┆            ┆   ┆            ┆           ┆           ┆           │\n",
              "│ 125e37febf ┆ 0          ┆ 6    ┆ 9          ┆ … ┆ 1          ┆ 0         ┆ 0         ┆ 0         │\n",
              "│ a34a108d68 ┆            ┆      ┆            ┆   ┆            ┆           ┆           ┆           │\n",
              "│ 319ab842cb ┆            ┆      ┆            ┆   ┆            ┆           ┆           ┆           │\n",
              "│ …          ┆            ┆      ┆            ┆   ┆            ┆           ┆           ┆           │\n",
              "│ d809141b00 ┆ 1          ┆ 5    ┆ 7          ┆ … ┆ 0          ┆ 0         ┆ 0         ┆ 0         │\n",
              "│ 384a72a95f ┆            ┆      ┆            ┆   ┆            ┆           ┆           ┆           │\n",
              "│ d90495b30b ┆            ┆      ┆            ┆   ┆            ┆           ┆           ┆           │\n",
              "│ …          ┆            ┆      ┆            ┆   ┆            ┆           ┆           ┆           │\n",
              "│ 194be9457c ┆ 0          ┆ 3    ┆ 6          ┆ … ┆ 0          ┆ 0         ┆ 0         ┆ 0         │\n",
              "│ 834f469a1a ┆            ┆      ┆            ┆   ┆            ┆           ┆           ┆           │\n",
              "│ 49f4c69cce ┆            ┆      ┆            ┆   ┆            ┆           ┆           ┆           │\n",
              "│ …          ┆            ┆      ┆            ┆   ┆            ┆           ┆           ┆           │\n",
              "│ 4a3f48428e ┆ 0          ┆ 2    ┆ 5          ┆ … ┆ 0          ┆ 0         ┆ 0         ┆ 0         │\n",
              "│ 2448649aaf ┆            ┆      ┆            ┆   ┆            ┆           ┆           ┆           │\n",
              "│ 6f47d0705f ┆            ┆      ┆            ┆   ┆            ┆           ┆           ┆           │\n",
              "│ …          ┆            ┆      ┆            ┆   ┆            ┆           ┆           ┆           │\n",
              "│ …          ┆ …          ┆ …    ┆ …          ┆ … ┆ …          ┆ …         ┆ …         ┆ …         │\n",
              "│ dd00cb26e0 ┆ 0          ┆ 2    ┆ 5          ┆ … ┆ 0          ┆ 0         ┆ 0         ┆ 0         │\n",
              "│ 764521b887 ┆            ┆      ┆            ┆   ┆            ┆           ┆           ┆           │\n",
              "│ b42eee99a3 ┆            ┆      ┆            ┆   ┆            ┆           ┆           ┆           │\n",
              "│ …          ┆            ┆      ┆            ┆   ┆            ┆           ┆           ┆           │\n",
              "│ d49f212645 ┆ 0          ┆ 5    ┆ 8          ┆ … ┆ 0          ┆ 0         ┆ 0         ┆ 0         │\n",
              "│ 8e48678925 ┆            ┆      ┆            ┆   ┆            ┆           ┆           ┆           │\n",
              "│ 1a25c1f6ea ┆            ┆      ┆            ┆   ┆            ┆           ┆           ┆           │\n",
              "│ …          ┆            ┆      ┆            ┆   ┆            ┆           ┆           ┆           │\n",
              "│ 5237ff1615 ┆ 0          ┆ 4    ┆ 5          ┆ … ┆ 0          ┆ 0         ┆ 0         ┆ 0         │\n",
              "│ e547b89274 ┆            ┆      ┆            ┆   ┆            ┆           ┆           ┆           │\n",
              "│ c49fd4011f ┆            ┆      ┆            ┆   ┆            ┆           ┆           ┆           │\n",
              "│ …          ┆            ┆      ┆            ┆   ┆            ┆           ┆           ┆           │\n",
              "│ 474ce16958 ┆ 1          ┆ 2    ┆ 3          ┆ … ┆ 0          ┆ 1         ┆ 0         ┆ 0         │\n",
              "│ f44126aeab ┆            ┆      ┆            ┆   ┆            ┆           ┆           ┆           │\n",
              "│ 9e544c7612 ┆            ┆      ┆            ┆   ┆            ┆           ┆           ┆           │\n",
              "│ …          ┆            ┆      ┆            ┆   ┆            ┆           ┆           ┆           │\n",
              "│ 4b39a4338d ┆ 0          ┆ 2    ┆ 5          ┆ … ┆ 0          ┆ 0         ┆ 0         ┆ 0         │\n",
              "│ 1c459b8291 ┆            ┆      ┆            ┆   ┆            ┆           ┆           ┆           │\n",
              "│ 642950ff85 ┆            ┆      ┆            ┆   ┆            ┆           ┆           ┆           │\n",
              "│ …          ┆            ┆      ┆            ┆   ┆            ┆           ┆           ┆           │\n",
              "└────────────┴────────────┴──────┴────────────┴───┴────────────┴───────────┴───────────┴───────────┘"
            ],
            "text/html": [
              "<div><style>\n",
              ".dataframe > thead > tr,\n",
              ".dataframe > tbody > tr {\n",
              "  text-align: right;\n",
              "  white-space: pre-wrap;\n",
              "}\n",
              "</style>\n",
              "<small>shape: (164_413, 296)</small><table border=\"1\" class=\"dataframe\"><thead><tr><th>draft_id</th><th>build_index</th><th>wins</th><th>total_matches</th><th>win_rate</th><th>deck_Forest</th><th>deck_Island</th><th>deck_Mountain</th><th>deck_Plains</th><th>deck_Swamp</th><th>user_n_games_bucket</th><th>user_game_win_rate_bucket</th><th>main_colors</th><th>splash_colors</th><th>opp_colors</th><th>deck_Abandoned Campground</th><th>deck_Abhorrent Oculus</th><th>deck_Acrobatic Cheerleader</th><th>deck_Altanak, the Thrice-Called</th><th>deck_Anthropede</th><th>deck_Appendage Amalgam</th><th>deck_Arabella, Abandoned Doll</th><th>deck_Attack-in-the-Box</th><th>deck_Balemurk Leech</th><th>deck_Balustrade Wurm</th><th>deck_Baseball Bat</th><th>deck_Bashful Beastie</th><th>deck_Bear Trap</th><th>deck_Beastie Beatdown</th><th>deck_Bedhead Beastie</th><th>deck_Betrayer&#x27;s Bargain</th><th>deck_Blazemire Verge</th><th>deck_Bleeding Woods</th><th>deck_Boilerbilges Ripper</th><th>deck_Bottomless Pool // Locker Room</th><th>deck_Break Down the Door</th><th>deck_Broodspinner</th><th>&hellip;</th><th>deck_Turn Inside Out</th><th>deck_Twist Reality</th><th>deck_Twitching Doll</th><th>deck_Tyvar, the Pummeler</th><th>deck_Unable to Scream</th><th>deck_Undead Sprinter</th><th>deck_Under the Skin</th><th>deck_Underwater Tunnel // Slimy Aquarium</th><th>deck_Unholy Annex // Ritual Chamber</th><th>deck_Unholy Heat</th><th>deck_Unidentified Hovership</th><th>deck_Unnerving Grasp</th><th>deck_Unsettling Twins</th><th>deck_Unstoppable Slasher</th><th>deck_Untimely Malfunction</th><th>deck_Unwanted Remake</th><th>deck_Unwilling Vessel</th><th>deck_Valgavoth&#x27;s Faithful</th><th>deck_Valgavoth&#x27;s Lair</th><th>deck_Valgavoth&#x27;s Onslaught</th><th>deck_Valgavoth, Terror Eater</th><th>deck_Vanish from Sight</th><th>deck_Vengeful Possession</th><th>deck_Veteran Survivor</th><th>deck_Vicious Clown</th><th>deck_Victor, Valgavoth&#x27;s Seneschal</th><th>deck_Vile Mutilator</th><th>deck_Violent Urge</th><th>deck_Walk-In Closet // Forgotten Cellar</th><th>deck_Waltz of Rage</th><th>deck_Wary Watchdog</th><th>deck_Wickerfolk Thresher</th><th>deck_Wildfire Wickerfolk</th><th>deck_Winter&#x27;s Intervention</th><th>deck_Winter, Misanthropic Guide</th><th>deck_Withering Torment</th><th>deck_Zimone, All-Questioning</th></tr><tr><td>str</td><td>i8</td><td>u32</td><td>u32</td><td>f32</td><td>i8</td><td>i8</td><td>i8</td><td>i8</td><td>i8</td><td>i16</td><td>f64</td><td>str</td><td>str</td><td>str</td><td>i8</td><td>i8</td><td>i8</td><td>i8</td><td>i8</td><td>i8</td><td>i8</td><td>i8</td><td>i8</td><td>i8</td><td>i8</td><td>i8</td><td>i8</td><td>i8</td><td>i8</td><td>i8</td><td>i8</td><td>i8</td><td>i8</td><td>i8</td><td>i8</td><td>i8</td><td>&hellip;</td><td>i8</td><td>i8</td><td>i8</td><td>i8</td><td>i8</td><td>i8</td><td>i8</td><td>i8</td><td>i8</td><td>i8</td><td>i8</td><td>i8</td><td>i8</td><td>i8</td><td>i8</td><td>i8</td><td>i8</td><td>i8</td><td>i8</td><td>i8</td><td>i8</td><td>i8</td><td>i8</td><td>i8</td><td>i8</td><td>i8</td><td>i8</td><td>i8</td><td>i8</td><td>i8</td><td>i8</td><td>i8</td><td>i8</td><td>i8</td><td>i8</td><td>i8</td><td>i8</td></tr></thead><tbody><tr><td>&quot;a104a0263cbb4f7d915d494cb3fba8…</td><td>3</td><td>4</td><td>5</td><td>0.8</td><td>7</td><td>7</td><td>0</td><td>1</td><td>1</td><td>100</td><td>0.6</td><td>&quot;UG&quot;</td><td>&quot;WB&quot;</td><td>&quot;UB&quot;</td><td>0</td><td>0</td><td>0</td><td>0</td><td>0</td><td>0</td><td>0</td><td>0</td><td>0</td><td>0</td><td>0</td><td>1</td><td>0</td><td>0</td><td>0</td><td>0</td><td>0</td><td>0</td><td>0</td><td>0</td><td>0</td><td>0</td><td>&hellip;</td><td>0</td><td>1</td><td>0</td><td>0</td><td>0</td><td>0</td><td>2</td><td>0</td><td>0</td><td>0</td><td>0</td><td>1</td><td>1</td><td>0</td><td>0</td><td>0</td><td>0</td><td>0</td><td>0</td><td>0</td><td>0</td><td>0</td><td>0</td><td>0</td><td>0</td><td>0</td><td>0</td><td>0</td><td>0</td><td>0</td><td>1</td><td>0</td><td>0</td><td>0</td><td>0</td><td>0</td><td>0</td></tr><tr><td>&quot;125e37febfa34a108d68319ab842cb…</td><td>0</td><td>6</td><td>9</td><td>0.666667</td><td>0</td><td>0</td><td>7</td><td>0</td><td>7</td><td>10</td><td>0.52</td><td>&quot;BR&quot;</td><td>null</td><td>&quot;WR&quot;</td><td>0</td><td>0</td><td>0</td><td>0</td><td>0</td><td>0</td><td>0</td><td>0</td><td>0</td><td>0</td><td>0</td><td>0</td><td>0</td><td>0</td><td>1</td><td>1</td><td>0</td><td>0</td><td>0</td><td>0</td><td>0</td><td>0</td><td>&hellip;</td><td>0</td><td>0</td><td>0</td><td>0</td><td>0</td><td>0</td><td>0</td><td>0</td><td>0</td><td>0</td><td>0</td><td>0</td><td>0</td><td>0</td><td>0</td><td>0</td><td>0</td><td>1</td><td>0</td><td>0</td><td>0</td><td>0</td><td>1</td><td>0</td><td>0</td><td>0</td><td>0</td><td>0</td><td>0</td><td>0</td><td>0</td><td>0</td><td>0</td><td>1</td><td>0</td><td>0</td><td>0</td></tr><tr><td>&quot;d809141b00384a72a95fd90495b30b…</td><td>1</td><td>5</td><td>7</td><td>0.714286</td><td>0</td><td>0</td><td>9</td><td>8</td><td>0</td><td>100</td><td>0.5</td><td>&quot;WR&quot;</td><td>null</td><td>&quot;UR&quot;</td><td>0</td><td>0</td><td>0</td><td>0</td><td>0</td><td>0</td><td>2</td><td>0</td><td>0</td><td>0</td><td>0</td><td>0</td><td>0</td><td>0</td><td>0</td><td>0</td><td>0</td><td>0</td><td>0</td><td>0</td><td>0</td><td>0</td><td>&hellip;</td><td>2</td><td>0</td><td>0</td><td>0</td><td>0</td><td>0</td><td>0</td><td>0</td><td>0</td><td>0</td><td>0</td><td>0</td><td>1</td><td>0</td><td>0</td><td>0</td><td>0</td><td>0</td><td>0</td><td>0</td><td>0</td><td>0</td><td>0</td><td>1</td><td>1</td><td>0</td><td>0</td><td>0</td><td>0</td><td>0</td><td>0</td><td>0</td><td>0</td><td>0</td><td>0</td><td>0</td><td>0</td></tr><tr><td>&quot;194be9457c834f469a1a49f4c69cce…</td><td>0</td><td>3</td><td>6</td><td>0.5</td><td>8</td><td>0</td><td>7</td><td>0</td><td>0</td><td>100</td><td>0.46</td><td>&quot;RG&quot;</td><td>null</td><td>&quot;UR&quot;</td><td>0</td><td>0</td><td>0</td><td>1</td><td>0</td><td>0</td><td>0</td><td>0</td><td>0</td><td>1</td><td>0</td><td>0</td><td>0</td><td>1</td><td>0</td><td>1</td><td>0</td><td>0</td><td>0</td><td>0</td><td>0</td><td>0</td><td>&hellip;</td><td>1</td><td>0</td><td>0</td><td>0</td><td>0</td><td>0</td><td>0</td><td>0</td><td>0</td><td>0</td><td>0</td><td>0</td><td>0</td><td>0</td><td>0</td><td>0</td><td>0</td><td>0</td><td>0</td><td>0</td><td>0</td><td>0</td><td>0</td><td>0</td><td>0</td><td>0</td><td>0</td><td>0</td><td>0</td><td>0</td><td>1</td><td>0</td><td>2</td><td>0</td><td>0</td><td>0</td><td>0</td></tr><tr><td>&quot;4a3f48428e2448649aaf6f47d0705f…</td><td>0</td><td>2</td><td>5</td><td>0.4</td><td>0</td><td>8</td><td>8</td><td>0</td><td>0</td><td>10</td><td>0.6</td><td>&quot;UR&quot;</td><td>null</td><td>&quot;UR&quot;</td><td>0</td><td>0</td><td>0</td><td>0</td><td>0</td><td>0</td><td>0</td><td>0</td><td>0</td><td>0</td><td>0</td><td>0</td><td>0</td><td>0</td><td>0</td><td>0</td><td>0</td><td>0</td><td>0</td><td>0</td><td>0</td><td>0</td><td>&hellip;</td><td>0</td><td>0</td><td>0</td><td>0</td><td>0</td><td>0</td><td>0</td><td>0</td><td>0</td><td>0</td><td>0</td><td>0</td><td>0</td><td>0</td><td>0</td><td>0</td><td>1</td><td>0</td><td>0</td><td>0</td><td>0</td><td>0</td><td>0</td><td>0</td><td>0</td><td>0</td><td>0</td><td>0</td><td>0</td><td>0</td><td>0</td><td>0</td><td>0</td><td>0</td><td>0</td><td>0</td><td>0</td></tr><tr><td>&hellip;</td><td>&hellip;</td><td>&hellip;</td><td>&hellip;</td><td>&hellip;</td><td>&hellip;</td><td>&hellip;</td><td>&hellip;</td><td>&hellip;</td><td>&hellip;</td><td>&hellip;</td><td>&hellip;</td><td>&hellip;</td><td>&hellip;</td><td>&hellip;</td><td>&hellip;</td><td>&hellip;</td><td>&hellip;</td><td>&hellip;</td><td>&hellip;</td><td>&hellip;</td><td>&hellip;</td><td>&hellip;</td><td>&hellip;</td><td>&hellip;</td><td>&hellip;</td><td>&hellip;</td><td>&hellip;</td><td>&hellip;</td><td>&hellip;</td><td>&hellip;</td><td>&hellip;</td><td>&hellip;</td><td>&hellip;</td><td>&hellip;</td><td>&hellip;</td><td>&hellip;</td><td>&hellip;</td><td>&hellip;</td><td>&hellip;</td><td>&hellip;</td><td>&hellip;</td><td>&hellip;</td><td>&hellip;</td><td>&hellip;</td><td>&hellip;</td><td>&hellip;</td><td>&hellip;</td><td>&hellip;</td><td>&hellip;</td><td>&hellip;</td><td>&hellip;</td><td>&hellip;</td><td>&hellip;</td><td>&hellip;</td><td>&hellip;</td><td>&hellip;</td><td>&hellip;</td><td>&hellip;</td><td>&hellip;</td><td>&hellip;</td><td>&hellip;</td><td>&hellip;</td><td>&hellip;</td><td>&hellip;</td><td>&hellip;</td><td>&hellip;</td><td>&hellip;</td><td>&hellip;</td><td>&hellip;</td><td>&hellip;</td><td>&hellip;</td><td>&hellip;</td><td>&hellip;</td><td>&hellip;</td></tr><tr><td>&quot;dd00cb26e0764521b887b42eee99a3…</td><td>0</td><td>2</td><td>5</td><td>0.4</td><td>0</td><td>7</td><td>0</td><td>7</td><td>0</td><td>100</td><td>0.44</td><td>&quot;WU&quot;</td><td>null</td><td>&quot;WU&quot;</td><td>1</td><td>0</td><td>0</td><td>0</td><td>0</td><td>0</td><td>0</td><td>0</td><td>0</td><td>0</td><td>0</td><td>0</td><td>0</td><td>0</td><td>0</td><td>0</td><td>0</td><td>0</td><td>0</td><td>0</td><td>0</td><td>0</td><td>&hellip;</td><td>0</td><td>0</td><td>0</td><td>0</td><td>2</td><td>0</td><td>0</td><td>0</td><td>0</td><td>0</td><td>1</td><td>0</td><td>0</td><td>0</td><td>0</td><td>0</td><td>0</td><td>0</td><td>0</td><td>0</td><td>0</td><td>0</td><td>0</td><td>0</td><td>0</td><td>0</td><td>0</td><td>0</td><td>0</td><td>0</td><td>0</td><td>0</td><td>0</td><td>0</td><td>0</td><td>0</td><td>0</td></tr><tr><td>&quot;d49f2126458e486789251a25c1f6ea…</td><td>0</td><td>5</td><td>8</td><td>0.625</td><td>1</td><td>4</td><td>3</td><td>2</td><td>1</td><td>50</td><td>0.44</td><td>&quot;UBR&quot;</td><td>&quot;W&quot;</td><td>&quot;BR&quot;</td><td>0</td><td>0</td><td>0</td><td>0</td><td>0</td><td>0</td><td>0</td><td>0</td><td>0</td><td>0</td><td>0</td><td>0</td><td>0</td><td>0</td><td>0</td><td>2</td><td>0</td><td>1</td><td>1</td><td>0</td><td>0</td><td>0</td><td>&hellip;</td><td>0</td><td>0</td><td>0</td><td>0</td><td>0</td><td>0</td><td>0</td><td>1</td><td>0</td><td>0</td><td>0</td><td>0</td><td>0</td><td>0</td><td>0</td><td>0</td><td>1</td><td>0</td><td>0</td><td>0</td><td>0</td><td>0</td><td>0</td><td>0</td><td>0</td><td>0</td><td>0</td><td>0</td><td>0</td><td>0</td><td>0</td><td>0</td><td>0</td><td>0</td><td>0</td><td>0</td><td>0</td></tr><tr><td>&quot;5237ff1615e547b89274c49fd4011f…</td><td>0</td><td>4</td><td>5</td><td>0.8</td><td>0</td><td>8</td><td>0</td><td>7</td><td>0</td><td>100</td><td>0.54</td><td>&quot;WU&quot;</td><td>null</td><td>&quot;UB&quot;</td><td>1</td><td>0</td><td>1</td><td>0</td><td>0</td><td>0</td><td>0</td><td>0</td><td>0</td><td>0</td><td>0</td><td>0</td><td>0</td><td>0</td><td>0</td><td>0</td><td>0</td><td>0</td><td>0</td><td>0</td><td>0</td><td>0</td><td>&hellip;</td><td>0</td><td>1</td><td>0</td><td>0</td><td>2</td><td>0</td><td>0</td><td>0</td><td>0</td><td>0</td><td>0</td><td>0</td><td>0</td><td>0</td><td>0</td><td>0</td><td>1</td><td>0</td><td>0</td><td>0</td><td>0</td><td>1</td><td>0</td><td>0</td><td>0</td><td>0</td><td>0</td><td>0</td><td>0</td><td>0</td><td>0</td><td>0</td><td>0</td><td>0</td><td>0</td><td>0</td><td>0</td></tr><tr><td>&quot;474ce16958f44126aeab9e544c7612…</td><td>1</td><td>2</td><td>3</td><td>0.666667</td><td>2</td><td>0</td><td>6</td><td>3</td><td>1</td><td>100</td><td>0.58</td><td>&quot;WR&quot;</td><td>&quot;BG&quot;</td><td>&quot;WBR&quot;</td><td>0</td><td>0</td><td>0</td><td>0</td><td>0</td><td>0</td><td>1</td><td>0</td><td>0</td><td>0</td><td>0</td><td>0</td><td>0</td><td>0</td><td>0</td><td>2</td><td>0</td><td>1</td><td>0</td><td>0</td><td>0</td><td>0</td><td>&hellip;</td><td>0</td><td>0</td><td>0</td><td>1</td><td>0</td><td>0</td><td>0</td><td>0</td><td>0</td><td>0</td><td>0</td><td>0</td><td>0</td><td>0</td><td>0</td><td>0</td><td>0</td><td>0</td><td>0</td><td>0</td><td>0</td><td>0</td><td>0</td><td>0</td><td>0</td><td>0</td><td>0</td><td>0</td><td>0</td><td>0</td><td>0</td><td>0</td><td>0</td><td>0</td><td>1</td><td>0</td><td>0</td></tr><tr><td>&quot;4b39a4338d1c459b8291642950ff85…</td><td>0</td><td>2</td><td>5</td><td>0.4</td><td>6</td><td>2</td><td>5</td><td>0</td><td>1</td><td>100</td><td>0.48</td><td>&quot;RG&quot;</td><td>&quot;UB&quot;</td><td>&quot;BG&quot;</td><td>0</td><td>0</td><td>0</td><td>0</td><td>0</td><td>0</td><td>0</td><td>0</td><td>0</td><td>1</td><td>0</td><td>0</td><td>0</td><td>2</td><td>0</td><td>0</td><td>0</td><td>1</td><td>0</td><td>0</td><td>0</td><td>0</td><td>&hellip;</td><td>1</td><td>0</td><td>1</td><td>0</td><td>0</td><td>0</td><td>0</td><td>0</td><td>0</td><td>0</td><td>0</td><td>0</td><td>0</td><td>0</td><td>1</td><td>0</td><td>0</td><td>0</td><td>0</td><td>0</td><td>0</td><td>0</td><td>0</td><td>0</td><td>0</td><td>0</td><td>0</td><td>0</td><td>0</td><td>0</td><td>0</td><td>0</td><td>1</td><td>0</td><td>0</td><td>0</td><td>0</td></tr></tbody></table></div>"
            ]
          },
          "metadata": {},
          "execution_count": 3
        }
      ]
    },
    {
      "cell_type": "code",
      "source": [
        "import polars as pl\n",
        "\n",
        "def calculate_adjusted_zscore(df, column, mean, std_dev):\n",
        "  new_col_name = column + '_adjusted'\n",
        "  current_std_dev = df[column].std()\n",
        "  # Use with_columns to add the new column\n",
        "  df = df.with_columns(\n",
        "      ((pl.col(column) - pl.col(column).mean()) / pl.col(column).std() * std_dev + mean ).alias(new_col_name)\n",
        "  )\n",
        "  df = df.with_columns(\n",
        "      (pl.when(pl.col(new_col_name) < 0)\n",
        "      .then(pl.lit(0))\n",
        "      .otherwise(pl.col(new_col_name))\n",
        "      ).alias(new_col_name)\n",
        "  )\n",
        "  return df\n",
        "\n",
        "#example usage\n",
        "mean = 1\n",
        "std_dev = 0.2\n",
        "test_col = 'user_game_win_rate_bucket'\n",
        "deck_gamedata_collected = calculate_adjusted_zscore(deck_gamedata_collected, test_col, mean, std_dev)\n",
        "\n",
        "# Display the updated DataFrame to show the new column\n",
        "display(deck_gamedata_collected)\n",
        "# display summary of adjusted column\n",
        "print(deck_gamedata_collected[test_col + '_adjusted'].describe())"
      ],
      "metadata": {
        "colab": {
          "base_uri": "https://localhost:8080/",
          "height": 815
        },
        "id": "cYvv7OQKU4Vt",
        "outputId": "91c4943c-f925-4c52-be99-0dcd42eaec73"
      },
      "execution_count": 4,
      "outputs": [
        {
          "output_type": "display_data",
          "data": {
            "text/plain": [
              "shape: (164_413, 297)\n",
              "┌────────────┬────────────┬──────┬────────────┬───┬────────────┬───────────┬───────────┬───────────┐\n",
              "│ draft_id   ┆ build_inde ┆ wins ┆ total_matc ┆ … ┆ deck_Winte ┆ deck_With ┆ deck_Zimo ┆ user_game │\n",
              "│ ---        ┆ x          ┆ ---  ┆ hes        ┆   ┆ r, Misanth ┆ ering     ┆ ne, All-Q ┆ _win_rate │\n",
              "│ str        ┆ ---        ┆ u32  ┆ ---        ┆   ┆ ropic      ┆ Torment   ┆ uestionin ┆ _bucket_a │\n",
              "│            ┆ i8         ┆      ┆ u32        ┆   ┆ Guid…      ┆ ---       ┆ g         ┆ dju…      │\n",
              "│            ┆            ┆      ┆            ┆   ┆ ---        ┆ i8        ┆ ---       ┆ ---       │\n",
              "│            ┆            ┆      ┆            ┆   ┆ i8         ┆           ┆ i8        ┆ f64       │\n",
              "╞════════════╪════════════╪══════╪════════════╪═══╪════════════╪═══════════╪═══════════╪═══════════╡\n",
              "│ a104a0263c ┆ 3          ┆ 4    ┆ 5          ┆ … ┆ 0          ┆ 0         ┆ 0         ┆ 1.190635  │\n",
              "│ bb4f7d915d ┆            ┆      ┆            ┆   ┆            ┆           ┆           ┆           │\n",
              "│ 494cb3fba8 ┆            ┆      ┆            ┆   ┆            ┆           ┆           ┆           │\n",
              "│ …          ┆            ┆      ┆            ┆   ┆            ┆           ┆           ┆           │\n",
              "│ 125e37febf ┆ 0          ┆ 6    ┆ 9          ┆ … ┆ 0          ┆ 0         ┆ 0         ┆ 0.970234  │\n",
              "│ a34a108d68 ┆            ┆      ┆            ┆   ┆            ┆           ┆           ┆           │\n",
              "│ 319ab842cb ┆            ┆      ┆            ┆   ┆            ┆           ┆           ┆           │\n",
              "│ …          ┆            ┆      ┆            ┆   ┆            ┆           ┆           ┆           │\n",
              "│ d809141b00 ┆ 1          ┆ 5    ┆ 7          ┆ … ┆ 0          ┆ 0         ┆ 0         ┆ 0.915133  │\n",
              "│ 384a72a95f ┆            ┆      ┆            ┆   ┆            ┆           ┆           ┆           │\n",
              "│ d90495b30b ┆            ┆      ┆            ┆   ┆            ┆           ┆           ┆           │\n",
              "│ …          ┆            ┆      ┆            ┆   ┆            ┆           ┆           ┆           │\n",
              "│ 194be9457c ┆ 0          ┆ 3    ┆ 6          ┆ … ┆ 0          ┆ 0         ┆ 0         ┆ 0.804932  │\n",
              "│ 834f469a1a ┆            ┆      ┆            ┆   ┆            ┆           ┆           ┆           │\n",
              "│ 49f4c69cce ┆            ┆      ┆            ┆   ┆            ┆           ┆           ┆           │\n",
              "│ …          ┆            ┆      ┆            ┆   ┆            ┆           ┆           ┆           │\n",
              "│ 4a3f48428e ┆ 0          ┆ 2    ┆ 5          ┆ … ┆ 0          ┆ 0         ┆ 0         ┆ 1.190635  │\n",
              "│ 2448649aaf ┆            ┆      ┆            ┆   ┆            ┆           ┆           ┆           │\n",
              "│ 6f47d0705f ┆            ┆      ┆            ┆   ┆            ┆           ┆           ┆           │\n",
              "│ …          ┆            ┆      ┆            ┆   ┆            ┆           ┆           ┆           │\n",
              "│ …          ┆ …          ┆ …    ┆ …          ┆ … ┆ …          ┆ …         ┆ …         ┆ …         │\n",
              "│ dd00cb26e0 ┆ 0          ┆ 2    ┆ 5          ┆ … ┆ 0          ┆ 0         ┆ 0         ┆ 0.749832  │\n",
              "│ 764521b887 ┆            ┆      ┆            ┆   ┆            ┆           ┆           ┆           │\n",
              "│ b42eee99a3 ┆            ┆      ┆            ┆   ┆            ┆           ┆           ┆           │\n",
              "│ …          ┆            ┆      ┆            ┆   ┆            ┆           ┆           ┆           │\n",
              "│ d49f212645 ┆ 0          ┆ 5    ┆ 8          ┆ … ┆ 0          ┆ 0         ┆ 0         ┆ 0.749832  │\n",
              "│ 8e48678925 ┆            ┆      ┆            ┆   ┆            ┆           ┆           ┆           │\n",
              "│ 1a25c1f6ea ┆            ┆      ┆            ┆   ┆            ┆           ┆           ┆           │\n",
              "│ …          ┆            ┆      ┆            ┆   ┆            ┆           ┆           ┆           │\n",
              "│ 5237ff1615 ┆ 0          ┆ 4    ┆ 5          ┆ … ┆ 0          ┆ 0         ┆ 0         ┆ 1.025334  │\n",
              "│ e547b89274 ┆            ┆      ┆            ┆   ┆            ┆           ┆           ┆           │\n",
              "│ c49fd4011f ┆            ┆      ┆            ┆   ┆            ┆           ┆           ┆           │\n",
              "│ …          ┆            ┆      ┆            ┆   ┆            ┆           ┆           ┆           │\n",
              "│ 474ce16958 ┆ 1          ┆ 2    ┆ 3          ┆ … ┆ 1          ┆ 0         ┆ 0         ┆ 1.135535  │\n",
              "│ f44126aeab ┆            ┆      ┆            ┆   ┆            ┆           ┆           ┆           │\n",
              "│ 9e544c7612 ┆            ┆      ┆            ┆   ┆            ┆           ┆           ┆           │\n",
              "│ …          ┆            ┆      ┆            ┆   ┆            ┆           ┆           ┆           │\n",
              "│ 4b39a4338d ┆ 0          ┆ 2    ┆ 5          ┆ … ┆ 0          ┆ 0         ┆ 0         ┆ 0.860033  │\n",
              "│ 1c459b8291 ┆            ┆      ┆            ┆   ┆            ┆           ┆           ┆           │\n",
              "│ 642950ff85 ┆            ┆      ┆            ┆   ┆            ┆           ┆           ┆           │\n",
              "│ …          ┆            ┆      ┆            ┆   ┆            ┆           ┆           ┆           │\n",
              "└────────────┴────────────┴──────┴────────────┴───┴────────────┴───────────┴───────────┴───────────┘"
            ],
            "text/html": [
              "<div><style>\n",
              ".dataframe > thead > tr,\n",
              ".dataframe > tbody > tr {\n",
              "  text-align: right;\n",
              "  white-space: pre-wrap;\n",
              "}\n",
              "</style>\n",
              "<small>shape: (164_413, 297)</small><table border=\"1\" class=\"dataframe\"><thead><tr><th>draft_id</th><th>build_index</th><th>wins</th><th>total_matches</th><th>win_rate</th><th>deck_Forest</th><th>deck_Island</th><th>deck_Mountain</th><th>deck_Plains</th><th>deck_Swamp</th><th>user_n_games_bucket</th><th>user_game_win_rate_bucket</th><th>main_colors</th><th>splash_colors</th><th>opp_colors</th><th>deck_Abandoned Campground</th><th>deck_Abhorrent Oculus</th><th>deck_Acrobatic Cheerleader</th><th>deck_Altanak, the Thrice-Called</th><th>deck_Anthropede</th><th>deck_Appendage Amalgam</th><th>deck_Arabella, Abandoned Doll</th><th>deck_Attack-in-the-Box</th><th>deck_Balemurk Leech</th><th>deck_Balustrade Wurm</th><th>deck_Baseball Bat</th><th>deck_Bashful Beastie</th><th>deck_Bear Trap</th><th>deck_Beastie Beatdown</th><th>deck_Bedhead Beastie</th><th>deck_Betrayer&#x27;s Bargain</th><th>deck_Blazemire Verge</th><th>deck_Bleeding Woods</th><th>deck_Boilerbilges Ripper</th><th>deck_Bottomless Pool // Locker Room</th><th>deck_Break Down the Door</th><th>deck_Broodspinner</th><th>&hellip;</th><th>deck_Twist Reality</th><th>deck_Twitching Doll</th><th>deck_Tyvar, the Pummeler</th><th>deck_Unable to Scream</th><th>deck_Undead Sprinter</th><th>deck_Under the Skin</th><th>deck_Underwater Tunnel // Slimy Aquarium</th><th>deck_Unholy Annex // Ritual Chamber</th><th>deck_Unholy Heat</th><th>deck_Unidentified Hovership</th><th>deck_Unnerving Grasp</th><th>deck_Unsettling Twins</th><th>deck_Unstoppable Slasher</th><th>deck_Untimely Malfunction</th><th>deck_Unwanted Remake</th><th>deck_Unwilling Vessel</th><th>deck_Valgavoth&#x27;s Faithful</th><th>deck_Valgavoth&#x27;s Lair</th><th>deck_Valgavoth&#x27;s Onslaught</th><th>deck_Valgavoth, Terror Eater</th><th>deck_Vanish from Sight</th><th>deck_Vengeful Possession</th><th>deck_Veteran Survivor</th><th>deck_Vicious Clown</th><th>deck_Victor, Valgavoth&#x27;s Seneschal</th><th>deck_Vile Mutilator</th><th>deck_Violent Urge</th><th>deck_Walk-In Closet // Forgotten Cellar</th><th>deck_Waltz of Rage</th><th>deck_Wary Watchdog</th><th>deck_Wickerfolk Thresher</th><th>deck_Wildfire Wickerfolk</th><th>deck_Winter&#x27;s Intervention</th><th>deck_Winter, Misanthropic Guide</th><th>deck_Withering Torment</th><th>deck_Zimone, All-Questioning</th><th>user_game_win_rate_bucket_adjusted</th></tr><tr><td>str</td><td>i8</td><td>u32</td><td>u32</td><td>f32</td><td>i8</td><td>i8</td><td>i8</td><td>i8</td><td>i8</td><td>i16</td><td>f64</td><td>str</td><td>str</td><td>str</td><td>i8</td><td>i8</td><td>i8</td><td>i8</td><td>i8</td><td>i8</td><td>i8</td><td>i8</td><td>i8</td><td>i8</td><td>i8</td><td>i8</td><td>i8</td><td>i8</td><td>i8</td><td>i8</td><td>i8</td><td>i8</td><td>i8</td><td>i8</td><td>i8</td><td>i8</td><td>&hellip;</td><td>i8</td><td>i8</td><td>i8</td><td>i8</td><td>i8</td><td>i8</td><td>i8</td><td>i8</td><td>i8</td><td>i8</td><td>i8</td><td>i8</td><td>i8</td><td>i8</td><td>i8</td><td>i8</td><td>i8</td><td>i8</td><td>i8</td><td>i8</td><td>i8</td><td>i8</td><td>i8</td><td>i8</td><td>i8</td><td>i8</td><td>i8</td><td>i8</td><td>i8</td><td>i8</td><td>i8</td><td>i8</td><td>i8</td><td>i8</td><td>i8</td><td>i8</td><td>f64</td></tr></thead><tbody><tr><td>&quot;a104a0263cbb4f7d915d494cb3fba8…</td><td>3</td><td>4</td><td>5</td><td>0.8</td><td>7</td><td>7</td><td>0</td><td>1</td><td>1</td><td>100</td><td>0.6</td><td>&quot;UG&quot;</td><td>&quot;WB&quot;</td><td>&quot;UB&quot;</td><td>0</td><td>0</td><td>0</td><td>0</td><td>0</td><td>0</td><td>0</td><td>0</td><td>0</td><td>0</td><td>0</td><td>1</td><td>0</td><td>0</td><td>0</td><td>0</td><td>0</td><td>0</td><td>0</td><td>0</td><td>0</td><td>0</td><td>&hellip;</td><td>1</td><td>0</td><td>0</td><td>0</td><td>0</td><td>2</td><td>0</td><td>0</td><td>0</td><td>0</td><td>1</td><td>1</td><td>0</td><td>0</td><td>0</td><td>0</td><td>0</td><td>0</td><td>0</td><td>0</td><td>0</td><td>0</td><td>0</td><td>0</td><td>0</td><td>0</td><td>0</td><td>0</td><td>0</td><td>1</td><td>0</td><td>0</td><td>0</td><td>0</td><td>0</td><td>0</td><td>1.190635</td></tr><tr><td>&quot;125e37febfa34a108d68319ab842cb…</td><td>0</td><td>6</td><td>9</td><td>0.666667</td><td>0</td><td>0</td><td>7</td><td>0</td><td>7</td><td>10</td><td>0.52</td><td>&quot;BR&quot;</td><td>null</td><td>&quot;WR&quot;</td><td>0</td><td>0</td><td>0</td><td>0</td><td>0</td><td>0</td><td>0</td><td>0</td><td>0</td><td>0</td><td>0</td><td>0</td><td>0</td><td>0</td><td>1</td><td>1</td><td>0</td><td>0</td><td>0</td><td>0</td><td>0</td><td>0</td><td>&hellip;</td><td>0</td><td>0</td><td>0</td><td>0</td><td>0</td><td>0</td><td>0</td><td>0</td><td>0</td><td>0</td><td>0</td><td>0</td><td>0</td><td>0</td><td>0</td><td>0</td><td>1</td><td>0</td><td>0</td><td>0</td><td>0</td><td>1</td><td>0</td><td>0</td><td>0</td><td>0</td><td>0</td><td>0</td><td>0</td><td>0</td><td>0</td><td>0</td><td>1</td><td>0</td><td>0</td><td>0</td><td>0.970234</td></tr><tr><td>&quot;d809141b00384a72a95fd90495b30b…</td><td>1</td><td>5</td><td>7</td><td>0.714286</td><td>0</td><td>0</td><td>9</td><td>8</td><td>0</td><td>100</td><td>0.5</td><td>&quot;WR&quot;</td><td>null</td><td>&quot;UR&quot;</td><td>0</td><td>0</td><td>0</td><td>0</td><td>0</td><td>0</td><td>2</td><td>0</td><td>0</td><td>0</td><td>0</td><td>0</td><td>0</td><td>0</td><td>0</td><td>0</td><td>0</td><td>0</td><td>0</td><td>0</td><td>0</td><td>0</td><td>&hellip;</td><td>0</td><td>0</td><td>0</td><td>0</td><td>0</td><td>0</td><td>0</td><td>0</td><td>0</td><td>0</td><td>0</td><td>1</td><td>0</td><td>0</td><td>0</td><td>0</td><td>0</td><td>0</td><td>0</td><td>0</td><td>0</td><td>0</td><td>1</td><td>1</td><td>0</td><td>0</td><td>0</td><td>0</td><td>0</td><td>0</td><td>0</td><td>0</td><td>0</td><td>0</td><td>0</td><td>0</td><td>0.915133</td></tr><tr><td>&quot;194be9457c834f469a1a49f4c69cce…</td><td>0</td><td>3</td><td>6</td><td>0.5</td><td>8</td><td>0</td><td>7</td><td>0</td><td>0</td><td>100</td><td>0.46</td><td>&quot;RG&quot;</td><td>null</td><td>&quot;UR&quot;</td><td>0</td><td>0</td><td>0</td><td>1</td><td>0</td><td>0</td><td>0</td><td>0</td><td>0</td><td>1</td><td>0</td><td>0</td><td>0</td><td>1</td><td>0</td><td>1</td><td>0</td><td>0</td><td>0</td><td>0</td><td>0</td><td>0</td><td>&hellip;</td><td>0</td><td>0</td><td>0</td><td>0</td><td>0</td><td>0</td><td>0</td><td>0</td><td>0</td><td>0</td><td>0</td><td>0</td><td>0</td><td>0</td><td>0</td><td>0</td><td>0</td><td>0</td><td>0</td><td>0</td><td>0</td><td>0</td><td>0</td><td>0</td><td>0</td><td>0</td><td>0</td><td>0</td><td>0</td><td>1</td><td>0</td><td>2</td><td>0</td><td>0</td><td>0</td><td>0</td><td>0.804932</td></tr><tr><td>&quot;4a3f48428e2448649aaf6f47d0705f…</td><td>0</td><td>2</td><td>5</td><td>0.4</td><td>0</td><td>8</td><td>8</td><td>0</td><td>0</td><td>10</td><td>0.6</td><td>&quot;UR&quot;</td><td>null</td><td>&quot;UR&quot;</td><td>0</td><td>0</td><td>0</td><td>0</td><td>0</td><td>0</td><td>0</td><td>0</td><td>0</td><td>0</td><td>0</td><td>0</td><td>0</td><td>0</td><td>0</td><td>0</td><td>0</td><td>0</td><td>0</td><td>0</td><td>0</td><td>0</td><td>&hellip;</td><td>0</td><td>0</td><td>0</td><td>0</td><td>0</td><td>0</td><td>0</td><td>0</td><td>0</td><td>0</td><td>0</td><td>0</td><td>0</td><td>0</td><td>0</td><td>1</td><td>0</td><td>0</td><td>0</td><td>0</td><td>0</td><td>0</td><td>0</td><td>0</td><td>0</td><td>0</td><td>0</td><td>0</td><td>0</td><td>0</td><td>0</td><td>0</td><td>0</td><td>0</td><td>0</td><td>0</td><td>1.190635</td></tr><tr><td>&hellip;</td><td>&hellip;</td><td>&hellip;</td><td>&hellip;</td><td>&hellip;</td><td>&hellip;</td><td>&hellip;</td><td>&hellip;</td><td>&hellip;</td><td>&hellip;</td><td>&hellip;</td><td>&hellip;</td><td>&hellip;</td><td>&hellip;</td><td>&hellip;</td><td>&hellip;</td><td>&hellip;</td><td>&hellip;</td><td>&hellip;</td><td>&hellip;</td><td>&hellip;</td><td>&hellip;</td><td>&hellip;</td><td>&hellip;</td><td>&hellip;</td><td>&hellip;</td><td>&hellip;</td><td>&hellip;</td><td>&hellip;</td><td>&hellip;</td><td>&hellip;</td><td>&hellip;</td><td>&hellip;</td><td>&hellip;</td><td>&hellip;</td><td>&hellip;</td><td>&hellip;</td><td>&hellip;</td><td>&hellip;</td><td>&hellip;</td><td>&hellip;</td><td>&hellip;</td><td>&hellip;</td><td>&hellip;</td><td>&hellip;</td><td>&hellip;</td><td>&hellip;</td><td>&hellip;</td><td>&hellip;</td><td>&hellip;</td><td>&hellip;</td><td>&hellip;</td><td>&hellip;</td><td>&hellip;</td><td>&hellip;</td><td>&hellip;</td><td>&hellip;</td><td>&hellip;</td><td>&hellip;</td><td>&hellip;</td><td>&hellip;</td><td>&hellip;</td><td>&hellip;</td><td>&hellip;</td><td>&hellip;</td><td>&hellip;</td><td>&hellip;</td><td>&hellip;</td><td>&hellip;</td><td>&hellip;</td><td>&hellip;</td><td>&hellip;</td><td>&hellip;</td><td>&hellip;</td><td>&hellip;</td></tr><tr><td>&quot;dd00cb26e0764521b887b42eee99a3…</td><td>0</td><td>2</td><td>5</td><td>0.4</td><td>0</td><td>7</td><td>0</td><td>7</td><td>0</td><td>100</td><td>0.44</td><td>&quot;WU&quot;</td><td>null</td><td>&quot;WU&quot;</td><td>1</td><td>0</td><td>0</td><td>0</td><td>0</td><td>0</td><td>0</td><td>0</td><td>0</td><td>0</td><td>0</td><td>0</td><td>0</td><td>0</td><td>0</td><td>0</td><td>0</td><td>0</td><td>0</td><td>0</td><td>0</td><td>0</td><td>&hellip;</td><td>0</td><td>0</td><td>0</td><td>2</td><td>0</td><td>0</td><td>0</td><td>0</td><td>0</td><td>1</td><td>0</td><td>0</td><td>0</td><td>0</td><td>0</td><td>0</td><td>0</td><td>0</td><td>0</td><td>0</td><td>0</td><td>0</td><td>0</td><td>0</td><td>0</td><td>0</td><td>0</td><td>0</td><td>0</td><td>0</td><td>0</td><td>0</td><td>0</td><td>0</td><td>0</td><td>0</td><td>0.749832</td></tr><tr><td>&quot;d49f2126458e486789251a25c1f6ea…</td><td>0</td><td>5</td><td>8</td><td>0.625</td><td>1</td><td>4</td><td>3</td><td>2</td><td>1</td><td>50</td><td>0.44</td><td>&quot;UBR&quot;</td><td>&quot;W&quot;</td><td>&quot;BR&quot;</td><td>0</td><td>0</td><td>0</td><td>0</td><td>0</td><td>0</td><td>0</td><td>0</td><td>0</td><td>0</td><td>0</td><td>0</td><td>0</td><td>0</td><td>0</td><td>2</td><td>0</td><td>1</td><td>1</td><td>0</td><td>0</td><td>0</td><td>&hellip;</td><td>0</td><td>0</td><td>0</td><td>0</td><td>0</td><td>0</td><td>1</td><td>0</td><td>0</td><td>0</td><td>0</td><td>0</td><td>0</td><td>0</td><td>0</td><td>1</td><td>0</td><td>0</td><td>0</td><td>0</td><td>0</td><td>0</td><td>0</td><td>0</td><td>0</td><td>0</td><td>0</td><td>0</td><td>0</td><td>0</td><td>0</td><td>0</td><td>0</td><td>0</td><td>0</td><td>0</td><td>0.749832</td></tr><tr><td>&quot;5237ff1615e547b89274c49fd4011f…</td><td>0</td><td>4</td><td>5</td><td>0.8</td><td>0</td><td>8</td><td>0</td><td>7</td><td>0</td><td>100</td><td>0.54</td><td>&quot;WU&quot;</td><td>null</td><td>&quot;UB&quot;</td><td>1</td><td>0</td><td>1</td><td>0</td><td>0</td><td>0</td><td>0</td><td>0</td><td>0</td><td>0</td><td>0</td><td>0</td><td>0</td><td>0</td><td>0</td><td>0</td><td>0</td><td>0</td><td>0</td><td>0</td><td>0</td><td>0</td><td>&hellip;</td><td>1</td><td>0</td><td>0</td><td>2</td><td>0</td><td>0</td><td>0</td><td>0</td><td>0</td><td>0</td><td>0</td><td>0</td><td>0</td><td>0</td><td>0</td><td>1</td><td>0</td><td>0</td><td>0</td><td>0</td><td>1</td><td>0</td><td>0</td><td>0</td><td>0</td><td>0</td><td>0</td><td>0</td><td>0</td><td>0</td><td>0</td><td>0</td><td>0</td><td>0</td><td>0</td><td>0</td><td>1.025334</td></tr><tr><td>&quot;474ce16958f44126aeab9e544c7612…</td><td>1</td><td>2</td><td>3</td><td>0.666667</td><td>2</td><td>0</td><td>6</td><td>3</td><td>1</td><td>100</td><td>0.58</td><td>&quot;WR&quot;</td><td>&quot;BG&quot;</td><td>&quot;WBR&quot;</td><td>0</td><td>0</td><td>0</td><td>0</td><td>0</td><td>0</td><td>1</td><td>0</td><td>0</td><td>0</td><td>0</td><td>0</td><td>0</td><td>0</td><td>0</td><td>2</td><td>0</td><td>1</td><td>0</td><td>0</td><td>0</td><td>0</td><td>&hellip;</td><td>0</td><td>0</td><td>1</td><td>0</td><td>0</td><td>0</td><td>0</td><td>0</td><td>0</td><td>0</td><td>0</td><td>0</td><td>0</td><td>0</td><td>0</td><td>0</td><td>0</td><td>0</td><td>0</td><td>0</td><td>0</td><td>0</td><td>0</td><td>0</td><td>0</td><td>0</td><td>0</td><td>0</td><td>0</td><td>0</td><td>0</td><td>0</td><td>0</td><td>1</td><td>0</td><td>0</td><td>1.135535</td></tr><tr><td>&quot;4b39a4338d1c459b8291642950ff85…</td><td>0</td><td>2</td><td>5</td><td>0.4</td><td>6</td><td>2</td><td>5</td><td>0</td><td>1</td><td>100</td><td>0.48</td><td>&quot;RG&quot;</td><td>&quot;UB&quot;</td><td>&quot;BG&quot;</td><td>0</td><td>0</td><td>0</td><td>0</td><td>0</td><td>0</td><td>0</td><td>0</td><td>0</td><td>1</td><td>0</td><td>0</td><td>0</td><td>2</td><td>0</td><td>0</td><td>0</td><td>1</td><td>0</td><td>0</td><td>0</td><td>0</td><td>&hellip;</td><td>0</td><td>1</td><td>0</td><td>0</td><td>0</td><td>0</td><td>0</td><td>0</td><td>0</td><td>0</td><td>0</td><td>0</td><td>0</td><td>1</td><td>0</td><td>0</td><td>0</td><td>0</td><td>0</td><td>0</td><td>0</td><td>0</td><td>0</td><td>0</td><td>0</td><td>0</td><td>0</td><td>0</td><td>0</td><td>0</td><td>0</td><td>1</td><td>0</td><td>0</td><td>0</td><td>0</td><td>0.860033</td></tr></tbody></table></div>"
            ]
          },
          "metadata": {}
        },
        {
          "output_type": "stream",
          "name": "stdout",
          "text": [
            "shape: (9, 2)\n",
            "┌────────────┬──────────┐\n",
            "│ statistic  ┆ value    │\n",
            "│ ---        ┆ ---      │\n",
            "│ str        ┆ f64      │\n",
            "╞════════════╪══════════╡\n",
            "│ count      ┆ 164379.0 │\n",
            "│ null_count ┆ 34.0     │\n",
            "│ mean       ┆ 1.00032  │\n",
            "│ std        ┆ 0.198063 │\n",
            "│ min        ┆ 0.0      │\n",
            "│ 25%        ┆ 0.915133 │\n",
            "│ 50%        ┆ 1.025334 │\n",
            "│ 75%        ┆ 1.135535 │\n",
            "│ max        ┆ 2.072243 │\n",
            "└────────────┴──────────┘\n"
          ]
        }
      ]
    },
    {
      "cell_type": "code",
      "source": [
        "!pip install kmeans_pytorch\n",
        "import polars as pl\n",
        "import sklearn\n",
        "from sklearn.cluster import KMeans\n",
        "from sklearn.preprocessing import StandardScaler\n",
        "import numpy as np\n",
        "import torch\n",
        "import kmeans_pytorch\n"
      ],
      "metadata": {
        "colab": {
          "base_uri": "https://localhost:8080/"
        },
        "id": "Xpd1R6rbXUeS",
        "outputId": "84682bb0-2fe4-476d-cb18-b785f4beedce",
        "collapsed": true
      },
      "execution_count": 5,
      "outputs": [
        {
          "output_type": "stream",
          "name": "stdout",
          "text": [
            "Collecting kmeans_pytorch\n",
            "  Downloading kmeans_pytorch-0.3-py3-none-any.whl.metadata (1.6 kB)\n",
            "Downloading kmeans_pytorch-0.3-py3-none-any.whl (4.4 kB)\n",
            "Installing collected packages: kmeans_pytorch\n",
            "Successfully installed kmeans_pytorch-0.3\n"
          ]
        }
      ]
    },
    {
      "cell_type": "code",
      "source": [
        "def kmeans_model(data_df, columns, num_clusters):\n",
        "  #select columns\n",
        "  selected_df = data_df.select(\n",
        "      pl.col(columns)\n",
        "  )\n",
        "\n",
        "\n",
        "  # Scale the deck attributes data\n",
        "  scaler = StandardScaler()\n",
        "  scaled_data_np = scaler.fit_transform(selected_df)\n",
        "\n",
        "  # Convert the scaled data to a PyTorch tensor\n",
        "  data_tensor = torch.tensor(scaled_data_np, dtype=torch.float16)\n",
        "\n",
        "\n",
        "  # Perform k-means clustering using kmeans_pytorch\n",
        "  # The function returns the cluster assignments and the cluster centers\n",
        "  cluster_assignments, cluster_centers = kmeans_pytorch.kmeans(\n",
        "      X=data_tensor, num_clusters=num_clusters, distance='cosine'\n",
        "      , device=torch.device('cuda')\n",
        "  )\n",
        "  return cluster_assignments, cluster_centers, scaler\n",
        "\n",
        "\n",
        "def predict_clusters(data_df, columns, cluster_centers):\n",
        "    #select columns\n",
        "  selected_df = data_df.select(\n",
        "      pl.col(columns)\n",
        "  )\n",
        "\n",
        "  # Scale the deck attributes data\n",
        "  scaler = StandardScaler()\n",
        "  scaled_data_np = scaler.fit_transform(selected_df)\n",
        "\n",
        "  # Convert the scaled data to a PyTorch tensor\n",
        "  data_tensor = torch.tensor(scaled_data_np, dtype=torch.float16)\n",
        "\n",
        "  # Predict the cluster assignments for the new data\n",
        "  cluster_assignments = kmeans_pytorch.kmeans_predict(\n",
        "      X=data_tensor, cluster_centers=cluster_centers,\n",
        "      device=torch.device('cuda'), distance='cosine'\n",
        "      )\n",
        "  return cluster_assignments\n",
        "\n",
        "\n",
        "\n",
        "\n"
      ],
      "metadata": {
        "id": "UOlv8bSfstt8"
      },
      "execution_count": 39,
      "outputs": []
    },
    {
      "cell_type": "code",
      "source": [
        "# split test-train data\n",
        "train_data, test_data = sklearn.model_selection.train_test_split(deck_gamedata_collected, test_size=0.2, random_state=42)\n",
        "\n",
        "# kmeans training\n",
        "cluster_assignments, cluster_centers, scaler = kmeans_model(\n",
        "    train_data, deck_atributes, 30)\n",
        "\n",
        "test_data_clusters = predict_clusters(test_data, deck_atributes, cluster_centers)\n"
      ],
      "metadata": {
        "colab": {
          "base_uri": "https://localhost:8080/"
        },
        "id": "mLgphK-9vRUy",
        "outputId": "b2dbe6d6-fa66-446b-9666-f82ec1c7bf0c"
      },
      "execution_count": 40,
      "outputs": [
        {
          "output_type": "stream",
          "name": "stdout",
          "text": [
            "running k-means on cuda..\n"
          ]
        },
        {
          "output_type": "stream",
          "name": "stderr",
          "text": [
            "[running kmeans]: 76it [01:06,  1.14it/s, center_shift=0.000043, iteration=76, tol=0.000100]\n"
          ]
        },
        {
          "output_type": "stream",
          "name": "stdout",
          "text": [
            "predicting on cuda..\n"
          ]
        }
      ]
    },
    {
      "cell_type": "code",
      "source": [
        "# Convert cluster_assignments back to a numpy array and then to a Polars Series\n",
        "cluster_assignments_np_train = cluster_assignments.numpy()\n",
        "cluster_assignments_pl_train = pl.Series(name=\"deck_cluster\", values=cluster_assignments_np_train)\n",
        "\n",
        "train_data = train_data.with_columns(cluster_assignments_pl_train) # Add cluster assignments as a new column to the original DataFrame\n",
        "\n",
        "cluster_assignments_np_test = test_data_clusters.numpy()\n",
        "cluster_assignments_pl_test = pl.Series(name=\"deck_cluster\", values=cluster_assignments_np_test)\n",
        "\n",
        "test_data = test_data.with_columns(cluster_assignments_pl_test) # Add cluster assignments as a new column to the original DataFrame\n",
        "\n",
        "\n",
        "\n",
        "# Store the cluster centers in a variable\n",
        "kmeans_cluster_centers = cluster_centers.numpy()\n",
        "# add cluster numbers in first column\n",
        "kmeans_cluster_centers_with_numbers = np.insert(kmeans_cluster_centers, 0, np.arange(kmeans_cluster_centers.shape[0]), axis=1)\n",
        "# Convert the cluster centers to a Polars DataFrame\n",
        "kmeans_cluster_centers_pl = pl.DataFrame(kmeans_cluster_centers_with_numbers, schema=['deck_cluster']+deck_atributes)\n",
        "# change 'deck_cluster' to i64\n",
        "kmeans_cluster_centers_pl = kmeans_cluster_centers_pl.with_columns(\n",
        "    pl.col('deck_cluster').cast(pl.Int64)\n",
        ")\n",
        "\n",
        "\n",
        "\n",
        "\n"
      ],
      "metadata": {
        "id": "4IwnBZdBlRN0"
      },
      "execution_count": 60,
      "outputs": []
    },
    {
      "cell_type": "code",
      "source": [
        "aggregation_rule_adjusted_win_rate = (\n",
        "    (\n",
        "        (pl.col('wins')*pl.col('user_game_win_rate_bucket_adjusted')).sum() /\n",
        "        (pl.col('total_matches')*pl.col('user_game_win_rate_bucket_adjusted')).sum()\n",
        "    ).alias('adjusted_win_rate')\n",
        ")\n",
        "\n",
        "#aggregate\n",
        "\n",
        "\n",
        "cluster_aggregate = test_data.group_by('deck_cluster').agg(\n",
        "    pl.col('main_colors').mode(),\n",
        "    aggregation_rule_win_rate,\n",
        "    aggregation_rule_adjusted_win_rate\n",
        ")\n",
        "#add main_colors as the second column of kmeans_cluster_centers_pl\n",
        "kmeans_cluster_centers_pl = kmeans_cluster_centers_pl.with_columns(\n",
        "    main_colors_series.alias('main_colors')\n",
        ")\n",
        "#rearrange columns to make 'main_colors' the second column\n",
        "kmeans_cluster_centers_pl = cluster_aggregate.join(kmeans_cluster_centers_pl, on='deck_cluster')\n",
        "kmeans_cluster_centers_pl\n",
        "\n",
        "#unscale deck_atributes\n",
        "unscaled_cluster_centers = pl.DataFrame(scaler.inverse_transform(kmeans_cluster_centers),schema=deck_atributes)\n",
        "#add deck_cluster column\n",
        "unscaled_cluster_centers = unscaled_cluster_centers.with_columns(\n",
        "    pl.Series(name='deck_cluster', values=np.arange(unscaled_cluster_centers.shape[0])).alias('deck_cluster')\n",
        ")\n",
        "\n",
        "unscaled_cluster_centers_pl = cluster_aggregate.join(unscaled_cluster_centers, on='deck_cluster')\n",
        "unscaled_cluster_centers_pl\n",
        ""
      ],
      "metadata": {
        "colab": {
          "base_uri": "https://localhost:8080/",
          "height": 532
        },
        "collapsed": true,
        "id": "B1in_H0vf7Vt",
        "outputId": "e9a53c79-36d9-4f2f-95e8-77097670b7b7"
      },
      "execution_count": 61,
      "outputs": [
        {
          "output_type": "execute_result",
          "data": {
            "text/plain": [
              "shape: (30, 285)\n",
              "┌───────────┬───────────┬──────────┬───────────┬───┬───────────┬───────────┬───────────┬───────────┐\n",
              "│ deck_clus ┆ main_colo ┆ win_rate ┆ adjusted_ ┆ … ┆ deck_Wint ┆ deck_Wint ┆ deck_With ┆ deck_Zimo │\n",
              "│ ter       ┆ rs        ┆ ---      ┆ win_rate  ┆   ┆ er's Inte ┆ er, Misan ┆ ering     ┆ ne, All-Q │\n",
              "│ ---       ┆ ---       ┆ f32      ┆ ---       ┆   ┆ rvention  ┆ thropic   ┆ Torment   ┆ uestionin │\n",
              "│ i64       ┆ list[str] ┆          ┆ f64       ┆   ┆ ---       ┆ Guid…     ┆ ---       ┆ g         │\n",
              "│           ┆           ┆          ┆           ┆   ┆ f32       ┆ ---       ┆ f32       ┆ ---       │\n",
              "│           ┆           ┆          ┆           ┆   ┆           ┆ f32       ┆           ┆ f32       │\n",
              "╞═══════════╪═══════════╪══════════╪═══════════╪═══╪═══════════╪═══════════╪═══════════╪═══════════╡\n",
              "│ 0         ┆ [\"WR\"]    ┆ 0.568682 ┆ 0.580859  ┆ … ┆ 0.011127  ┆ 3.1694e-7 ┆ 0.007313  ┆ 0.002564  │\n",
              "│ 1         ┆ [\"WB\"]    ┆ 0.541806 ┆ 0.555153  ┆ … ┆ 0.584521  ┆ 3.1694e-7 ┆ 0.28499   ┆ 0.005799  │\n",
              "│ 2         ┆ [\"RG\"]    ┆ 0.562389 ┆ 0.574107  ┆ … ┆ 0.041464  ┆ 0.000822  ┆ 0.051335  ┆ 0.050954  │\n",
              "│ 3         ┆ [\"WR\"]    ┆ 0.595466 ┆ 0.606422  ┆ … ┆ 0.00172   ┆ 3.1694e-7 ┆ 0.001856  ┆ 0.000264  │\n",
              "│ 4         ┆ [\"BRG\"]   ┆ 0.51548  ┆ 0.531087  ┆ … ┆ 0.259057  ┆ 1.051137  ┆ 0.189364  ┆ 0.020823  │\n",
              "│ …         ┆ …         ┆ …        ┆ …         ┆ … ┆ …         ┆ …         ┆ …         ┆ …         │\n",
              "│ 25        ┆ [\"UR\"]    ┆ 0.566042 ┆ 0.57899   ┆ … ┆ 0.005792  ┆ 3.1694e-7 ┆ 0.008066  ┆ 0.026208  │\n",
              "│ 26        ┆ [\"WR\"]    ┆ 0.539252 ┆ 0.552794  ┆ … ┆ 0.019538  ┆ 3.1694e-7 ┆ 0.007968  ┆ 0.002809  │\n",
              "│ 27        ┆ [\"BG\"]    ┆ 0.562113 ┆ 0.573182  ┆ … ┆ 0.517614  ┆ 3.1694e-7 ┆ 0.295212  ┆ 0.054079  │\n",
              "│ 28        ┆ [\"WG\"]    ┆ 0.538823 ┆ 0.55095   ┆ … ┆ 0.007311  ┆ 3.1694e-7 ┆ 0.011726  ┆ 0.045378  │\n",
              "│ 29        ┆ [\"RG\"]    ┆ 0.570317 ┆ 0.580755  ┆ … ┆ 0.007074  ┆ 3.1694e-7 ┆ 0.012556  ┆ 0.043453  │\n",
              "└───────────┴───────────┴──────────┴───────────┴───┴───────────┴───────────┴───────────┴───────────┘"
            ],
            "text/html": [
              "<div><style>\n",
              ".dataframe > thead > tr,\n",
              ".dataframe > tbody > tr {\n",
              "  text-align: right;\n",
              "  white-space: pre-wrap;\n",
              "}\n",
              "</style>\n",
              "<small>shape: (30, 285)</small><table border=\"1\" class=\"dataframe\"><thead><tr><th>deck_cluster</th><th>main_colors</th><th>win_rate</th><th>adjusted_win_rate</th><th>deck_Abandoned Campground</th><th>deck_Abhorrent Oculus</th><th>deck_Acrobatic Cheerleader</th><th>deck_Altanak, the Thrice-Called</th><th>deck_Anthropede</th><th>deck_Appendage Amalgam</th><th>deck_Arabella, Abandoned Doll</th><th>deck_Attack-in-the-Box</th><th>deck_Balemurk Leech</th><th>deck_Balustrade Wurm</th><th>deck_Baseball Bat</th><th>deck_Bashful Beastie</th><th>deck_Bear Trap</th><th>deck_Beastie Beatdown</th><th>deck_Bedhead Beastie</th><th>deck_Betrayer&#x27;s Bargain</th><th>deck_Blazemire Verge</th><th>deck_Bleeding Woods</th><th>deck_Boilerbilges Ripper</th><th>deck_Bottomless Pool // Locker Room</th><th>deck_Break Down the Door</th><th>deck_Broodspinner</th><th>deck_Cackling Slasher</th><th>deck_Cathartic Parting</th><th>deck_Cautious Survivor</th><th>deck_Central Elevator // Promising Stairs</th><th>deck_Chainsaw</th><th>deck_Charred Foyer // Warped Space</th><th>deck_Clammy Prowler</th><th>deck_Clockwork Percussionist</th><th>deck_Collected Company</th><th>deck_Come Back Wrong</th><th>deck_Commune with Evil</th><th>&hellip;</th><th>deck_Turn Inside Out</th><th>deck_Twist Reality</th><th>deck_Twitching Doll</th><th>deck_Tyvar, the Pummeler</th><th>deck_Unable to Scream</th><th>deck_Undead Sprinter</th><th>deck_Under the Skin</th><th>deck_Underwater Tunnel // Slimy Aquarium</th><th>deck_Unholy Annex // Ritual Chamber</th><th>deck_Unholy Heat</th><th>deck_Unidentified Hovership</th><th>deck_Unnerving Grasp</th><th>deck_Unsettling Twins</th><th>deck_Unstoppable Slasher</th><th>deck_Untimely Malfunction</th><th>deck_Unwanted Remake</th><th>deck_Unwilling Vessel</th><th>deck_Valgavoth&#x27;s Faithful</th><th>deck_Valgavoth&#x27;s Lair</th><th>deck_Valgavoth&#x27;s Onslaught</th><th>deck_Valgavoth, Terror Eater</th><th>deck_Vanish from Sight</th><th>deck_Vengeful Possession</th><th>deck_Veteran Survivor</th><th>deck_Vicious Clown</th><th>deck_Victor, Valgavoth&#x27;s Seneschal</th><th>deck_Vile Mutilator</th><th>deck_Violent Urge</th><th>deck_Walk-In Closet // Forgotten Cellar</th><th>deck_Waltz of Rage</th><th>deck_Wary Watchdog</th><th>deck_Wickerfolk Thresher</th><th>deck_Wildfire Wickerfolk</th><th>deck_Winter&#x27;s Intervention</th><th>deck_Winter, Misanthropic Guide</th><th>deck_Withering Torment</th><th>deck_Zimone, All-Questioning</th></tr><tr><td>i64</td><td>list[str]</td><td>f32</td><td>f64</td><td>f32</td><td>f32</td><td>f32</td><td>f32</td><td>f32</td><td>f32</td><td>f32</td><td>f32</td><td>f32</td><td>f32</td><td>f32</td><td>f32</td><td>f32</td><td>f32</td><td>f32</td><td>f32</td><td>f32</td><td>f32</td><td>f32</td><td>f32</td><td>f32</td><td>f32</td><td>f32</td><td>f32</td><td>f32</td><td>f32</td><td>f32</td><td>f32</td><td>f32</td><td>f32</td><td>f32</td><td>f32</td><td>f32</td><td>&hellip;</td><td>f32</td><td>f32</td><td>f32</td><td>f32</td><td>f32</td><td>f32</td><td>f32</td><td>f32</td><td>f32</td><td>f32</td><td>f32</td><td>f32</td><td>f32</td><td>f32</td><td>f32</td><td>f32</td><td>f32</td><td>f32</td><td>f32</td><td>f32</td><td>f32</td><td>f32</td><td>f32</td><td>f32</td><td>f32</td><td>f32</td><td>f32</td><td>f32</td><td>f32</td><td>f32</td><td>f32</td><td>f32</td><td>f32</td><td>f32</td><td>f32</td><td>f32</td><td>f32</td></tr></thead><tbody><tr><td>0</td><td>[&quot;WR&quot;]</td><td>0.568682</td><td>0.580859</td><td>0.034123</td><td>0.001594</td><td>0.617729</td><td>0.005105</td><td>0.003498</td><td>0.004169</td><td>0.597257</td><td>0.10105</td><td>0.008621</td><td>0.005418</td><td>0.009891</td><td>0.01525</td><td>0.015944</td><td>0.023601</td><td>0.121473</td><td>0.277302</td><td>0.007339</td><td>0.043684</td><td>0.065981</td><td>0.008926</td><td>0.009251</td><td>0.002221</td><td>0.001274</td><td>0.005398</td><td>0.007015</td><td>0.000005</td><td>0.099742</td><td>0.023591</td><td>0.005729</td><td>0.832721</td><td>0.000956</td><td>0.002878</td><td>0.001261</td><td>&hellip;</td><td>0.69869</td><td>0.002847</td><td>0.007026</td><td>0.00287</td><td>0.021722</td><td>0.004138</td><td>0.010237</td><td>0.012727</td><td>0.005425</td><td>0.010521</td><td>0.098221</td><td>0.00799</td><td>0.620646</td><td>0.011794</td><td>0.084806</td><td>0.04719</td><td>0.005401</td><td>0.004449</td><td>0.033797</td><td>0.015606</td><td>0.000321</td><td>0.010518</td><td>0.102357</td><td>0.259153</td><td>0.657897</td><td>0.001906</td><td>0.005432</td><td>0.1565</td><td>0.000002</td><td>0.044313</td><td>0.024931</td><td>0.012759</td><td>0.01626</td><td>0.011127</td><td>3.1694e-7</td><td>0.007313</td><td>0.002564</td></tr><tr><td>1</td><td>[&quot;WB&quot;]</td><td>0.541806</td><td>0.555153</td><td>0.072874</td><td>0.007715</td><td>0.255314</td><td>0.046449</td><td>0.010971</td><td>0.415365</td><td>0.008154</td><td>0.014993</td><td>0.330144</td><td>0.013651</td><td>0.0055</td><td>0.028735</td><td>0.023744</td><td>0.000751</td><td>0.018428</td><td>0.010563</td><td>0.01247</td><td>0.005052</td><td>0.001776</td><td>0.009644</td><td>0.020329</td><td>0.080681</td><td>0.060677</td><td>0.016447</td><td>0.008014</td><td>0.000154</td><td>0.005639</td><td>0.002079</td><td>0.001772</td><td>0.010315</td><td>0.000148</td><td>0.10907</td><td>0.337187</td><td>&hellip;</td><td>0.003628</td><td>0.011847</td><td>0.017522</td><td>0.006085</td><td>0.042927</td><td>0.00578</td><td>0.039052</td><td>0.01971</td><td>0.137678</td><td>0.000297</td><td>0.091727</td><td>0.022125</td><td>0.512749</td><td>0.109497</td><td>0.000888</td><td>0.053869</td><td>0.006213</td><td>0.393121</td><td>0.054165</td><td>0.033963</td><td>0.107741</td><td>0.020769</td><td>0.004457</td><td>0.094223</td><td>0.002775</td><td>0.006224</td><td>0.383053</td><td>0.000874</td><td>0.000002</td><td>0.003851</td><td>0.068159</td><td>0.021821</td><td>0.000297</td><td>0.584521</td><td>3.1694e-7</td><td>0.28499</td><td>0.005799</td></tr><tr><td>2</td><td>[&quot;RG&quot;]</td><td>0.562389</td><td>0.574107</td><td>0.010278</td><td>0.006573</td><td>0.018078</td><td>0.160255</td><td>0.096127</td><td>0.025903</td><td>0.024231</td><td>0.025068</td><td>0.009874</td><td>0.11548</td><td>0.021784</td><td>0.455237</td><td>0.041912</td><td>0.588772</td><td>0.195163</td><td>0.267431</td><td>0.041911</td><td>0.514034</td><td>0.071892</td><td>0.027113</td><td>0.214006</td><td>0.167572</td><td>0.004929</td><td>0.128979</td><td>0.141342</td><td>0.001649</td><td>0.101855</td><td>0.03328</td><td>0.004099</td><td>0.523094</td><td>0.004108</td><td>0.018499</td><td>0.024223</td><td>&hellip;</td><td>0.468347</td><td>0.029969</td><td>0.101094</td><td>0.048077</td><td>0.066609</td><td>0.032034</td><td>0.336051</td><td>0.047638</td><td>0.02794</td><td>0.010273</td><td>0.00823</td><td>0.053837</td><td>0.042713</td><td>0.0341</td><td>0.055882</td><td>0.004116</td><td>0.011894</td><td>0.01683</td><td>0.047668</td><td>0.103113</td><td>0.0037</td><td>0.046836</td><td>0.068221</td><td>0.00947</td><td>0.110059</td><td>0.000404</td><td>0.021785</td><td>0.157747</td><td>0.000002</td><td>0.117523</td><td>0.643354</td><td>0.28397</td><td>0.574456</td><td>0.041464</td><td>0.000822</td><td>0.051335</td><td>0.050954</td></tr><tr><td>3</td><td>[&quot;WR&quot;]</td><td>0.595466</td><td>0.606422</td><td>0.021007</td><td>0.001875</td><td>0.593997</td><td>0.001004</td><td>0.000367</td><td>0.00065</td><td>0.67165</td><td>0.048498</td><td>0.001138</td><td>0.001248</td><td>0.003385</td><td>0.001571</td><td>0.018753</td><td>0.007509</td><td>0.104758</td><td>0.307421</td><td>0.003257</td><td>0.018381</td><td>0.061112</td><td>0.002377</td><td>0.001383</td><td>0.000365</td><td>0.000249</td><td>0.000979</td><td>0.000502</td><td>0.000005</td><td>0.117946</td><td>0.016875</td><td>0.001241</td><td>0.963327</td><td>-6.4194e-7</td><td>0.001384</td><td>0.000611</td><td>&hellip;</td><td>0.839676</td><td>0.000477</td><td>0.001887</td><td>0.000876</td><td>0.009668</td><td>0.001994</td><td>0.002788</td><td>0.0036</td><td>0.002131</td><td>0.007375</td><td>0.109027</td><td>0.006394</td><td>0.671016</td><td>0.009998</td><td>0.08125</td><td>0.029506</td><td>0.001232</td><td>0.000487</td><td>0.0255</td><td>0.016484</td><td>0.000002</td><td>0.004121</td><td>0.109517</td><td>0.285573</td><td>0.740721</td><td>0.000618</td><td>0.000513</td><td>0.158086</td><td>0.000002</td><td>0.055124</td><td>0.00332</td><td>0.001506</td><td>0.008</td><td>0.00172</td><td>3.1694e-7</td><td>0.001856</td><td>0.000264</td></tr><tr><td>4</td><td>[&quot;BRG&quot;]</td><td>0.51548</td><td>0.531087</td><td>0.009372</td><td>0.005203</td><td>0.003124</td><td>0.166519</td><td>0.104047</td><td>0.193533</td><td>0.005197</td><td>0.042668</td><td>0.086383</td><td>0.099923</td><td>0.009375</td><td>0.311136</td><td>0.064522</td><td>0.387124</td><td>0.208126</td><td>0.158162</td><td>0.134233</td><td>0.554701</td><td>0.082201</td><td>0.012488</td><td>0.170617</td><td>0.396358</td><td>0.0437</td><td>0.138375</td><td>0.099903</td><td>0.003127</td><td>0.088418</td><td>0.03226</td><td>0.002072</td><td>0.296651</td><td>0.004162</td><td>0.083263</td><td>0.134203</td><td>&hellip;</td><td>0.219592</td><td>0.006221</td><td>0.094716</td><td>0.046834</td><td>0.013572</td><td>0.123796</td><td>0.258056</td><td>0.005178</td><td>0.086365</td><td>0.006245</td><td>0.002093</td><td>0.009385</td><td>0.010393</td><td>0.0718</td><td>0.042668</td><td>0.00313</td><td>0.003104</td><td>0.122765</td><td>0.073895</td><td>0.087398</td><td>0.013532</td><td>0.011443</td><td>0.088471</td><td>0.002102</td><td>0.042619</td><td>0.006236</td><td>0.106138</td><td>0.107161</td><td>0.002083</td><td>0.073892</td><td>0.545244</td><td>0.23628</td><td>0.324715</td><td>0.259057</td><td>1.051137</td><td>0.189364</td><td>0.020823</td></tr><tr><td>&hellip;</td><td>&hellip;</td><td>&hellip;</td><td>&hellip;</td><td>&hellip;</td><td>&hellip;</td><td>&hellip;</td><td>&hellip;</td><td>&hellip;</td><td>&hellip;</td><td>&hellip;</td><td>&hellip;</td><td>&hellip;</td><td>&hellip;</td><td>&hellip;</td><td>&hellip;</td><td>&hellip;</td><td>&hellip;</td><td>&hellip;</td><td>&hellip;</td><td>&hellip;</td><td>&hellip;</td><td>&hellip;</td><td>&hellip;</td><td>&hellip;</td><td>&hellip;</td><td>&hellip;</td><td>&hellip;</td><td>&hellip;</td><td>&hellip;</td><td>&hellip;</td><td>&hellip;</td><td>&hellip;</td><td>&hellip;</td><td>&hellip;</td><td>&hellip;</td><td>&hellip;</td><td>&hellip;</td><td>&hellip;</td><td>&hellip;</td><td>&hellip;</td><td>&hellip;</td><td>&hellip;</td><td>&hellip;</td><td>&hellip;</td><td>&hellip;</td><td>&hellip;</td><td>&hellip;</td><td>&hellip;</td><td>&hellip;</td><td>&hellip;</td><td>&hellip;</td><td>&hellip;</td><td>&hellip;</td><td>&hellip;</td><td>&hellip;</td><td>&hellip;</td><td>&hellip;</td><td>&hellip;</td><td>&hellip;</td><td>&hellip;</td><td>&hellip;</td><td>&hellip;</td><td>&hellip;</td><td>&hellip;</td><td>&hellip;</td><td>&hellip;</td><td>&hellip;</td><td>&hellip;</td><td>&hellip;</td><td>&hellip;</td><td>&hellip;</td><td>&hellip;</td><td>&hellip;</td><td>&hellip;</td></tr><tr><td>25</td><td>[&quot;UR&quot;]</td><td>0.566042</td><td>0.57899</td><td>0.085735</td><td>0.023933</td><td>0.006794</td><td>0.003885</td><td>0.001609</td><td>0.001642</td><td>0.018102</td><td>0.012622</td><td>0.006158</td><td>0.003232</td><td>0.000334</td><td>0.01062</td><td>0.020381</td><td>0.017799</td><td>0.193737</td><td>0.302033</td><td>0.014237</td><td>0.060169</td><td>0.135505</td><td>0.330141</td><td>0.005182</td><td>0.001607</td><td>0.000323</td><td>0.007094</td><td>0.002589</td><td>0.012296</td><td>0.106367</td><td>0.044633</td><td>0.089567</td><td>0.400467</td><td>-6.4194e-7</td><td>0.007125</td><td>0.00128</td><td>&hellip;</td><td>0.292059</td><td>0.265827</td><td>0.00551</td><td>0.002265</td><td>0.667984</td><td>0.004845</td><td>0.013619</td><td>0.642357</td><td>0.012295</td><td>0.013909</td><td>0.00357</td><td>0.386457</td><td>0.013247</td><td>0.010349</td><td>0.049164</td><td>0.001301</td><td>0.285818</td><td>0.000957</td><td>0.04367</td><td>0.028124</td><td>0.000649</td><td>0.46477</td><td>0.037531</td><td>0.003255</td><td>0.11703</td><td>0.000317</td><td>0.001954</td><td>0.050435</td><td>0.000002</td><td>0.108687</td><td>0.012682</td><td>0.006152</td><td>0.007116</td><td>0.005792</td><td>3.1694e-7</td><td>0.008066</td><td>0.026208</td></tr><tr><td>26</td><td>[&quot;WR&quot;]</td><td>0.539252</td><td>0.552794</td><td>0.041949</td><td>-1.3194e-7</td><td>0.743941</td><td>0.003998</td><td>0.005183</td><td>0.010806</td><td>0.598909</td><td>0.070289</td><td>0.02198</td><td>0.008387</td><td>0.021573</td><td>0.011129</td><td>0.029158</td><td>0.007198</td><td>0.134603</td><td>0.223622</td><td>0.0048</td><td>0.021974</td><td>0.082662</td><td>0.016771</td><td>0.007993</td><td>0.002386</td><td>0.004392</td><td>0.005171</td><td>0.009187</td><td>0.000405</td><td>0.093419</td><td>0.021567</td><td>0.013968</td><td>0.563585</td><td>0.000399</td><td>0.006399</td><td>0.005177</td><td>&hellip;</td><td>0.544697</td><td>0.015153</td><td>0.005603</td><td>0.001998</td><td>0.042781</td><td>0.004387</td><td>0.006028</td><td>0.028732</td><td>0.007593</td><td>0.005193</td><td>0.108667</td><td>0.017991</td><td>0.668512</td><td>0.013977</td><td>0.087471</td><td>0.069901</td><td>0.010763</td><td>0.006376</td><td>0.030355</td><td>0.019954</td><td>0.000401</td><td>0.029951</td><td>0.092679</td><td>0.291119</td><td>0.614168</td><td>0.004386</td><td>0.006802</td><td>0.153736</td><td>0.000002</td><td>0.043533</td><td>0.014845</td><td>0.009593</td><td>0.002396</td><td>0.019538</td><td>3.1694e-7</td><td>0.007968</td><td>0.002809</td></tr><tr><td>27</td><td>[&quot;BG&quot;]</td><td>0.562113</td><td>0.573182</td><td>0.005373</td><td>0.006637</td><td>0.00215</td><td>0.289714</td><td>0.148725</td><td>0.288859</td><td>-0.000005</td><td>0.017282</td><td>0.119185</td><td>0.125938</td><td>0.005866</td><td>0.507543</td><td>0.055344</td><td>0.051059</td><td>0.012621</td><td>0.022083</td><td>0.019526</td><td>0.084635</td><td>0.002728</td><td>0.012297</td><td>0.257801</td><td>0.72968</td><td>0.053869</td><td>0.177604</td><td>0.162319</td><td>0.000298</td><td>0.014442</td><td>0.003125</td><td>0.001455</td><td>0.012278</td><td>0.003806</td><td>0.114601</td><td>0.229218</td><td>&hellip;</td><td>0.006703</td><td>0.002905</td><td>0.121248</td><td>0.05525</td><td>0.027082</td><td>0.009167</td><td>0.34177</td><td>0.012371</td><td>0.145804</td><td>0.000684</td><td>0.003818</td><td>0.025003</td><td>0.013455</td><td>0.118584</td><td>0.00068</td><td>0.001471</td><td>0.002715</td><td>0.218979</td><td>0.043147</td><td>0.109985</td><td>0.044517</td><td>0.018151</td><td>0.003129</td><td>0.001192</td><td>0.000932</td><td>0.001262</td><td>0.250029</td><td>0.00379</td><td>0.000002</td><td>0.008192</td><td>0.702975</td><td>0.310349</td><td>0.030261</td><td>0.517614</td><td>3.1694e-7</td><td>0.295212</td><td>0.054079</td></tr><tr><td>28</td><td>[&quot;WG&quot;]</td><td>0.538823</td><td>0.55095</td><td>0.071087</td><td>0.00279</td><td>0.656824</td><td>0.154481</td><td>0.150916</td><td>0.003402</td><td>0.020986</td><td>0.013515</td><td>0.001629</td><td>0.103538</td><td>0.665275</td><td>0.342393</td><td>0.048163</td><td>0.031433</td><td>0.012217</td><td>0.010453</td><td>0.000595</td><td>0.055218</td><td>0.002491</td><td>0.012479</td><td>0.213579</td><td>0.03052</td><td>0.000586</td><td>0.155896</td><td>0.358278</td><td>0.000005</td><td>0.010277</td><td>0.002645</td><td>0.004396</td><td>0.010355</td><td>0.007782</td><td>0.005883</td><td>0.001454</td><td>&hellip;</td><td>0.008581</td><td>0.005997</td><td>0.109412</td><td>0.080471</td><td>0.029118</td><td>0.000435</td><td>0.253994</td><td>0.015686</td><td>0.009255</td><td>5.3662e-7</td><td>0.128807</td><td>0.014701</td><td>0.464388</td><td>0.015269</td><td>0.002347</td><td>0.085024</td><td>0.006735</td><td>0.003804</td><td>0.04244</td><td>0.098948</td><td>0.002498</td><td>0.013652</td><td>0.001914</td><td>0.295974</td><td>0.004801</td><td>0.00293</td><td>0.005298</td><td>0.006003</td><td>0.000002</td><td>0.005866</td><td>0.599299</td><td>0.203993</td><td>0.018796</td><td>0.007311</td><td>3.1694e-7</td><td>0.011726</td><td>0.045378</td></tr><tr><td>29</td><td>[&quot;RG&quot;]</td><td>0.570317</td><td>0.580755</td><td>0.001556</td><td>0.002205</td><td>0.000819</td><td>0.155504</td><td>0.084016</td><td>0.003046</td><td>0.008323</td><td>0.024177</td><td>0.000504</td><td>0.128241</td><td>0.006869</td><td>0.471769</td><td>0.031363</td><td>0.704659</td><td>0.207914</td><td>0.323572</td><td>0.020176</td><td>0.522359</td><td>0.058217</td><td>0.007595</td><td>0.243047</td><td>0.090607</td><td>0.000407</td><td>0.111275</td><td>0.142342</td><td>0.000005</td><td>0.121468</td><td>0.02597</td><td>0.000726</td><td>0.673204</td><td>0.005389</td><td>0.007767</td><td>0.004395</td><td>&hellip;</td><td>0.607418</td><td>0.001284</td><td>0.106594</td><td>0.064195</td><td>0.014499</td><td>0.010282</td><td>0.327026</td><td>0.00561</td><td>0.014132</td><td>0.009801</td><td>0.000991</td><td>0.018801</td><td>0.005539</td><td>0.023926</td><td>0.050226</td><td>0.000497</td><td>0.001452</td><td>0.002355</td><td>0.036753</td><td>0.113008</td><td>0.000737</td><td>0.010041</td><td>0.064613</td><td>0.000593</td><td>0.112154</td><td>-0.000006</td><td>0.003279</td><td>0.200129</td><td>0.000002</td><td>0.137622</td><td>0.73489</td><td>0.317085</td><td>0.769757</td><td>0.007074</td><td>3.1694e-7</td><td>0.012556</td><td>0.043453</td></tr></tbody></table></div>"
            ]
          },
          "metadata": {},
          "execution_count": 61
        }
      ]
    },
    {
      "cell_type": "code",
      "source": [
        "kmeans_cluster_centers_pl['main_colors'].value_counts( ).sort(by='count', descending=True)"
      ],
      "metadata": {
        "colab": {
          "base_uri": "https://localhost:8080/",
          "height": 443
        },
        "id": "Lh-9cmdQf8nJ",
        "outputId": "9e74dabc-738e-4405-b180-8ec537ed8652"
      },
      "execution_count": 66,
      "outputs": [
        {
          "output_type": "execute_result",
          "data": {
            "text/plain": [
              "shape: (12, 2)\n",
              "┌─────────────┬───────┐\n",
              "│ main_colors ┆ count │\n",
              "│ ---         ┆ ---   │\n",
              "│ list[str]   ┆ u32   │\n",
              "╞═════════════╪═══════╡\n",
              "│ [\"UG\"]      ┆ 6     │\n",
              "│ [\"WR\"]      ┆ 5     │\n",
              "│ [\"WB\"]      ┆ 3     │\n",
              "│ [\"WU\"]      ┆ 3     │\n",
              "│ [\"UR\"]      ┆ 3     │\n",
              "│ …           ┆ …     │\n",
              "│ [\"URG\"]     ┆ 1     │\n",
              "│ [\"WG\"]      ┆ 1     │\n",
              "│ [\"UB\"]      ┆ 1     │\n",
              "│ [\"BRG\"]     ┆ 1     │\n",
              "│ [\"BG\"]      ┆ 1     │\n",
              "└─────────────┴───────┘"
            ],
            "text/html": [
              "<div><style>\n",
              ".dataframe > thead > tr,\n",
              ".dataframe > tbody > tr {\n",
              "  text-align: right;\n",
              "  white-space: pre-wrap;\n",
              "}\n",
              "</style>\n",
              "<small>shape: (12, 2)</small><table border=\"1\" class=\"dataframe\"><thead><tr><th>main_colors</th><th>count</th></tr><tr><td>list[str]</td><td>u32</td></tr></thead><tbody><tr><td>[&quot;UG&quot;]</td><td>6</td></tr><tr><td>[&quot;WR&quot;]</td><td>5</td></tr><tr><td>[&quot;WB&quot;]</td><td>3</td></tr><tr><td>[&quot;WU&quot;]</td><td>3</td></tr><tr><td>[&quot;UR&quot;]</td><td>3</td></tr><tr><td>&hellip;</td><td>&hellip;</td></tr><tr><td>[&quot;URG&quot;]</td><td>1</td></tr><tr><td>[&quot;WG&quot;]</td><td>1</td></tr><tr><td>[&quot;UB&quot;]</td><td>1</td></tr><tr><td>[&quot;BRG&quot;]</td><td>1</td></tr><tr><td>[&quot;BG&quot;]</td><td>1</td></tr></tbody></table></div>"
            ]
          },
          "metadata": {},
          "execution_count": 66
        }
      ]
    },
    {
      "cell_type": "code",
      "source": [],
      "metadata": {
        "id": "FUU-LtkLMOFk"
      },
      "execution_count": null,
      "outputs": []
    }
  ]
}