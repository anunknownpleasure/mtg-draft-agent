{
 "cells": [
  {
   "cell_type": "code",
   "execution_count": null,
   "metadata": {
    "colab": {
     "base_uri": "https://localhost:8080/"
    },
    "executionInfo": {
     "elapsed": 15346,
     "status": "ok",
     "timestamp": 1751490719811,
     "user": {
      "displayName": "Mario Roberto Gómez Flores",
      "userId": "17935795149935732455"
     },
     "user_tz": 240
    },
    "id": "eKg-WpZO-irw",
    "outputId": "40c6146b-4076-47e6-bede-0e7b49b52d24"
   },
   "outputs": [
    {
     "name": "stdout",
     "output_type": "stream",
     "text": [
      "Starting config...\n",
      "Running in Colab?: No\n",
      "\n",
      "base_path =  /home/mrgomez/Documents/Erdos/DL 2025/mtg-draft-agent\n",
      "\n",
      "Check if we cd'd to the right place...\n",
      "os.getcwd(): /home/mrgomez/Documents/Erdos/DL 2025/mtg-draft-agent\n",
      "\n",
      "Configuration done\n"
     ]
    }
   ],
   "source": [
    "# Configure Drive or Jupyter notebook -- only runs when first loaded\n",
    "if \"CONFIG_DONE\" not in globals():\n",
    "    # Need to mount drive and clone repo to access data and functions\n",
    "    try:\n",
    "        from google.colab import drive  # type: ignore\n",
    "\n",
    "        IN_COLAB = True\n",
    "\n",
    "        # clone repo\n",
    "        !git clone https://github.com/doctorsmylie/mtg-draft-agent\n",
    "        %cd mtg-draft-agent\n",
    "\n",
    "    except ModuleNotFoundError:\n",
    "        IN_COLAB = False\n",
    "\n",
    "    # Finish configuration -- also configures notebook outside of Colab\n",
    "    %run \"project_path.ipynb\"\n",
    "else:\n",
    "    print(\"Config done already\")"
   ]
  },
  {
   "cell_type": "code",
   "execution_count": 2,
   "metadata": {
    "executionInfo": {
     "elapsed": 588,
     "status": "ok",
     "timestamp": 1751490721245,
     "user": {
      "displayName": "Mario Roberto Gómez Flores",
      "userId": "17935795149935732455"
     },
     "user_tz": 240
    },
    "id": "oDugESiW-xy3"
   },
   "outputs": [],
   "source": [
    "import numpy as np\n",
    "import pandas as pd\n",
    "import matplotlib.pyplot as plt"
   ]
  },
  {
   "cell_type": "code",
   "execution_count": 3,
   "metadata": {
    "id": "DhpJa0bd-2k8"
   },
   "outputs": [],
   "source": [
    "# Folder containing all the data\n",
    "folder = \"/content/drive/MyDrive/Erdos25/MTGdraft\"\n",
    "\n",
    "# Expansion code\n",
    "expansion = \"DSK\""
   ]
  },
  {
   "cell_type": "code",
   "execution_count": null,
   "metadata": {},
   "outputs": [],
   "source": []
  }
 ],
 "metadata": {
  "colab": {
   "authorship_tag": "ABX9TyOPl4PZbS9vh1MYxLP9DayF",
   "provenance": []
  },
  "kernelspec": {
   "display_name": "data",
   "language": "python",
   "name": "python3"
  },
  "language_info": {
   "codemirror_mode": {
    "name": "ipython",
    "version": 3
   },
   "file_extension": ".py",
   "mimetype": "text/x-python",
   "name": "python",
   "nbconvert_exporter": "python",
   "pygments_lexer": "ipython3",
   "version": "3.11.7"
  }
 },
 "nbformat": 4,
 "nbformat_minor": 0
}
