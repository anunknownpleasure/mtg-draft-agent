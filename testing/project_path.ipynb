{
 "cells": [
  {
   "cell_type": "markdown",
   "id": "71a4e1bb",
   "metadata": {},
   "source": [
    "The code below makes relative imports work and lets me export the notebook to a .py script without changing too much code\n",
    "\n",
    "It also tests if we're running in Google Colab and mounts Google Drive if we are"
   ]
  },
  {
   "cell_type": "code",
   "execution_count": null,
   "id": "f8f94da6",
   "metadata": {},
   "outputs": [],
   "source": [
    "import os\n",
    "\n",
    "# Only run if we haven't configured the notebook yet\n",
    "if \"CONFIG_DONE\" not in globals():\n",
    "    print(\"Starting config...\")\n",
    "\n",
    "    # Test if running in Google Colab\n",
    "    print('Running in Colab?: ', end='')\n",
    "    try:\n",
    "        from google.colab import drive # type: ignore\n",
    "        IN_COLAB = True\n",
    "\n",
    "        print('Yes')\n",
    "        print('Mounting Drive...')\n",
    "        drive.mount('/content/drive')\n",
    "    \n",
    "    except:\n",
    "        print('No')\n",
    "        IN_COLAB = False\n",
    "    print()\n",
    "    \n",
    "    # cd to project's root\n",
    "    depth = 1\n",
    "    base_path = os.path.abspath(os.path.join(\"..\"))\n",
    "    os.chdir(base_path)\n",
    "    print('base_path = ', base_path)\n",
    "    print()\n",
    "    \n",
    "    print('Check if we cd\\'d to the right place...')\n",
    "    print('os.getcwd():', os.getcwd())\n",
    "    print()\n",
    "\n",
    "    # To reload modified python modules\n",
    "    %load_ext autoreload\n",
    "    %autoreload 2\n",
    "\n",
    "    CONFIG_DONE = True\n",
    "else:\n",
    "    print(\"Already configured\")\n",
    "\n",
    "print(\"Configuration done\")"
   ]
  }
 ],
 "metadata": {
  "language_info": {
   "name": "python"
  }
 },
 "nbformat": 4,
 "nbformat_minor": 5
}
