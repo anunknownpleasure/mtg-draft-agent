{
  "nbformat": 4,
  "nbformat_minor": 0,
  "metadata": {
    "colab": {
      "provenance": [],
      "include_colab_link": true
    },
    "kernelspec": {
      "name": "python3",
      "display_name": "Python 3"
    },
    "language_info": {
      "name": "python"
    }
  },
  "cells": [
    {
      "cell_type": "markdown",
      "metadata": {
        "id": "view-in-github",
        "colab_type": "text"
      },
      "source": [
        "<a href=\"https://colab.research.google.com/github/doctorsmylie/mtg-draft-agent/blob/main/scrape/scryfall_scrape_polars.ipynb\" target=\"_parent\"><img src=\"https://colab.research.google.com/assets/colab-badge.svg\" alt=\"Open In Colab\"/></a>"
      ]
    },
    {
      "cell_type": "code",
      "execution_count": 1,
      "metadata": {
        "colab": {
          "base_uri": "https://localhost:8080/"
        },
        "id": "ajgWUgpYf1mM",
        "outputId": "b32cda40-4d77-4141-9402-0e7d46fae0d1"
      },
      "outputs": [
        {
          "output_type": "stream",
          "name": "stdout",
          "text": [
            "Mounted at /content/drive\n"
          ]
        }
      ],
      "source": [
        "# prompt: link with drive\n",
        "\n",
        "from google.colab import drive\n",
        "drive.mount('/content/drive')"
      ]
    },
    {
      "cell_type": "code",
      "source": [
        "import zipfile\n",
        "import pandas as pd\n",
        "import numpy as np\n",
        "import polars as pl\n",
        "import matplotlib.pyplot as plt\n",
        "\n",
        "# For managing paths\n",
        "import pathlib"
      ],
      "metadata": {
        "id": "2Fkf7VcRhhsz"
      },
      "execution_count": 2,
      "outputs": []
    },
    {
      "cell_type": "markdown",
      "source": [
        "###*Loading* data"
      ],
      "metadata": {
        "id": "452_s6l8Mubv"
      }
    },
    {
      "cell_type": "code",
      "source": [
        "# Folder containing all the data\n",
        "folder='/content/drive/MyDrive/Erdos25/MTGdraft'\n",
        "\n",
        "# Expansion code\n",
        "expansion = 'DSK'\n",
        "scryfall_foldername='Scryfall-data'\n"
      ],
      "metadata": {
        "id": "g_Dh9CPpU6MY"
      },
      "execution_count": 3,
      "outputs": []
    },
    {
      "cell_type": "code",
      "source": [
        "# # load ALL Scryfall data\n",
        "# scryfall_filename='default-cards-20250703091029.json'\n",
        "# scryfall_file = pathlib.Path(folder, scryfall_foldername, scryfall_filename)\n",
        "# all_scryfall_data_df=pd.read_json(scryfall_file)"
      ],
      "metadata": {
        "id": "uHAdmH7dsF3a"
      },
      "execution_count": 11,
      "outputs": []
    },
    {
      "cell_type": "code",
      "source": [
        "# #  Save to parquet all cards released after february 2021\n",
        "# filtered_scryfall_data = all_scryfall_data_df[all_scryfall_data_df['released_at'] > '2021-02-01']\n",
        "# saved_filename = 'scryfall_cards_after_feb_2021.parquet'\n",
        "# saved_filepath = pathlib.Path(folder, scryfall_foldername, saved_filename)\n",
        "# filtered_scryfall_data.to_parquet(saved_filepath)"
      ],
      "metadata": {
        "id": "UcUs4eIE2cSR"
      },
      "execution_count": 20,
      "outputs": []
    },
    {
      "cell_type": "code",
      "source": [
        "# all_scryfall_data_df.dtypes.to_frame('dtypes').T"
      ],
      "metadata": {
        "colab": {
          "base_uri": "https://localhost:8080/",
          "height": 130
        },
        "id": "JON_1DIV383T",
        "outputId": "c8550633-aed5-4857-eb89-434641faed46"
      },
      "execution_count": 19,
      "outputs": [
        {
          "output_type": "execute_result",
          "data": {
            "text/plain": [
              "        object      id oracle_id multiverse_ids  mtgo_id arena_id  \\\n",
              "dtypes  object  object    object         object  float64  float64   \n",
              "\n",
              "       tcgplayer_id cardmarket_id    name    lang  ... flavor_name  \\\n",
              "dtypes      float64       float64  object  object  ...      object   \n",
              "\n",
              "       attraction_lights color_indicator printed_type_line printed_text  \\\n",
              "dtypes            object          object            object       object   \n",
              "\n",
              "       variation_of life_modifier hand_modifier content_warning  defense  \n",
              "dtypes       object       float64       float64         float64  float64  \n",
              "\n",
              "[1 rows x 87 columns]"
            ],
            "text/html": [
              "\n",
              "  <div id=\"df-4080df80-353e-42b6-ba5b-fe02dc539f88\" class=\"colab-df-container\">\n",
              "    <div>\n",
              "<style scoped>\n",
              "    .dataframe tbody tr th:only-of-type {\n",
              "        vertical-align: middle;\n",
              "    }\n",
              "\n",
              "    .dataframe tbody tr th {\n",
              "        vertical-align: top;\n",
              "    }\n",
              "\n",
              "    .dataframe thead th {\n",
              "        text-align: right;\n",
              "    }\n",
              "</style>\n",
              "<table border=\"1\" class=\"dataframe\">\n",
              "  <thead>\n",
              "    <tr style=\"text-align: right;\">\n",
              "      <th></th>\n",
              "      <th>object</th>\n",
              "      <th>id</th>\n",
              "      <th>oracle_id</th>\n",
              "      <th>multiverse_ids</th>\n",
              "      <th>mtgo_id</th>\n",
              "      <th>arena_id</th>\n",
              "      <th>tcgplayer_id</th>\n",
              "      <th>cardmarket_id</th>\n",
              "      <th>name</th>\n",
              "      <th>lang</th>\n",
              "      <th>...</th>\n",
              "      <th>flavor_name</th>\n",
              "      <th>attraction_lights</th>\n",
              "      <th>color_indicator</th>\n",
              "      <th>printed_type_line</th>\n",
              "      <th>printed_text</th>\n",
              "      <th>variation_of</th>\n",
              "      <th>life_modifier</th>\n",
              "      <th>hand_modifier</th>\n",
              "      <th>content_warning</th>\n",
              "      <th>defense</th>\n",
              "    </tr>\n",
              "  </thead>\n",
              "  <tbody>\n",
              "    <tr>\n",
              "      <th>dtypes</th>\n",
              "      <td>object</td>\n",
              "      <td>object</td>\n",
              "      <td>object</td>\n",
              "      <td>object</td>\n",
              "      <td>float64</td>\n",
              "      <td>float64</td>\n",
              "      <td>float64</td>\n",
              "      <td>float64</td>\n",
              "      <td>object</td>\n",
              "      <td>object</td>\n",
              "      <td>...</td>\n",
              "      <td>object</td>\n",
              "      <td>object</td>\n",
              "      <td>object</td>\n",
              "      <td>object</td>\n",
              "      <td>object</td>\n",
              "      <td>object</td>\n",
              "      <td>float64</td>\n",
              "      <td>float64</td>\n",
              "      <td>float64</td>\n",
              "      <td>float64</td>\n",
              "    </tr>\n",
              "  </tbody>\n",
              "</table>\n",
              "<p>1 rows × 87 columns</p>\n",
              "</div>\n",
              "    <div class=\"colab-df-buttons\">\n",
              "\n",
              "  <div class=\"colab-df-container\">\n",
              "    <button class=\"colab-df-convert\" onclick=\"convertToInteractive('df-4080df80-353e-42b6-ba5b-fe02dc539f88')\"\n",
              "            title=\"Convert this dataframe to an interactive table.\"\n",
              "            style=\"display:none;\">\n",
              "\n",
              "  <svg xmlns=\"http://www.w3.org/2000/svg\" height=\"24px\" viewBox=\"0 -960 960 960\">\n",
              "    <path d=\"M120-120v-720h720v720H120Zm60-500h600v-160H180v160Zm220 220h160v-160H400v160Zm0 220h160v-160H400v160ZM180-400h160v-160H180v160Zm440 0h160v-160H620v160ZM180-180h160v-160H180v160Zm440 0h160v-160H620v160Z\"/>\n",
              "  </svg>\n",
              "    </button>\n",
              "\n",
              "  <style>\n",
              "    .colab-df-container {\n",
              "      display:flex;\n",
              "      gap: 12px;\n",
              "    }\n",
              "\n",
              "    .colab-df-convert {\n",
              "      background-color: #E8F0FE;\n",
              "      border: none;\n",
              "      border-radius: 50%;\n",
              "      cursor: pointer;\n",
              "      display: none;\n",
              "      fill: #1967D2;\n",
              "      height: 32px;\n",
              "      padding: 0 0 0 0;\n",
              "      width: 32px;\n",
              "    }\n",
              "\n",
              "    .colab-df-convert:hover {\n",
              "      background-color: #E2EBFA;\n",
              "      box-shadow: 0px 1px 2px rgba(60, 64, 67, 0.3), 0px 1px 3px 1px rgba(60, 64, 67, 0.15);\n",
              "      fill: #174EA6;\n",
              "    }\n",
              "\n",
              "    .colab-df-buttons div {\n",
              "      margin-bottom: 4px;\n",
              "    }\n",
              "\n",
              "    [theme=dark] .colab-df-convert {\n",
              "      background-color: #3B4455;\n",
              "      fill: #D2E3FC;\n",
              "    }\n",
              "\n",
              "    [theme=dark] .colab-df-convert:hover {\n",
              "      background-color: #434B5C;\n",
              "      box-shadow: 0px 1px 3px 1px rgba(0, 0, 0, 0.15);\n",
              "      filter: drop-shadow(0px 1px 2px rgba(0, 0, 0, 0.3));\n",
              "      fill: #FFFFFF;\n",
              "    }\n",
              "  </style>\n",
              "\n",
              "    <script>\n",
              "      const buttonEl =\n",
              "        document.querySelector('#df-4080df80-353e-42b6-ba5b-fe02dc539f88 button.colab-df-convert');\n",
              "      buttonEl.style.display =\n",
              "        google.colab.kernel.accessAllowed ? 'block' : 'none';\n",
              "\n",
              "      async function convertToInteractive(key) {\n",
              "        const element = document.querySelector('#df-4080df80-353e-42b6-ba5b-fe02dc539f88');\n",
              "        const dataTable =\n",
              "          await google.colab.kernel.invokeFunction('convertToInteractive',\n",
              "                                                    [key], {});\n",
              "        if (!dataTable) return;\n",
              "\n",
              "        const docLinkHtml = 'Like what you see? Visit the ' +\n",
              "          '<a target=\"_blank\" href=https://colab.research.google.com/notebooks/data_table.ipynb>data table notebook</a>'\n",
              "          + ' to learn more about interactive tables.';\n",
              "        element.innerHTML = '';\n",
              "        dataTable['output_type'] = 'display_data';\n",
              "        await google.colab.output.renderOutput(dataTable, element);\n",
              "        const docLink = document.createElement('div');\n",
              "        docLink.innerHTML = docLinkHtml;\n",
              "        element.appendChild(docLink);\n",
              "      }\n",
              "    </script>\n",
              "  </div>\n",
              "\n",
              "\n",
              "    </div>\n",
              "  </div>\n"
            ],
            "application/vnd.google.colaboratory.intrinsic+json": {
              "type": "dataframe"
            }
          },
          "metadata": {},
          "execution_count": 19
        }
      ]
    },
    {
      "cell_type": "code",
      "source": [
        "# load Scryfall data after 2021\n",
        "scryfall_filename='scryfall_cards_after_feb_2021.parquet'\n",
        "scryfall_file = pathlib.Path(folder, scryfall_foldername, scryfall_filename)\n",
        "scryfall_data=pl.read_parquet(scryfall_file)\n"
      ],
      "metadata": {
        "id": "Av--LSEb33hX"
      },
      "execution_count": 22,
      "outputs": []
    },
    {
      "cell_type": "code",
      "source": [
        "col_num_series =scryfall_data.with_columns(\n",
        "    pl.col('collector_number').cast(pl.Int16, strict=False)\n",
        ")\n",
        "col_num_series['collector_number']"
      ],
      "metadata": {
        "colab": {
          "base_uri": "https://localhost:8080/",
          "height": 443
        },
        "id": "mau_bzep7RTB",
        "outputId": "da7c94ab-077c-468a-b13e-76a10c5e6d44"
      },
      "execution_count": 33,
      "outputs": [
        {
          "output_type": "execute_result",
          "data": {
            "text/plain": [
              "shape: (48_743,)\n",
              "Series: 'collector_number' [i16]\n",
              "[\n",
              "\t280\n",
              "\tnull\n",
              "\t57\n",
              "\t63\n",
              "\t18\n",
              "\t…\n",
              "\t12\n",
              "\t91\n",
              "\t121\n",
              "\t14\n",
              "\t137\n",
              "]"
            ],
            "text/html": [
              "<div><style>\n",
              ".dataframe > thead > tr,\n",
              ".dataframe > tbody > tr {\n",
              "  text-align: right;\n",
              "  white-space: pre-wrap;\n",
              "}\n",
              "</style>\n",
              "<small>shape: (48_743,)</small><table border=\"1\" class=\"dataframe\"><thead><tr><th>collector_number</th></tr><tr><td>i16</td></tr></thead><tbody><tr><td>280</td></tr><tr><td>null</td></tr><tr><td>57</td></tr><tr><td>63</td></tr><tr><td>18</td></tr><tr><td>&hellip;</td></tr><tr><td>12</td></tr><tr><td>91</td></tr><tr><td>121</td></tr><tr><td>14</td></tr><tr><td>137</td></tr></tbody></table></div>"
            ]
          },
          "metadata": {},
          "execution_count": 33
        }
      ]
    },
    {
      "cell_type": "code",
      "source": [
        "from sre_constants import error\n",
        "# prompt: filter the scryfall_data of a given set\n",
        "def filter_base_set(scryfall_data, set_code):\n",
        "  \"\"\"\n",
        "  Filters the scryfall_data DataFrame to only include cards from a given set.\n",
        "  Args:\n",
        "    scryfall_data: The pandas DataFrame containing the scryfall data.\n",
        "    set_code: The 3-letter set code (e.g., 'woe').\n",
        "  Returns:\n",
        "    A polars DataFrame containing cards from the specified set.\n",
        "  \"\"\"\n",
        "  set_code= set_code.lower()\n",
        "  basic_land_names= ['Plains','Island','Swamp','Mountain','Forest']\n",
        "  filtered_with_basic_lands = scryfall_data.filter(\n",
        "    pl.col('set') == set_code)\n",
        "  # Check if filtered_df1 is empty before accessing released_at\n",
        "  if filtered_with_basic_lands.shape[0] == 0:\n",
        "      print(f\"No cards found for set code '{set_code}'.\")\n",
        "      return pl.DataFrame() # Return empty DataFrame if no cards in the main set\n",
        "  #change 'collector_number' type to int\n",
        "\n",
        "  filtered_with_basic_lands = filtered_with_basic_lands.with_columns(\n",
        "    pl.col('collector_number').cast(pl.Int16, strict=False)\n",
        "  )\n",
        "  filtered_with_basic_lands = filtered_with_basic_lands.sort('collector_number')\n",
        "  first_land_collector_number = filtered_with_basic_lands.filter(\n",
        "      pl.col('name') == pl.lit(basic_land_names[0])\n",
        "  ).select('collector_number').item(0,0)\n",
        "  filtered_without_basic_lands = filtered_with_basic_lands.filter(\n",
        "      pl.col('collector_number') < first_land_collector_number\n",
        "  )\n",
        "  #make 'name' the first column\n",
        "  filtered_without_basic_lands = filtered_without_basic_lands.select(\n",
        "      pl.col('name').first().alias('name'),\n",
        "      pl.exclude('name')\n",
        "  )\n",
        "\n",
        "  return filtered_without_basic_lands\n",
        "\n",
        "def filter_extra_set(scryfall_data, set_code, date=None):\n",
        "  \"\"\"\n",
        "  Filters the scryfall_data DataFrame to only include cards from a given set.\n",
        "  Args:\n",
        "    scryfall_data: The pandas DataFrame containing the scryfall data.\n",
        "    set_code (of the extra set): The 3-letter set code (e.g., 'woe').\n",
        "  Returns:\n",
        "    A polars DataFrame containing cards from the specified set.\n",
        "  \"\"\"\n",
        "  set_code= set_code.lower()\n",
        "  filtered_data = scryfall_data.filter(pl.col('set') == set_code)\n",
        "  if date != None:\n",
        "    filtered_data = filtered_data.filter(pl.col('released_at') == date)\n",
        "  filtered_data = filtered_data.with_columns(\n",
        "    pl.col('collector_number').cast(pl.Int16, strict=False)\n",
        "  )\n",
        "  filtered_data = filtered_data.sort('collector_number')\n",
        "  unique_name_data = filtered_data.group_by('name').first()\n",
        "  unique_name_data = unique_name_data.sort('collector_number')\n",
        "\n",
        "  return unique_name_data\n",
        "\n",
        "\n",
        "def filter_set(scryfall_data, set_code):\n",
        "  \"\"\"\n",
        "  Filters the scryfall_data DataFrame to only include cards from a given set\n",
        "  and 'spg' (Special Guests) cards released on the same date.\n",
        "\n",
        "  Args:\n",
        "    scryfall_data: The pandas DataFrame containing the scryfall data.\n",
        "    set_code: The 3-letter set code (e.g., 'woe').\n",
        "\n",
        "  Returns:\n",
        "    A polars DataFrame containing cards from the specified set and\n",
        "    relevant 'spg' cards.\n",
        "  \"\"\"\n",
        "  set_code= set_code.lower()\n",
        "  release_date= scryfall_data.filter( pl.col('set') == set_code).select('released_at').item(0,0)\n",
        "  set_type_list=['masterpiece','expansion']\n",
        "  extra_sets_list = scryfall_data.filter(\n",
        "    (pl.col('released_at') == release_date) & (pl.col('set_type').is_in(set_type_list)) & (pl.col('set') != set_code)\n",
        "  ).get_column('set').unique()\n",
        "  df_list=[]\n",
        "  df_list.append(filter_base_set(scryfall_data, set_code))\n",
        "  for extra_set in extra_sets_list:\n",
        "    df_list.append(filter_extra_set(scryfall_data, extra_set, date=release_date))\n",
        "  return pl.concat(df_list)\n",
        "\n",
        "# Example usage:\n",
        "# Replace 'DSK' with the desired set code\n",
        "filtered_data = filter_set(scryfall_data, 'woe')\n",
        "print(filtered_data.head())\n",
        "print(filtered_data.shape)"
      ],
      "metadata": {
        "colab": {
          "base_uri": "https://localhost:8080/"
        },
        "id": "IWkC-vRW7vUZ",
        "outputId": "1d3469d7-9549-4e6d-a5fe-f5203084bb69"
      },
      "execution_count": 105,
      "outputs": [
        {
          "output_type": "stream",
          "name": "stdout",
          "text": [
            "shape: (5, 88)\n",
            "┌────────────┬────────┬────────────┬────────────┬───┬────────────┬───────────┬─────────┬───────────┐\n",
            "│ name       ┆ object ┆ id         ┆ oracle_id  ┆ … ┆ hand_modif ┆ content_w ┆ defense ┆ __index_l │\n",
            "│ ---        ┆ ---    ┆ ---        ┆ ---        ┆   ┆ ier        ┆ arning    ┆ ---     ┆ evel_0__  │\n",
            "│ str        ┆ str    ┆ str        ┆ str        ┆   ┆ ---        ┆ ---       ┆ f64     ┆ ---       │\n",
            "│            ┆        ┆            ┆            ┆   ┆ f64        ┆ f64       ┆         ┆ i64       │\n",
            "╞════════════╪════════╪════════════╪════════════╪═══╪════════════╪═══════════╪═════════╪═══════════╡\n",
            "│ Archon of  ┆ card   ┆ 00174be7-0 ┆ 180efbd4-0 ┆ … ┆ null       ┆ null      ┆ null    ┆ 59        │\n",
            "│ the Wild   ┆        ┆ dc8-43b9-8 ┆ f77-41cc-8 ┆   ┆            ┆           ┆         ┆           │\n",
            "│ Rose       ┆        ┆ 1b6-f25a8c ┆ ae2-2e6ccf ┆   ┆            ┆           ┆         ┆           │\n",
            "│            ┆        ┆ …          ┆ …          ┆   ┆            ┆           ┆         ┆           │\n",
            "│ Archon of  ┆ card   ┆ e71768e7-4 ┆ bc5631ae-4 ┆ … ┆ null       ┆ null      ┆ null    ┆ 97385     │\n",
            "│ the Wild   ┆        ┆ ef7-4fb2-8 ┆ 94e-4987-8 ┆   ┆            ┆           ┆         ┆           │\n",
            "│ Rose       ┆        ┆ 38b-eb3a7f ┆ d17-57674b ┆   ┆            ┆           ┆         ┆           │\n",
            "│            ┆        ┆ …          ┆ …          ┆   ┆            ┆           ┆         ┆           │\n",
            "│ Archon of  ┆ card   ┆ 4b041949-6 ┆ 68f7d1bf-4 ┆ … ┆ null       ┆ null      ┆ null    ┆ 31589     │\n",
            "│ the Wild   ┆        ┆ fb6-40a6-9 ┆ 8c7-483e-b ┆   ┆            ┆           ┆         ┆           │\n",
            "│ Rose       ┆        ┆ 329-f209be ┆ 17f-a60008 ┆   ┆            ┆           ┆         ┆           │\n",
            "│            ┆        ┆ …          ┆ …          ┆   ┆            ┆           ┆         ┆           │\n",
            "│ Archon of  ┆ card   ┆ 5980a930-c ┆ c7b6d2cd-9 ┆ … ┆ null       ┆ null      ┆ null    ┆ 37697     │\n",
            "│ the Wild   ┆        ┆ 7f8-45e1-a ┆ 105-404b-8 ┆   ┆            ┆           ┆         ┆           │\n",
            "│ Rose       ┆        ┆ 18a-87734d ┆ 8f0-a67037 ┆   ┆            ┆           ┆         ┆           │\n",
            "│            ┆        ┆ …          ┆ …          ┆   ┆            ┆           ┆         ┆           │\n",
            "│ Archon of  ┆ card   ┆ f7094fc0-1 ┆ b9d51e07-8 ┆ … ┆ null       ┆ null      ┆ null    ┆ 104048    │\n",
            "│ the Wild   ┆        ┆ d26-429c-9 ┆ 51f-4b7b-b ┆   ┆            ┆           ┆         ┆           │\n",
            "│ Rose       ┆        ┆ b49-37718c ┆ ffe-7c1eff ┆   ┆            ┆           ┆         ┆           │\n",
            "│            ┆        ┆ …          ┆ …          ┆   ┆            ┆           ┆         ┆           │\n",
            "└────────────┴────────┴────────────┴────────────┴───┴────────────┴───────────┴─────────┴───────────┘\n",
            "(324, 88)\n"
          ]
        }
      ]
    },
    {
      "cell_type": "markdown",
      "source": [
        "###SAVE PARQUETS WITH NEW EXPANSIONS"
      ],
      "metadata": {
        "id": "O3NYJ8vxEaHc"
      }
    },
    {
      "cell_type": "code",
      "source": [
        "expansion_list=['woe','lci','mkm','otj','blb','dsk','dft','tdm','fin']\n",
        "df_dict={\n",
        "    expansion: filter_set(scryfall_data, expansion) for expansion in expansion_list\n",
        "}"
      ],
      "metadata": {
        "id": "u2xkxAAu-jKN"
      },
      "execution_count": 108,
      "outputs": []
    },
    {
      "cell_type": "code",
      "source": [
        "#save parquets\n",
        "output_dir = pathlib.Path(folder, scryfall_foldername,'card-sets')\n",
        "# Create the directory if it doesn't exist\n",
        "if not output_dir.exists():\n",
        "    os.makedirs(output_dir)\n",
        "    print(f\"Created directory: {output_dir}\")\n",
        "\n",
        "for expansion, df in df_dict.items():\n",
        "  output_filename = pathlib.Path(output_dir, f'{expansion}_cards.parquet')\n",
        "  df.write_parquet(output_filename)\n",
        "  print(f\"Saved {expansion} data to {output_filename}\")"
      ],
      "metadata": {
        "colab": {
          "base_uri": "https://localhost:8080/"
        },
        "id": "cQ7X48Kc-jIq",
        "outputId": "c0d5e45a-066f-49b0-cfee-360677fee7d7"
      },
      "execution_count": 109,
      "outputs": [
        {
          "output_type": "stream",
          "name": "stdout",
          "text": [
            "Saved woe data to /content/drive/MyDrive/Erdos25/MTGdraft/Scryfall-data/card-sets/woe_cards.parquet\n",
            "Saved lci data to /content/drive/MyDrive/Erdos25/MTGdraft/Scryfall-data/card-sets/lci_cards.parquet\n",
            "Saved mkm data to /content/drive/MyDrive/Erdos25/MTGdraft/Scryfall-data/card-sets/mkm_cards.parquet\n",
            "Saved otj data to /content/drive/MyDrive/Erdos25/MTGdraft/Scryfall-data/card-sets/otj_cards.parquet\n",
            "Saved blb data to /content/drive/MyDrive/Erdos25/MTGdraft/Scryfall-data/card-sets/blb_cards.parquet\n",
            "Saved dsk data to /content/drive/MyDrive/Erdos25/MTGdraft/Scryfall-data/card-sets/dsk_cards.parquet\n",
            "Saved dft data to /content/drive/MyDrive/Erdos25/MTGdraft/Scryfall-data/card-sets/dft_cards.parquet\n",
            "Saved tdm data to /content/drive/MyDrive/Erdos25/MTGdraft/Scryfall-data/card-sets/tdm_cards.parquet\n",
            "Saved fin data to /content/drive/MyDrive/Erdos25/MTGdraft/Scryfall-data/card-sets/fin_cards.parquet\n"
          ]
        }
      ]
    }
  ]
}