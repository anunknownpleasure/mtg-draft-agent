{
  "nbformat": 4,
  "nbformat_minor": 0,
  "metadata": {
    "colab": {
      "provenance": [],
      "authorship_tag": "ABX9TyNsTixObWyHhVH9RLgzw/iv",
      "include_colab_link": true
    },
    "kernelspec": {
      "name": "python3",
      "display_name": "Python 3"
    },
    "language_info": {
      "name": "python"
    }
  },
  "cells": [
    {
      "cell_type": "markdown",
      "metadata": {
        "id": "view-in-github",
        "colab_type": "text"
      },
      "source": [
        "<a href=\"https://colab.research.google.com/github/doctorsmylie/mtg-draft-agent/blob/main/spells/17landsdataimport.ipynb\" target=\"_parent\"><img src=\"https://colab.research.google.com/assets/colab-badge.svg\" alt=\"Open In Colab\"/></a>"
      ]
    },
    {
      "cell_type": "code",
      "source": [
        "# Configure Drive or Jupyter notebook -- only runs when first loaded\n",
        "if \"CONFIG_DONE\" not in globals():\n",
        "    # Need to mount drive and clone repo to access data and functions\n",
        "    try:\n",
        "        from google.colab import drive  # type: ignore\n",
        "\n",
        "        IN_COLAB = True\n",
        "\n",
        "        # clone repo\n",
        "        !git clone https://github.com/doctorsmylie/mtg-draft-agent\n",
        "        %cd mtg-draft-agent\n",
        "\n",
        "    except ModuleNotFoundError:\n",
        "        IN_COLAB = False\n",
        "\n",
        "    # Finish configuration -- also configures notebook outside of Colab\n",
        "    %run \"project_path_mod.ipynb\"\n",
        "else:\n",
        "    print(\"Config done already\")"
      ],
      "metadata": {
        "colab": {
          "base_uri": "https://localhost:8080/"
        },
        "outputId": "5a130bbe-d1cb-46cd-9933-1379db6eabc5",
        "id": "DH1CUTyHz-CX"
      },
      "execution_count": null,
      "outputs": [
        {
          "output_type": "stream",
          "name": "stdout",
          "text": [
            "Cloning into 'mtg-draft-agent'...\n",
            "remote: Enumerating objects: 59, done.\u001b[K\n",
            "remote: Counting objects: 100% (59/59), done.\u001b[K\n",
            "remote: Compressing objects: 100% (41/41), done.\u001b[K\n",
            "remote: Total 59 (delta 21), reused 34 (delta 14), pack-reused 0 (from 0)\u001b[K\n",
            "Receiving objects: 100% (59/59), 144.14 KiB | 1.85 MiB/s, done.\n",
            "Resolving deltas: 100% (21/21), done.\n",
            "/content/mtg-draft-agent\n",
            "Starting config...\n",
            "Running in Colab? Yes\n",
            "\n",
            "Configuring Google Colab...\n",
            "Mounting Drive...\n"
          ]
        },
        {
          "output_type": "stream",
          "name": "stderr",
          "text": [
            "/usr/local/lib/python3.11/dist-packages/nbformat/__init__.py:96: MissingIDFieldWarning: Cell is missing an id field, this will become a hard error in future nbformat versions. You may want to use `normalize()` on your notebooks before validations (available since nbformat 5.1.4). Previous versions of nbformat are fixing this issue transparently, and will stop doing so in the future.\n",
            "  validate(nb)\n"
          ]
        },
        {
          "output_type": "stream",
          "name": "stdout",
          "text": [
            "Mounted at /content/mtg-draft-agent/drive\n",
            "BASE_PATH =  /content/mtg-draft-agent\n",
            "DATA_FOLDER = /content/mtg-draft-agent/drive/MyDrive/Erdos25/MTGdraft\n",
            "BASE_PATH == os.getcwd(): True\n",
            "\n",
            "Configuration done\n"
          ]
        }
      ]
    },
    {
      "cell_type": "code",
      "execution_count": null,
      "metadata": {
        "colab": {
          "base_uri": "https://localhost:8080/"
        },
        "outputId": "87933406-d2a2-427f-c684-2e9a92b646fa",
        "id": "Uq6ERfT1z-CZ"
      },
      "outputs": [
        {
          "output_type": "stream",
          "name": "stdout",
          "text": [
            "Requirement already satisfied: spells-mtg in /usr/local/lib/python3.11/dist-packages (0.11.6)\n",
            "Requirement already satisfied: polars>=1.14.0 in /usr/local/lib/python3.11/dist-packages (from spells-mtg) (1.21.0)\n",
            "Requirement already satisfied: wget>=3.2 in /usr/local/lib/python3.11/dist-packages (from spells-mtg) (3.2)\n"
          ]
        }
      ],
      "source": [
        "%pip install spells-mtg\n",
        "import spells\n",
        "import shutil\n",
        "import pathlib\n",
        "import os\n",
        "import pandas as pd"
      ]
    },
    {
      "cell_type": "code",
      "source": [
        "expansion = 'DSK'\n",
        "root_directory =  pathlib.Path('/root/.local/share/spells/external',expansion)\n",
        "drive_directory = pathlib.Path(DATA_FOLDER,'spells_data',expansion)"
      ],
      "metadata": {
        "id": "pL3PfUApz-CZ"
      },
      "execution_count": null,
      "outputs": []
    },
    {
      "cell_type": "code",
      "source": [
        "#Copy Spells data to the root folder\n",
        "source_directory = drive_directory\n",
        "destination_directory = root_directory\n",
        "try:\n",
        "    shutil.copytree(source_directory, destination_directory)\n",
        "    print(f\"Directory '{source_directory}' copied successfully to '{destination_directory}'.\")\n",
        "except FileExistsError:\n",
        "    print(f\"Error: Destination directory '{destination_directory}' already exists.\")\n",
        "except Exception as e:\n",
        "    print(f\"An error occurred: {e}\")\n",
        "\n",
        "##Alternatively use command\n",
        "#!spells add {expansion}"
      ],
      "metadata": {
        "colab": {
          "base_uri": "https://localhost:8080/"
        },
        "outputId": "fffaf571-2300-46e1-d338-269b447b6542",
        "id": "26dvsC9cz-CZ"
      },
      "execution_count": null,
      "outputs": [
        {
          "output_type": "stream",
          "name": "stdout",
          "text": [
            "Directory '/content/mtg-draft-agent/drive/MyDrive/Erdos25/MTGdraft/spells_data/DSK' copied successfully to '/root/.local/share/spells/external/DSK'.\n"
          ]
        }
      ]
    },
    {
      "cell_type": "code",
      "source": [
        "card_data_df=spells.summon(expansion)"
      ],
      "metadata": {
        "colab": {
          "base_uri": "https://localhost:8080/",
          "height": 443
        },
        "id": "atYnVVnpy-RD",
        "outputId": "c0a01e5a-6684-4fb1-903a-942f7d660fc0"
      },
      "execution_count": null,
      "outputs": [
        {
          "output_type": "execute_result",
          "data": {
            "text/plain": [
              "shape: (286, 14)\n",
              "┌───────────────────────┬───────┬──────────┬──────────┬───┬────────┬──────────┬─────────┬──────────┐\n",
              "│ name                  ┆ color ┆ rarity   ┆ num_seen ┆ … ┆ num_oh ┆ oh_wr    ┆ num_gih ┆ gih_wr   │\n",
              "│ ---                   ┆ ---   ┆ ---      ┆ ---      ┆   ┆ ---    ┆ ---      ┆ ---     ┆ ---      │\n",
              "│ str                   ┆ str   ┆ str      ┆ i64      ┆   ┆ i64    ┆ f64      ┆ i64     ┆ f64      │\n",
              "╞═══════════════════════╪═══════╪══════════╪══════════╪═══╪════════╪══════════╪═════════╪══════════╡\n",
              "│ Abandoned Campground  ┆       ┆ common   ┆ 178750   ┆ … ┆ 21350  ┆ 0.559672 ┆ 49376   ┆ 0.547594 │\n",
              "│ Abhorrent Oculus      ┆ U     ┆ mythic   ┆ 6676     ┆ … ┆ 4255   ┆ 0.564042 ┆ 11287   ┆ 0.593337 │\n",
              "│ Acrobatic Cheerleader ┆ W     ┆ common   ┆ 308475   ┆ … ┆ 34177  ┆ 0.541709 ┆ 74443   ┆ 0.532152 │\n",
              "│ Altanak, the          ┆ G     ┆ uncommon ┆ 76981    ┆ … ┆ 13393  ┆ 0.513925 ┆ 34525   ┆ 0.539175 │\n",
              "│ Thrice-Called         ┆       ┆          ┆          ┆   ┆        ┆          ┆         ┆          │\n",
              "│ Anthropede            ┆ G     ┆ common   ┆ 365380   ┆ … ┆ 8075   ┆ 0.479876 ┆ 20189   ┆ 0.502353 │\n",
              "│ …                     ┆ …     ┆ …        ┆ …        ┆ … ┆ …      ┆ …        ┆ …       ┆ …        │\n",
              "│ Wildfire Wickerfolk   ┆ GR    ┆ uncommon ┆ 98040    ┆ … ┆ 18654  ┆ 0.592366 ┆ 42251   ┆ 0.588696 │\n",
              "│ Winter's Intervention ┆ B     ┆ common   ┆ 318565   ┆ … ┆ 27552  ┆ 0.537638 ┆ 66921   ┆ 0.548453 │\n",
              "│ Winter, Misanthropic  ┆ BGR   ┆ rare     ┆ 52091    ┆ … ┆ 1261   ┆ 0.462331 ┆ 3183    ┆ 0.479422 │\n",
              "│ Guide                 ┆       ┆          ┆          ┆   ┆        ┆          ┆         ┆          │\n",
              "│ Withering Torment     ┆ B     ┆ uncommon ┆ 76237    ┆ … ┆ 15901  ┆ 0.511729 ┆ 39323   ┆ 0.542024 │\n",
              "│ Zimone,               ┆ GU    ┆ rare     ┆ 20450    ┆ … ┆ 9510   ┆ 0.654574 ┆ 23576   ┆ 0.616686 │\n",
              "│ All-Questioning       ┆       ┆          ┆          ┆   ┆        ┆          ┆         ┆          │\n",
              "└───────────────────────┴───────┴──────────┴──────────┴───┴────────┴──────────┴─────────┴──────────┘"
            ],
            "text/html": [
              "<div><style>\n",
              ".dataframe > thead > tr,\n",
              ".dataframe > tbody > tr {\n",
              "  text-align: right;\n",
              "  white-space: pre-wrap;\n",
              "}\n",
              "</style>\n",
              "<small>shape: (286, 14)</small><table border=\"1\" class=\"dataframe\"><thead><tr><th>name</th><th>color</th><th>rarity</th><th>num_seen</th><th>alsa</th><th>num_taken</th><th>ata</th><th>num_gp</th><th>pct_gp</th><th>gp_wr</th><th>num_oh</th><th>oh_wr</th><th>num_gih</th><th>gih_wr</th></tr><tr><td>str</td><td>str</td><td>str</td><td>i64</td><td>f64</td><td>i32</td><td>f64</td><td>i64</td><td>f64</td><td>f64</td><td>i64</td><td>f64</td><td>i64</td><td>f64</td></tr></thead><tbody><tr><td>&quot;Abandoned Campground&quot;</td><td>&quot;&quot;</td><td>&quot;common&quot;</td><td>178750</td><td>6.222853</td><td>29719</td><td>8.73983</td><td>114632</td><td>0.643404</td><td>0.546444</td><td>21350</td><td>0.559672</td><td>49376</td><td>0.547594</td></tr><tr><td>&quot;Abhorrent Oculus&quot;</td><td>&quot;U&quot;</td><td>&quot;mythic&quot;</td><td>6676</td><td>1.5003</td><td>4700</td><td>1.477447</td><td>26046</td><td>0.908476</td><td>0.561852</td><td>4255</td><td>0.564042</td><td>11287</td><td>0.593337</td></tr><tr><td>&quot;Acrobatic Cheerleader&quot;</td><td>&quot;W&quot;</td><td>&quot;common&quot;</td><td>308475</td><td>5.243501</td><td>44435</td><td>7.464701</td><td>188674</td><td>0.705265</td><td>0.541474</td><td>34177</td><td>0.541709</td><td>74443</td><td>0.532152</td></tr><tr><td>&quot;Altanak, the Thrice-Called&quot;</td><td>&quot;G&quot;</td><td>&quot;uncommon&quot;</td><td>76981</td><td>3.329211</td><td>18326</td><td>4.100786</td><td>87285</td><td>0.798662</td><td>0.538695</td><td>13393</td><td>0.513925</td><td>34525</td><td>0.539175</td></tr><tr><td>&quot;Anthropede&quot;</td><td>&quot;G&quot;</td><td>&quot;common&quot;</td><td>365380</td><td>7.353134</td><td>39706</td><td>10.868332</td><td>50634</td><td>0.214676</td><td>0.515444</td><td>8075</td><td>0.479876</td><td>20189</td><td>0.502353</td></tr><tr><td>&hellip;</td><td>&hellip;</td><td>&hellip;</td><td>&hellip;</td><td>&hellip;</td><td>&hellip;</td><td>&hellip;</td><td>&hellip;</td><td>&hellip;</td><td>&hellip;</td><td>&hellip;</td><td>&hellip;</td><td>&hellip;</td><td>&hellip;</td></tr><tr><td>&quot;Wildfire Wickerfolk&quot;</td><td>&quot;GR&quot;</td><td>&quot;uncommon&quot;</td><td>98040</td><td>4.385751</td><td>23947</td><td>5.165449</td><td>106557</td><td>0.725806</td><td>0.565331</td><td>18654</td><td>0.592366</td><td>42251</td><td>0.588696</td></tr><tr><td>&quot;Winter&#x27;s Intervention&quot;</td><td>&quot;B&quot;</td><td>&quot;common&quot;</td><td>318565</td><td>5.652937</td><td>42973</td><td>8.101389</td><td>157534</td><td>0.616868</td><td>0.531758</td><td>27552</td><td>0.537638</td><td>66921</td><td>0.548453</td></tr><tr><td>&quot;Winter, Misanthropic Guide&quot;</td><td>&quot;BGR&quot;</td><td>&quot;rare&quot;</td><td>52091</td><td>5.22668</td><td>6687</td><td>7.813818</td><td>7794</td><td>0.197207</td><td>0.479985</td><td>1261</td><td>0.462331</td><td>3183</td><td>0.479422</td></tr><tr><td>&quot;Withering Torment&quot;</td><td>&quot;B&quot;</td><td>&quot;uncommon&quot;</td><td>76237</td><td>3.054068</td><td>18064</td><td>3.861216</td><td>92468</td><td>0.875387</td><td>0.525858</td><td>15901</td><td>0.511729</td><td>39323</td><td>0.542024</td></tr><tr><td>&quot;Zimone, All-Questioning&quot;</td><td>&quot;GU&quot;</td><td>&quot;rare&quot;</td><td>20450</td><td>2.337457</td><td>10578</td><td>2.300246</td><td>54687</td><td>0.844378</td><td>0.560974</td><td>9510</td><td>0.654574</td><td>23576</td><td>0.616686</td></tr></tbody></table></div>"
            ]
          },
          "metadata": {},
          "execution_count": 6
        }
      ]
    },
    {
      "cell_type": "code",
      "source": [
        "#Use spells.download_data function to dowload/update data from 17lands\n",
        "def spells.download_data(expansion, update=False, overwrite=False):\n",
        "  #check if directory exists\n",
        "  root_dir_data=pathlib.Path('/root/.local/share/spells/external',expansion)\n",
        "  if not root_dir_data.exists():\n",
        "    !spells add {expansion}\n",
        "  else if update:\n",
        "    !spells refresh {expansion}\n",
        "    else:\n",
        "    print(f\"Directory '{root_dir_data}' already exists.\")\n",
        "    print(f\"to update set update=True\")\n",
        "  # copy directory to DATA_FOLDER\n",
        "  source_directory = root_dir_data\n",
        "  destination_directory = pathlib.Path(DATA_FOLDER,'spells_data',expansion)\n",
        "  try:\n",
        "    shutil.copytree(source_directory, destination_directory)\n",
        "    print(f\"Directory '{source_directory}' copied successfully to '{destination_directory}'.\")\n",
        "  except FileExistsError:\n",
        "    if overwrite:\n",
        "      shutil.rmtree(destination_directory)\n",
        "      shutil.copytree(source_directory, destination_directory)\n",
        "      print(f\"Directory '{source_directory}' copied successfully to '{destination_directory}'.\")\n",
        "    else:\n",
        "      print(f\"Error: Destination directory '{destination_directory}' already exists.\")\n",
        "      print(f\"to overwrite set overwrite=True\")\n",
        "  except OSError as e:\n",
        "    print(f\"An error occurred: {e}\")"
      ],
      "metadata": {
        "id": "FNaCzs-HxuXN"
      },
      "execution_count": null,
      "outputs": []
    },
    {
      "cell_type": "code",
      "source": [
        "!spells refresh {expansion}"
      ],
      "metadata": {
        "colab": {
          "base_uri": "https://localhost:8080/"
        },
        "id": "8btA1ttf2h0_",
        "outputId": "9ab0f27b-8d05-49db-fe7e-4197ad334cf4"
      },
      "execution_count": null,
      "outputs": [
        {
          "output_type": "stream",
          "name": "stdout",
          "text": [
            "  🪄 spells ✨ [data home]=/root/.local/share/spells/\n",
            "\n",
            "  🪄 refresh ✨ Downloading draft dataset from 17Lands.com\n",
            "\n",
            "  🪄 refresh ✨ Unzipping and transforming to parquet (this might take a few minutes)...\n",
            "  🪄 refresh ✨ Wrote file /root/.local/share/spells/external/DSK/DSK_PremierDraft_draft.parquet\n",
            "  🪄 clean ✨ Removed 1 files from local cache for set DSK\n",
            "  🪄 clean ✨ Removed local cache dir /root/.local/share/spells/cache/DSK\n",
            "  🪄 refresh ✨ Fetching card data from mtgjson.com and writing card file\n",
            "  🪄 refresh ✨ Wrote file /root/.local/share/spells/external/DSK/DSK_card.parquet\n",
            "  🪄 refresh ✨ Calculating set context\n",
            "  🪄 refresh ✨ Wrote file /root/.local/share/spells/external/DSK/DSK_PremierDraft_context.parquet\n",
            "  🪄 refresh ✨ Downloading game dataset from 17Lands.com\n",
            "\n",
            "  🪄 refresh ✨ Unzipping and transforming to parquet (this might take a few minutes)...\n",
            "  🪄 refresh ✨ Wrote file /root/.local/share/spells/external/DSK/DSK_PremierDraft_game.parquet\n",
            "  🪄 clean ✨ Removed 1 files from local cache for set DSK\n",
            "  🪄 clean ✨ Removed local cache dir /root/.local/share/spells/cache/DSK\n"
          ]
        }
      ]
    },
    {
      "cell_type": "code",
      "source": [],
      "metadata": {
        "id": "y_Yz5O1c3Tcr"
      },
      "execution_count": null,
      "outputs": []
    },
    {
      "cell_type": "code",
      "source": [
        "# Column lists\n",
        "gamefilename='game_data_public.'+ expansion +'.PremierDraft.csv.gz'\n",
        "game_file = pathlib.Path(DATA_FOLDER, expansion, gamefilename)\n",
        "column_list_with_basic_lands=pd.read_csv(game_file,compression='gzip',nrows=0).columns.tolist()\n",
        "column_list= [col for col in column_list_with_basic_lands if not col.endswith('Plains') and not col.endswith('Island')\n",
        "                                                    and not col.endswith('Swamp') and not col.endswith('Mountain') and not col.endswith('Forest')]\n",
        "deck_atributes= [col for col in column_list if col.startswith('deck_')]\n",
        "cardnames_list= [col.replace('deck_','') for col in deck_atributes]\n",
        "deck_atributes_dict= {col:col.replace('deck_','') for col in deck_atributes}\n",
        "sideboard_atributes= [col for col in column_list if col.startswith('sideboard_')]\n",
        "sideboard_atributes_dict= {col:col.replace('sideboard_','') for col in sideboard_atributes}\n",
        "opening_hand_atributes= [col for col in column_list if col.startswith('opening_hand_')]\n",
        "opening_hand_atributes_dict= {col:col.replace('opening_hand_','') for col in opening_hand_atributes}\n",
        "drawn_atributes= [col for col in column_list if col.startswith('drawn_')]\n",
        "drawn_atributes_dict= {col:col.replace('drawn_','') for col in drawn_atributes}\n",
        "tutored_atributes= [col for col in column_list if col.startswith('tutored_')]\n",
        "tutored_atributes_dict= {col:col.replace('tutored_','') for col in tutored_atributes}\n",
        "id_atributes= ['draft_id','build_index']\n",
        "user_atributes= [col for col in column_list if col.startswith('user_')]\n",
        "colors_atributes= [col for col in column_list if col.endswith('_colors')]\n",
        "won_atributes= ['won']\n",
        "game_atributes= ['game_time','match_number', 'game_number','rank', 'opp_rank', 'on_play', 'num_mulligans',\n",
        "                   'opp_num_mulligans', 'opp_colors', 'num_turns']\n",
        "other_atributes= ['expansion', 'event_type', 'draft_time']\n",
        "\n",
        "# Get columns that are not in any of the defined attribute lists\n",
        "remaining_columns = [col for col in column_list if col not in deck_atributes + sideboard_atributes + opening_hand_atributes + drawn_atributes + tutored_atributes + id_atributes + user_atributes + colors_atributes + won_atributes + game_atributes + other_atributes]\n",
        "\n",
        "# Print the remaining columns to see what they are\n",
        "print(\"Remaining columns:\", remaining_columns)"
      ],
      "metadata": {
        "colab": {
          "base_uri": "https://localhost:8080/"
        },
        "id": "TLl-mDn4wtc7",
        "outputId": "9ed196ca-03f4-4e69-c209-cbf7fd19cd8e"
      },
      "execution_count": null,
      "outputs": [
        {
          "output_type": "stream",
          "name": "stdout",
          "text": [
            "Remaining columns: []\n"
          ]
        }
      ]
    },
    {
      "cell_type": "code",
      "source": [
        "summon('DSK', columns=[\"num_won\", \"num_games\", \"game_wr\", \"deck_mana_value_avg\"], group_by=[\"main_colors\"], filter_spec={\"num_colors\": 2})"
      ],
      "metadata": {
        "colab": {
          "base_uri": "https://localhost:8080/",
          "height": 411
        },
        "id": "wJJwXoMu7xTE",
        "outputId": "08b57ffb-47e7-4f52-f550-8d49b39c7323"
      },
      "execution_count": null,
      "outputs": [
        {
          "output_type": "execute_result",
          "data": {
            "text/plain": [
              "shape: (10, 5)\n",
              "┌─────────────┬─────────┬───────────┬──────────┬─────────────────────┐\n",
              "│ main_colors ┆ num_won ┆ num_games ┆ game_wr  ┆ deck_mana_value_avg │\n",
              "│ ---         ┆ ---     ┆ ---       ┆ ---      ┆ ---                 │\n",
              "│ str         ┆ u32     ┆ u32       ┆ f64      ┆ f64                 │\n",
              "╞═════════════╪═════════╪═══════════╪══════════╪═════════════════════╡\n",
              "│ BG          ┆ 44439   ┆ 81880     ┆ 0.542733 ┆ 3.254661            │\n",
              "│ BR          ┆ 45661   ┆ 83146     ┆ 0.549167 ┆ 3.08492             │\n",
              "│ RG          ┆ 64217   ┆ 116043    ┆ 0.55339  ┆ 3.157359            │\n",
              "│ UB          ┆ 21108   ┆ 40863     ┆ 0.516555 ┆ 3.307596            │\n",
              "│ UG          ┆ 65217   ┆ 117510    ┆ 0.554991 ┆ 3.264369            │\n",
              "│ UR          ┆ 27177   ┆ 52177     ┆ 0.520862 ┆ 3.833714            │\n",
              "│ WB          ┆ 28484   ┆ 54755     ┆ 0.520208 ┆ 3.532457            │\n",
              "│ WG          ┆ 25615   ┆ 48718     ┆ 0.525781 ┆ 3.115914            │\n",
              "│ WR          ┆ 80186   ┆ 140873    ┆ 0.569208 ┆ 3.047614            │\n",
              "│ WU          ┆ 85745   ┆ 151906    ┆ 0.564461 ┆ 3.314106            │\n",
              "└─────────────┴─────────┴───────────┴──────────┴─────────────────────┘"
            ],
            "text/html": [
              "<div><style>\n",
              ".dataframe > thead > tr,\n",
              ".dataframe > tbody > tr {\n",
              "  text-align: right;\n",
              "  white-space: pre-wrap;\n",
              "}\n",
              "</style>\n",
              "<small>shape: (10, 5)</small><table border=\"1\" class=\"dataframe\"><thead><tr><th>main_colors</th><th>num_won</th><th>num_games</th><th>game_wr</th><th>deck_mana_value_avg</th></tr><tr><td>str</td><td>u32</td><td>u32</td><td>f64</td><td>f64</td></tr></thead><tbody><tr><td>&quot;BG&quot;</td><td>44439</td><td>81880</td><td>0.542733</td><td>3.254661</td></tr><tr><td>&quot;BR&quot;</td><td>45661</td><td>83146</td><td>0.549167</td><td>3.08492</td></tr><tr><td>&quot;RG&quot;</td><td>64217</td><td>116043</td><td>0.55339</td><td>3.157359</td></tr><tr><td>&quot;UB&quot;</td><td>21108</td><td>40863</td><td>0.516555</td><td>3.307596</td></tr><tr><td>&quot;UG&quot;</td><td>65217</td><td>117510</td><td>0.554991</td><td>3.264369</td></tr><tr><td>&quot;UR&quot;</td><td>27177</td><td>52177</td><td>0.520862</td><td>3.833714</td></tr><tr><td>&quot;WB&quot;</td><td>28484</td><td>54755</td><td>0.520208</td><td>3.532457</td></tr><tr><td>&quot;WG&quot;</td><td>25615</td><td>48718</td><td>0.525781</td><td>3.115914</td></tr><tr><td>&quot;WR&quot;</td><td>80186</td><td>140873</td><td>0.569208</td><td>3.047614</td></tr><tr><td>&quot;WU&quot;</td><td>85745</td><td>151906</td><td>0.564461</td><td>3.314106</td></tr></tbody></table></div>"
            ]
          },
          "metadata": {},
          "execution_count": 39
        }
      ]
    },
    {
      "cell_type": "code",
      "source": [
        "summon('DSK', columns=[\"num_won\", \"num_games\", \"game_wr\", \"deck_mana_value_avg\"], group_by=[\"main_colors\"], filter_spec={\"deck_Gremlin Tamer\": 1})"
      ],
      "metadata": {
        "colab": {
          "base_uri": "https://localhost:8080/",
          "height": 309
        },
        "id": "G4QwwC2Y_ftb",
        "outputId": "221f0fc1-fa53-4705-f3f7-2b3b2bb1cc49"
      },
      "execution_count": null,
      "outputs": [
        {
          "output_type": "error",
          "ename": "KeyError",
          "evalue": "'deck_Gremlin Tamer'",
          "traceback": [
            "\u001b[0;31m---------------------------------------------------------------------------\u001b[0m",
            "\u001b[0;31mKeyError\u001b[0m                                  Traceback (most recent call last)",
            "\u001b[0;32m/tmp/ipython-input-40-45797451.py\u001b[0m in \u001b[0;36m<cell line: 0>\u001b[0;34m()\u001b[0m\n\u001b[0;32m----> 1\u001b[0;31m \u001b[0msummon\u001b[0m\u001b[0;34m(\u001b[0m\u001b[0;34m'DSK'\u001b[0m\u001b[0;34m,\u001b[0m \u001b[0mcolumns\u001b[0m\u001b[0;34m=\u001b[0m\u001b[0;34m[\u001b[0m\u001b[0;34m\"num_won\"\u001b[0m\u001b[0;34m,\u001b[0m \u001b[0;34m\"num_games\"\u001b[0m\u001b[0;34m,\u001b[0m \u001b[0;34m\"game_wr\"\u001b[0m\u001b[0;34m,\u001b[0m \u001b[0;34m\"deck_mana_value_avg\"\u001b[0m\u001b[0;34m]\u001b[0m\u001b[0;34m,\u001b[0m \u001b[0mgroup_by\u001b[0m\u001b[0;34m=\u001b[0m\u001b[0;34m[\u001b[0m\u001b[0;34m\"main_colors\"\u001b[0m\u001b[0;34m]\u001b[0m\u001b[0;34m,\u001b[0m \u001b[0mfilter_spec\u001b[0m\u001b[0;34m=\u001b[0m\u001b[0;34m{\u001b[0m\u001b[0;34m\"deck_Gremlin Tamer\"\u001b[0m\u001b[0;34m:\u001b[0m \u001b[0;36m1\u001b[0m\u001b[0;34m}\u001b[0m\u001b[0;34m)\u001b[0m\u001b[0;34m\u001b[0m\u001b[0;34m\u001b[0m\u001b[0m\n\u001b[0m",
            "\u001b[0;32m/usr/local/lib/python3.11/dist-packages/spells/log.py\u001b[0m in \u001b[0;36mwrapped\u001b[0;34m(log_to_console, *args, **kwargs)\u001b[0m\n\u001b[1;32m     69\u001b[0m         \u001b[0;32mdef\u001b[0m \u001b[0mwrapped\u001b[0m\u001b[0;34m(\u001b[0m\u001b[0;34m*\u001b[0m\u001b[0margs\u001b[0m\u001b[0;34m,\u001b[0m \u001b[0mlog_to_console\u001b[0m\u001b[0;34m:\u001b[0m \u001b[0mint\u001b[0m \u001b[0;34m|\u001b[0m \u001b[0;32mNone\u001b[0m \u001b[0;34m=\u001b[0m \u001b[0mlevel\u001b[0m\u001b[0;34m,\u001b[0m \u001b[0;34m**\u001b[0m\u001b[0mkwargs\u001b[0m\u001b[0;34m)\u001b[0m\u001b[0;34m:\u001b[0m\u001b[0;34m\u001b[0m\u001b[0;34m\u001b[0m\u001b[0m\n\u001b[1;32m     70\u001b[0m             \u001b[0;32mif\u001b[0m \u001b[0mlog_to_console\u001b[0m \u001b[0;32mis\u001b[0m \u001b[0;32mNone\u001b[0m\u001b[0;34m:\u001b[0m\u001b[0;34m\u001b[0m\u001b[0;34m\u001b[0m\u001b[0m\n\u001b[0;32m---> 71\u001b[0;31m                 \u001b[0;32mreturn\u001b[0m \u001b[0mfunc\u001b[0m\u001b[0;34m(\u001b[0m\u001b[0;34m*\u001b[0m\u001b[0margs\u001b[0m\u001b[0;34m,\u001b[0m \u001b[0;34m**\u001b[0m\u001b[0mkwargs\u001b[0m\u001b[0;34m)\u001b[0m\u001b[0;34m\u001b[0m\u001b[0;34m\u001b[0m\u001b[0m\n\u001b[0m\u001b[1;32m     72\u001b[0m             \u001b[0;32mwith\u001b[0m \u001b[0mconsole_logging\u001b[0m\u001b[0;34m(\u001b[0m\u001b[0mlog_to_console\u001b[0m\u001b[0;34m)\u001b[0m\u001b[0;34m:\u001b[0m\u001b[0;34m\u001b[0m\u001b[0;34m\u001b[0m\u001b[0m\n\u001b[1;32m     73\u001b[0m                 \u001b[0;32mreturn\u001b[0m \u001b[0mfunc\u001b[0m\u001b[0;34m(\u001b[0m\u001b[0;34m*\u001b[0m\u001b[0margs\u001b[0m\u001b[0;34m,\u001b[0m \u001b[0;34m**\u001b[0m\u001b[0mkwargs\u001b[0m\u001b[0;34m)\u001b[0m\u001b[0;34m\u001b[0m\u001b[0;34m\u001b[0m\u001b[0m\n",
            "\u001b[0;32m/usr/local/lib/python3.11/dist-packages/spells/draft_data.py\u001b[0m in \u001b[0;36msummon\u001b[0;34m(set_code, columns, group_by, filter_spec, extensions, use_streaming, read_cache, write_cache, card_context, set_context, cdfs)\u001b[0m\n\u001b[1;32m    530\u001b[0m \u001b[0;34m\u001b[0m\u001b[0m\n\u001b[1;32m    531\u001b[0m         \u001b[0mcol_def_map\u001b[0m \u001b[0;34m=\u001b[0m \u001b[0m_hydrate_col_defs\u001b[0m\u001b[0;34m(\u001b[0m\u001b[0mcode\u001b[0m\u001b[0;34m,\u001b[0m \u001b[0mspecs\u001b[0m\u001b[0;34m,\u001b[0m \u001b[0mset_card_context\u001b[0m\u001b[0;34m,\u001b[0m \u001b[0mthis_set_context\u001b[0m\u001b[0;34m)\u001b[0m\u001b[0;34m\u001b[0m\u001b[0;34m\u001b[0m\u001b[0m\n\u001b[0;32m--> 532\u001b[0;31m         \u001b[0mm\u001b[0m \u001b[0;34m=\u001b[0m \u001b[0mmanifest\u001b[0m\u001b[0;34m.\u001b[0m\u001b[0mcreate\u001b[0m\u001b[0;34m(\u001b[0m\u001b[0mcol_def_map\u001b[0m\u001b[0;34m,\u001b[0m \u001b[0mcolumns\u001b[0m\u001b[0;34m,\u001b[0m \u001b[0mgroup_by\u001b[0m\u001b[0;34m,\u001b[0m \u001b[0mfilter_spec\u001b[0m\u001b[0;34m)\u001b[0m\u001b[0;34m\u001b[0m\u001b[0;34m\u001b[0m\u001b[0m\n\u001b[0m\u001b[1;32m    533\u001b[0m \u001b[0;34m\u001b[0m\u001b[0m\n\u001b[1;32m    534\u001b[0m         \u001b[0;32mif\u001b[0m \u001b[0mcdfs\u001b[0m \u001b[0;32mis\u001b[0m \u001b[0;32mNone\u001b[0m\u001b[0;34m:\u001b[0m\u001b[0;34m\u001b[0m\u001b[0;34m\u001b[0m\u001b[0m\n",
            "\u001b[0;32m/usr/local/lib/python3.11/dist-packages/spells/manifest.py\u001b[0m in \u001b[0;36mcreate\u001b[0;34m(col_def_map, columns, group_by, filter_spec)\u001b[0m\n\u001b[1;32m    190\u001b[0m             \u001b[0mbase_view_group_by\u001b[0m \u001b[0;34m=\u001b[0m \u001b[0mbase_view_group_by\u001b[0m\u001b[0;34m.\u001b[0m\u001b[0munion\u001b[0m\u001b[0;34m(\u001b[0m\u001b[0;34m{\u001b[0m\u001b[0mColName\u001b[0m\u001b[0;34m.\u001b[0m\u001b[0mNAME\u001b[0m\u001b[0;34m}\u001b[0m\u001b[0;34m)\u001b[0m\u001b[0;34m\u001b[0m\u001b[0;34m\u001b[0m\u001b[0m\n\u001b[1;32m    191\u001b[0m \u001b[0;34m\u001b[0m\u001b[0m\n\u001b[0;32m--> 192\u001b[0;31m     \u001b[0mview_cols\u001b[0m \u001b[0;34m=\u001b[0m \u001b[0m_resolve_view_cols\u001b[0m\u001b[0;34m(\u001b[0m\u001b[0mcol_set\u001b[0m\u001b[0;34m,\u001b[0m \u001b[0mcol_def_map\u001b[0m\u001b[0;34m)\u001b[0m\u001b[0;34m\u001b[0m\u001b[0;34m\u001b[0m\u001b[0m\n\u001b[0m\u001b[1;32m    193\u001b[0m \u001b[0;34m\u001b[0m\u001b[0m\n\u001b[1;32m    194\u001b[0m     \u001b[0mneeded_views\u001b[0m \u001b[0;34m=\u001b[0m \u001b[0mfrozenset\u001b[0m\u001b[0;34m(\u001b[0m\u001b[0;34m)\u001b[0m\u001b[0;34m\u001b[0m\u001b[0;34m\u001b[0m\u001b[0m\n",
            "\u001b[0;32m/usr/local/lib/python3.11/dist-packages/spells/manifest.py\u001b[0m in \u001b[0;36m_resolve_view_cols\u001b[0;34m(col_set, col_def_map)\u001b[0m\n\u001b[1;32m    101\u001b[0m         \u001b[0mnext_cols\u001b[0m \u001b[0;34m=\u001b[0m \u001b[0mfrozenset\u001b[0m\u001b[0;34m(\u001b[0m\u001b[0;34m)\u001b[0m\u001b[0;34m\u001b[0m\u001b[0;34m\u001b[0m\u001b[0m\n\u001b[1;32m    102\u001b[0m         \u001b[0;32mfor\u001b[0m \u001b[0mcol\u001b[0m \u001b[0;32min\u001b[0m \u001b[0munresolved_cols\u001b[0m\u001b[0;34m:\u001b[0m\u001b[0;34m\u001b[0m\u001b[0;34m\u001b[0m\u001b[0m\n\u001b[0;32m--> 103\u001b[0;31m             \u001b[0mcdef\u001b[0m \u001b[0;34m=\u001b[0m \u001b[0mcol_def_map\u001b[0m\u001b[0;34m[\u001b[0m\u001b[0mcol\u001b[0m\u001b[0;34m]\u001b[0m\u001b[0;34m\u001b[0m\u001b[0;34m\u001b[0m\u001b[0m\n\u001b[0m\u001b[1;32m    104\u001b[0m             \u001b[0;32mif\u001b[0m \u001b[0mcdef\u001b[0m\u001b[0;34m.\u001b[0m\u001b[0mcol_type\u001b[0m \u001b[0;34m==\u001b[0m \u001b[0mColType\u001b[0m\u001b[0;34m.\u001b[0m\u001b[0mPICK_SUM\u001b[0m\u001b[0;34m:\u001b[0m\u001b[0;34m\u001b[0m\u001b[0;34m\u001b[0m\u001b[0m\n\u001b[1;32m    105\u001b[0m                 view_resolution[View.DRAFT] = view_resolution.get(\n",
            "\u001b[0;31mKeyError\u001b[0m: 'deck_Gremlin Tamer'"
          ]
        }
      ]
    },
    {
      "cell_type": "code",
      "source": [
        "'deck_Gremlin Tamer' in deck_atributes"
      ],
      "metadata": {
        "colab": {
          "base_uri": "https://localhost:8080/"
        },
        "id": "bytyXAjZ9Tzz",
        "outputId": "18549cd9-2365-4200-fb8d-e34e9139acd3"
      },
      "execution_count": null,
      "outputs": [
        {
          "output_type": "execute_result",
          "data": {
            "text/plain": [
              "True"
            ]
          },
          "metadata": {},
          "execution_count": 38
        }
      ]
    },
    {
      "cell_type": "code",
      "source": [],
      "metadata": {
        "id": "S5k1N4_a9Yz7"
      },
      "execution_count": null,
      "outputs": []
    }
  ]
}